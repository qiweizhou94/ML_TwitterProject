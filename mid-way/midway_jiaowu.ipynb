{
 "cells": [
  {
   "cell_type": "markdown",
   "metadata": {},
   "source": [
    "# Bot nor notbot twitter accounts Classification"
   ]
  },
  {
   "cell_type": "markdown",
   "metadata": {},
   "source": [
    "In this project, we would like to detect the twitter bots using machine learning algorithms, such as Naive Bayes, Random Forest, Logistic Regression. "
   ]
  },
  {
   "cell_type": "code",
   "execution_count": 8,
   "metadata": {
    "collapsed": false,
    "scrolled": true
   },
   "outputs": [
    {
     "data": {
      "text/html": [
       "<div>\n",
       "<table border=\"1\" class=\"dataframe\">\n",
       "  <thead>\n",
       "    <tr style=\"text-align: right;\">\n",
       "      <th></th>\n",
       "      <th>id</th>\n",
       "      <th>id_str</th>\n",
       "      <th>screen_name</th>\n",
       "      <th>location</th>\n",
       "      <th>description</th>\n",
       "      <th>url</th>\n",
       "      <th>followers_count</th>\n",
       "      <th>friends_count</th>\n",
       "      <th>listedcount</th>\n",
       "      <th>created_at</th>\n",
       "      <th>favourites_count</th>\n",
       "      <th>verified</th>\n",
       "      <th>statuses_count</th>\n",
       "      <th>lang</th>\n",
       "      <th>status</th>\n",
       "      <th>default_profile</th>\n",
       "      <th>default_profile_image</th>\n",
       "      <th>has_extended_profile</th>\n",
       "      <th>name</th>\n",
       "      <th>bot</th>\n",
       "    </tr>\n",
       "  </thead>\n",
       "  <tbody>\n",
       "    <tr>\n",
       "      <th>0</th>\n",
       "      <td>3.982732e+09</td>\n",
       "      <td>3982731976</td>\n",
       "      <td>mcgucket_bot</td>\n",
       "      <td>NaN</td>\n",
       "      <td>A bot that tweets every line said by Fiddlefor...</td>\n",
       "      <td>NaN</td>\n",
       "      <td>1129</td>\n",
       "      <td>7</td>\n",
       "      <td>2</td>\n",
       "      <td>Sat Oct 17 22:35:31 +0000 2015</td>\n",
       "      <td>0</td>\n",
       "      <td>False</td>\n",
       "      <td>23557</td>\n",
       "      <td>en</td>\n",
       "      <td>{'retweeted': False, 'is_quote_status': False,...</td>\n",
       "      <td>False</td>\n",
       "      <td>False</td>\n",
       "      <td>False</td>\n",
       "      <td>McGucket bot</td>\n",
       "      <td>1</td>\n",
       "    </tr>\n",
       "    <tr>\n",
       "      <th>1</th>\n",
       "      <td>8.410000e+17</td>\n",
       "      <td>8.41E+17</td>\n",
       "      <td>BowieK66</td>\n",
       "      <td>NaN</td>\n",
       "      <td>NaN</td>\n",
       "      <td>NaN</td>\n",
       "      <td>0</td>\n",
       "      <td>22</td>\n",
       "      <td>0</td>\n",
       "      <td>13/03/2017 22:21</td>\n",
       "      <td>0</td>\n",
       "      <td>False</td>\n",
       "      <td>1</td>\n",
       "      <td>en</td>\n",
       "      <td>Status(_api=&lt;tweepy.api.API object at 0x101927...</td>\n",
       "      <td>True</td>\n",
       "      <td>True</td>\n",
       "      <td>False</td>\n",
       "      <td>MJ Kuhn</td>\n",
       "      <td>1</td>\n",
       "    </tr>\n",
       "  </tbody>\n",
       "</table>\n",
       "</div>"
      ],
      "text/plain": [
       "             id      id_str   screen_name location  \\\n",
       "0  3.982732e+09  3982731976  mcgucket_bot      NaN   \n",
       "1  8.410000e+17    8.41E+17      BowieK66      NaN   \n",
       "\n",
       "                                         description  url  followers_count  \\\n",
       "0  A bot that tweets every line said by Fiddlefor...  NaN             1129   \n",
       "1                                                NaN  NaN                0   \n",
       "\n",
       "   friends_count  listedcount                      created_at  \\\n",
       "0              7            2  Sat Oct 17 22:35:31 +0000 2015   \n",
       "1             22            0                13/03/2017 22:21   \n",
       "\n",
       "   favourites_count verified  statuses_count lang  \\\n",
       "0                 0    False           23557   en   \n",
       "1                 0    False               1   en   \n",
       "\n",
       "                                              status default_profile  \\\n",
       "0  {'retweeted': False, 'is_quote_status': False,...           False   \n",
       "1  Status(_api=<tweepy.api.API object at 0x101927...            True   \n",
       "\n",
       "  default_profile_image has_extended_profile          name  bot  \n",
       "0                 False                False  McGucket bot    1  \n",
       "1                  True                False       MJ Kuhn    1  "
      ]
     },
     "execution_count": 8,
     "metadata": {},
     "output_type": "execute_result"
    }
   ],
   "source": [
    "import pandas as pd\n",
    "import numpy as np\n",
    "import random\n",
    "import matplotlib.pyplot as plt\n",
    "import csv\n",
    "from pandas import Series\n",
    "%matplotlib inline\n",
    "path_to_insults = 'data/'\n",
    "bots_data = pd.read_csv(path_to_insults + 'bots_data.csv')\n",
    "nonbots_data = pd.read_csv(path_to_insults + 'nonbots_data.csv')\n",
    "bots_data.head(2)"
   ]
  },
  {
   "cell_type": "code",
   "execution_count": 9,
   "metadata": {
    "collapsed": false
   },
   "outputs": [
    {
     "name": "stdout",
     "output_type": "stream",
     "text": [
      "(1056, 20)\n",
      "(1176, 20)\n"
     ]
    }
   ],
   "source": [
    "print(bots_data.shape)\n",
    "print(nonbots_data.shape)"
   ]
  },
  {
   "cell_type": "code",
   "execution_count": 10,
   "metadata": {
    "collapsed": false,
    "scrolled": true
   },
   "outputs": [
    {
     "data": {
      "image/png": "[encoded data removed]",
      "text/plain": [
       "<matplotlib.figure.Figure at 0x9fa5b70>"
      ]
     },
     "metadata": {},
     "output_type": "display_data"
    }
   ],
   "source": [
    "# bot has 80 counts of zero followers_count, nonbot has only 4 count of zero followers_count\n",
    "x = nonbots_data['followers_count']\n",
    "y = bots_data['followers_count']\n",
    "bins = np.linspace(-0.5,0.5,6)\n",
    "plt.hist(x, bins,alpha=0.5,color='g',label='bot = 0')\n",
    "plt.hist(y, bins,alpha=0.5,color ='b',label='bot = 1')\n",
    "plt.ylabel('counts')\n",
    "plt.xlabel('followers_count')\n",
    "#plt.axis([0,5,0,100])\n",
    "plt.xticks([0,0])\n",
    "plt.legend(loc='upper right')\n",
    "plt.show()"
   ]
  },
  {
   "cell_type": "code",
   "execution_count": 11,
   "metadata": {
    "collapsed": false
   },
   "outputs": [
    {
     "data": {
      "image/png": "[encoded data removed]",
      "text/plain": [
       "<matplotlib.figure.Figure at 0x9379940>"
      ]
     },
     "metadata": {},
     "output_type": "display_data"
    }
   ],
   "source": [
    "# in this range, bot has 188 counts of followers_count, nonbot has only 48 count offollowers_count\n",
    "x = nonbots_data['followers_count']\n",
    "y = bots_data['followers_count']\n",
    "bins = np.linspace(0,1000,6)\n",
    "plt.hist(x, bins,alpha=0.5,facecolor='g',label='bot = 0')\n",
    "plt.hist(y, bins,alpha=0.5,facecolor ='b',label='bot = 1')\n",
    "plt.ylabel('counts')\n",
    "plt.xlabel('followers_count')\n",
    "#plt.axis([0,1000,0,100])\n",
    "plt.legend(loc='upper right')\n",
    "plt.show()"
   ]
  },
  {
   "cell_type": "code",
   "execution_count": 12,
   "metadata": {
    "collapsed": false
   },
   "outputs": [
    {
     "data": {
      "image/png": "[encoded data removed]",
      "text/plain": [
       "<matplotlib.figure.Figure at 0xb21b128>"
      ]
     },
     "metadata": {},
     "output_type": "display_data"
    }
   ],
   "source": [
    "# in this range, bot has 275 counts of followers_count, nonbot has only 205 count offollowers_count\n",
    "x = nonbots_data['followers_count']\n",
    "y = bots_data['followers_count']\n",
    "bins = np.linspace(1000,10000,4)\n",
    "plt.hist(x, bins,alpha=0.5,facecolor='g',label='bot = 0')\n",
    "plt.hist(y, bins,alpha=0.5,facecolor ='b',label='bot = 1')\n",
    "plt.ylabel('counts')\n",
    "plt.xlabel('followers_count')\n",
    "#plt.axis([10,100,0,130])\n",
    "plt.legend(loc='upper right')\n",
    "plt.show()"
   ]
  },
  {
   "cell_type": "code",
   "execution_count": 13,
   "metadata": {
    "collapsed": false
   },
   "outputs": [
    {
     "data": {
      "image/png": "[encoded data removed]",
      "text/plain": [
       "<matplotlib.figure.Figure at 0xb5703c8>"
      ]
     },
     "metadata": {},
     "output_type": "display_data"
    }
   ],
   "source": [
    "# in this range, bot has 50 counts of followers_count, nonbot has only 140 count offollowers_count\n",
    "x = nonbots_data['followers_count']\n",
    "y = bots_data['followers_count']\n",
    "bins = np.linspace(10000,10000000,6)\n",
    "plt.hist(x, bins,alpha=0.75,facecolor='g',label='bot = 0')\n",
    "plt.hist(y, bins,alpha=0.75,facecolor ='b',label='bot = 1')\n",
    "plt.ylabel('counts')\n",
    "plt.xlabel('followers_count')\n",
    "plt.axis([10000,11000000,0,400])\n",
    "plt.legend(loc='upper right')\n",
    "plt.show()"
   ]
  },
  {
   "cell_type": "code",
   "execution_count": 14,
   "metadata": {
    "collapsed": false
   },
   "outputs": [
    {
     "data": {
      "image/png": "[encoded data removed]",
      "text/plain": [
       "<matplotlib.figure.Figure at 0xb85e8d0>"
      ]
     },
     "metadata": {},
     "output_type": "display_data"
    }
   ],
   "source": [
    "# in this range, bot has 6 counts of followers_count, nonbot has only 160 count offollowers_count\n",
    "x = nonbots_data['followers_count']\n",
    "y = bots_data['followers_count']\n",
    "bins = np.linspace(100000,1000000,5)\n",
    "plt.hist(x, bins,alpha=0.75,facecolor='g',label='bot = 0')\n",
    "plt.hist(y, bins,alpha=0.75,facecolor ='b',label='bot = 1')\n",
    "plt.ylabel('counts')\n",
    "plt.xlabel('followers_count')\n",
    "plt.axis([100000,1000000,0,90])\n",
    "plt.legend(loc='upper right')\n",
    "plt.show()"
   ]
  },
  {
   "cell_type": "code",
   "execution_count": 15,
   "metadata": {
    "collapsed": false
   },
   "outputs": [
    {
     "data": {
      "image/png": "[encoded data removed]",
      "text/plain": [
       "<matplotlib.figure.Figure at 0xbfa2d30>"
      ]
     },
     "metadata": {},
     "output_type": "display_data"
    }
   ],
   "source": [
    "# bot has 215 counts of zero friends_count, nonbot has only 9 count of zero friends_count\n",
    "x = nonbots_data['friends_count']\n",
    "y = bots_data['friends_count']\n",
    "bins = np.linspace(-0.5,0.5,6)\n",
    "plt.hist(x, bins,alpha=0.5,facecolor = 'g',label='bot = 0')\n",
    "plt.hist(y, bins,alpha=0.5,facecolor ='b',label='bot = 1')\n",
    "plt.ylabel('counts')\n",
    "plt.xlabel('friends_count')\n",
    "#plt.axis([0,5,0,250])\n",
    "plt.xticks([0,0])\n",
    "plt.legend(loc='upper right')\n",
    "plt.show()"
   ]
  },
  {
   "cell_type": "code",
   "execution_count": 16,
   "metadata": {
    "collapsed": false
   },
   "outputs": [
    {
     "data": {
      "image/png": "[encoded data removed]",
      "text/plain": [
       "<matplotlib.figure.Figure at 0xb765588>"
      ]
     },
     "metadata": {},
     "output_type": "display_data"
    }
   ],
   "source": [
    "# in this range, bot has 275 counts of friends_count, nonbot has only 25 count of friends_count\n",
    "x = nonbots_data['friends_count'] \n",
    "y = bots_data['friends_count']\n",
    "bins = np.linspace(0,6,5)\n",
    "plt.hist(x, bins,alpha=0.5,color = 'g',label='bot = 0')\n",
    "plt.hist(y, bins,alpha=0.5,color ='b',label='bot = 1')\n",
    "plt.ylabel('counts')\n",
    "plt.xlabel('friends_count')\n",
    "plt.axis([0,6,0,400])\n",
    "plt.legend(loc='upper right')\n",
    "plt.show()"
   ]
  },
  {
   "cell_type": "code",
   "execution_count": 17,
   "metadata": {
    "collapsed": false
   },
   "outputs": [
    {
     "data": {
      "image/png": "[encoded data removed]",
      "text/plain": [
       "<matplotlib.figure.Figure at 0xba25b38>"
      ]
     },
     "metadata": {},
     "output_type": "display_data"
    }
   ],
   "source": [
    "# in this range, bot has 325 counts offriends_count, nonbot has 875 count of friends_count\n",
    "x = nonbots_data['friends_count'] \n",
    "y = bots_data['friends_count']\n",
    "bins = np.linspace(40,1600,8)\n",
    "plt.hist(x, bins,alpha=0.5,color = 'g',label='bot = 0')\n",
    "plt.hist(y, bins,alpha=0.5,color ='b',label='bot = 1')\n",
    "plt.ylabel('counts')\n",
    "plt.xlabel('friends_count')\n",
    "plt.axis([40,1600,0,500])\n",
    "plt.legend(loc='upper right')\n",
    "plt.show()"
   ]
  },
  {
   "cell_type": "code",
   "execution_count": 18,
   "metadata": {
    "collapsed": false
   },
   "outputs": [
    {
     "data": {
      "image/png": "[encoded data removed]",
      "text/plain": [
       "<matplotlib.figure.Figure at 0xb46b160>"
      ]
     },
     "metadata": {},
     "output_type": "display_data"
    }
   ],
   "source": [
    "# in this range, bot has 85 counts offriends_count, nonbot has 150 count of friends_count\n",
    "x = nonbots_data['friends_count'] \n",
    "y = bots_data['friends_count']\n",
    "bins = np.linspace(1600,10000,4)\n",
    "plt.hist(x, bins,alpha=0.5,color = 'g',label='bot = 0')\n",
    "plt.hist(y, bins,alpha=0.5,color ='b',label='bot = 1')\n",
    "plt.ylabel('counts')\n",
    "plt.xlabel('friends_count')\n",
    "plt.axis([1600,10000,0,120])\n",
    "plt.legend(loc='upper right')\n",
    "plt.show()"
   ]
  },
  {
   "cell_type": "code",
   "execution_count": 19,
   "metadata": {
    "collapsed": false
   },
   "outputs": [
    {
     "data": {
      "image/png": "[encoded data removed]",
      "text/plain": [
       "<matplotlib.figure.Figure at 0x9df3f60>"
      ]
     },
     "metadata": {},
     "output_type": "display_data"
    }
   ],
   "source": [
    "# in this range, bot has 85 counts offriends_count, nonbot has 150 count of friends_count\n",
    "x = nonbots_data['friends_count'] \n",
    "y = bots_data['friends_count']\n",
    "bins = np.linspace(2000,10000, 5)\n",
    "plt.hist(x, bins,alpha=0.5,color = 'g',label='bot = 0')\n",
    "plt.hist(y, bins,alpha=0.5,color ='b',label='bot = 1')\n",
    "plt.ylabel('counts')\n",
    "plt.xlabel('friends_count')\n",
    "#plt.axis([1600,10000,0,120])\n",
    "plt.legend(loc='upper right')\n",
    "plt.show()"
   ]
  },
  {
   "cell_type": "code",
   "execution_count": 20,
   "metadata": {
    "collapsed": false
   },
   "outputs": [
    {
     "data": {
      "image/png": "[encoded data removed]",
      "text/plain": [
       "<matplotlib.figure.Figure at 0xb4a5438>"
      ]
     },
     "metadata": {},
     "output_type": "display_data"
    }
   ],
   "source": [
    "# bot has 285 counts of zero listed_count, nonbot has 220 count of zero listed_count\n",
    "x = nonbots_data['listedcount']\n",
    "y = bots_data['listedcount']\n",
    "bins = np.linspace(-0.5,0.5,6)\n",
    "plt.hist(x, bins,alpha=0.5,color = 'g',label='bot = 0')\n",
    "plt.hist(y, bins,alpha=0.5,color ='b',label='bot = 1')\n",
    "plt.ylabel('counts')\n",
    "plt.xlabel('listedcount')\n",
    "plt.xticks([0,0])\n",
    "plt.legend(loc='upper right')\n",
    "plt.show()"
   ]
  },
  {
   "cell_type": "code",
   "execution_count": 21,
   "metadata": {
    "collapsed": false
   },
   "outputs": [
    {
     "data": {
      "image/png": "[encoded data removed]",
      "text/plain": [
       "<matplotlib.figure.Figure at 0xb316710>"
      ]
     },
     "metadata": {},
     "output_type": "display_data"
    }
   ],
   "source": [
    "# in this range, bot has 525 counts of listed_count, nonbot has 200 counts of listed_count\n",
    "x = nonbots_data['listedcount']\n",
    "y = bots_data['listedcount']\n",
    "bins = np.linspace(4,60,4)\n",
    "plt.hist(x, bins,alpha=0.5,color = 'g',label='bot = 0')\n",
    "plt.hist(y, bins,alpha=0.5,color ='b',label='bot = 1')\n",
    "plt.ylabel('counts')\n",
    "plt.xlabel('listedcount')\n",
    "plt.axis([4,60,0,400])\n",
    "plt.legend(loc='upper right')\n",
    "plt.show()"
   ]
  },
  {
   "cell_type": "code",
   "execution_count": 22,
   "metadata": {
    "collapsed": false
   },
   "outputs": [
    {
     "data": {
      "image/png": "[encoded data removed]",
      "text/plain": [
       "<matplotlib.figure.Figure at 0xb8a7358>"
      ]
     },
     "metadata": {},
     "output_type": "display_data"
    }
   ],
   "source": [
    "# in this range, bot has 50 counts of listed_count, nonbot has 240 counts of listed_count\n",
    "x = nonbots_data['listedcount']\n",
    "y = bots_data['listedcount']\n",
    "bins = np.linspace(200,2600,6)\n",
    "plt.hist(x, bins,alpha=0.5,color = 'g',label='bot = 0')\n",
    "plt.hist(y, bins,alpha=0.5,color ='b',label='bot = 1')\n",
    "plt.ylabel('counts')\n",
    "plt.xlabel('listedcount')\n",
    "#plt.axis([200,2600,0,250])\n",
    "plt.legend(loc='upper right')\n",
    "plt.show()"
   ]
  },
  {
   "cell_type": "code",
   "execution_count": 23,
   "metadata": {
    "collapsed": false,
    "scrolled": true
   },
   "outputs": [
    {
     "data": {
      "image/png": "[encoded data removed]",
      "text/plain": [
       "<matplotlib.figure.Figure at 0xc3b65f8>"
      ]
     },
     "metadata": {},
     "output_type": "display_data"
    }
   ],
   "source": [
    "# in this range, bot has 50 counts of listed_count, nonbot has 240 counts of listed_count\n",
    "x = nonbots_data['listedcount']\n",
    "y = bots_data['listedcount']\n",
    "bins = np.linspace(200,10000,6)\n",
    "plt.hist(x, bins,alpha=0.5,color = 'g',label='bot = 0')\n",
    "plt.hist(y, bins,alpha=0.5,color ='b',label='bot = 1')\n",
    "plt.ylabel('counts')\n",
    "plt.xlabel('listedcount')\n",
    "#plt.axis([200,2600,0,250])\n",
    "plt.legend(loc='upper right')\n",
    "plt.show()"
   ]
  },
  {
   "cell_type": "code",
   "execution_count": 24,
   "metadata": {
    "collapsed": false
   },
   "outputs": [
    {
     "data": {
      "image/png": "[encoded data removed]",
      "text/plain": [
       "<matplotlib.figure.Figure at 0xc6052b0>"
      ]
     },
     "metadata": {},
     "output_type": "display_data"
    }
   ],
   "source": [
    "# in this range, bot has 0 counts of listed_count, nonbot has 92 counts of listed_count\n",
    "x = nonbots_data['listedcount']\n",
    "y = bots_data['listedcount']\n",
    "bins = np.linspace(16000,50000,10)\n",
    "plt.hist(x, bins,alpha=0.5,color = 'g',label='bot = 0')\n",
    "plt.hist(y, bins,alpha=0.5,color ='b',label='bot = 1')\n",
    "plt.ylabel('counts')\n",
    "plt.xlabel('listedcount')\n",
    "#plt.axis([20000,300000,0,90])\n",
    "plt.legend(loc='upper right')\n",
    "plt.show()"
   ]
  },
  {
   "cell_type": "code",
   "execution_count": 25,
   "metadata": {
    "collapsed": false
   },
   "outputs": [
    {
     "data": {
      "image/png": "[encoded data removed]",
      "text/plain": [
       "<matplotlib.figure.Figure at 0xc619518>"
      ]
     },
     "metadata": {},
     "output_type": "display_data"
    }
   ],
   "source": [
    "# bot has 480 counts of zero listed_count, nonbot has  120 count of zero listed_count\n",
    "x = nonbots_data['favourites_count']\n",
    "y = bots_data['favourites_count']\n",
    "bins =np.linspace(-0.5,0.5, 6)\n",
    "plt.hist(x, bins,alpha=0.5,color = 'g',label='bot = 0')\n",
    "plt.hist(y, bins,alpha=0.5,color ='b',label='bot = 1')\n",
    "plt.ylabel('counts')\n",
    "plt.xlabel('favourites_count')\n",
    "plt.xticks([0,0])\n",
    "plt.legend(loc='upper right')\n",
    "plt.show()"
   ]
  },
  {
   "cell_type": "code",
   "execution_count": 26,
   "metadata": {
    "collapsed": false
   },
   "outputs": [
    {
     "data": {
      "image/png": "[encoded data removed]",
      "text/plain": [
       "<matplotlib.figure.Figure at 0xc5574a8>"
      ]
     },
     "metadata": {},
     "output_type": "display_data"
    }
   ],
   "source": [
    "# bot has 188 counts of zero listed_count, nonbot has  85 count of zero listed_count\n",
    "x = nonbots_data['favourites_count']\n",
    "y = bots_data['favourites_count']\n",
    "bins = np.linspace(1,5,5)\n",
    "plt.hist(x, bins,alpha=0.5,color = 'g',label='bot = 0')\n",
    "plt.hist(y, bins,alpha=0.5,color ='b',label='bot = 1')\n",
    "plt.ylabel('counts')\n",
    "plt.xlabel('favourites_count')\n",
    "plt.axis([0,6,0,200])\n",
    "plt.legend(loc='upper right')\n",
    "plt.show()"
   ]
  },
  {
   "cell_type": "code",
   "execution_count": 27,
   "metadata": {
    "collapsed": false
   },
   "outputs": [
    {
     "data": {
      "image/png": "[encoded data removed]",
      "text/plain": [
       "<matplotlib.figure.Figure at 0xc36a4e0>"
      ]
     },
     "metadata": {},
     "output_type": "display_data"
    }
   ],
   "source": [
    "# bot has 188 counts of zero listed_count, nonbot has  85 count of zero listed_count\n",
    "x = nonbots_data['favourites_count']\n",
    "y = bots_data['favourites_count']\n",
    "bins = np.linspace(0,5,4)\n",
    "plt.hist(x, bins,alpha=0.5,color = 'g',label='bot = 0')\n",
    "plt.hist(y, bins,alpha=0.5,color ='b',label='bot = 1')\n",
    "plt.ylabel('counts')\n",
    "plt.xlabel('favourites_count')\n",
    "#plt.axis([0,5,0,140])\n",
    "plt.legend(loc='upper right')\n",
    "plt.show()"
   ]
  },
  {
   "cell_type": "code",
   "execution_count": 28,
   "metadata": {
    "collapsed": false
   },
   "outputs": [
    {
     "data": {
      "image/png": "[encoded data removed]",
      "text/plain": [
       "<matplotlib.figure.Figure at 0xb442fd0>"
      ]
     },
     "metadata": {},
     "output_type": "display_data"
    }
   ],
   "source": [
    "# bot has 85 counts of zero listed_count, nonbot has 360 count of zero listed_count\n",
    "x = nonbots_data['favourites_count']\n",
    "y = bots_data['favourites_count']\n",
    "bins = np.linspace(150,2000,4)\n",
    "plt.hist(x, bins,alpha=0.5,color = 'g',label='bot = 0')\n",
    "plt.hist(y, bins,alpha=0.5,color ='b',label='bot = 1')\n",
    "plt.ylabel('counts')\n",
    "plt.xlabel('favourites_count')\n",
    "plt.axis([150,2000,0,250])\n",
    "plt.legend(loc='upper right')\n",
    "plt.show()"
   ]
  },
  {
   "cell_type": "code",
   "execution_count": 29,
   "metadata": {
    "collapsed": false
   },
   "outputs": [
    {
     "data": {
      "image/png": "[encoded data removed]",
      "text/plain": [
       "<matplotlib.figure.Figure at 0xc35bbe0>"
      ]
     },
     "metadata": {},
     "output_type": "display_data"
    }
   ],
   "source": [
    "# bot has 85 counts of zero listed_count, nonbot has 360 count of zero listed_count\n",
    "x = nonbots_data['favourites_count']\n",
    "y = bots_data['favourites_count']\n",
    "bins = np.linspace(150,40000,6)\n",
    "plt.hist(x, bins,alpha=0.5,color = 'g',label='bot = 0')\n",
    "plt.hist(y, bins,alpha=0.5,color ='b',label='bot = 1')\n",
    "plt.ylabel('counts')\n",
    "plt.xlabel('favourites_count')\n",
    "#plt.axis([150,2000,0,250])\n",
    "plt.legend(loc='upper right')\n",
    "plt.show()"
   ]
  },
  {
   "cell_type": "code",
   "execution_count": 30,
   "metadata": {
    "collapsed": false
   },
   "outputs": [
    {
     "data": {
      "image/png": "[encoded data removed]",
      "text/plain": [
       "<matplotlib.figure.Figure at 0xa125fd0>"
      ]
     },
     "metadata": {},
     "output_type": "display_data"
    }
   ],
   "source": [
    "# bot has 25 counts of zero listed_count, nonbot has  265 count of zero listed_count\n",
    "x = nonbots_data['favourites_count']\n",
    "y = bots_data['favourites_count']\n",
    "bins = np.linspace(2000,40000,4)\n",
    "plt.hist(x, bins,alpha=0.5,color = 'g',label='bot = 0')\n",
    "plt.hist(y, bins,alpha=0.5,color ='b',label='bot = 1')\n",
    "plt.ylabel('counts')\n",
    "plt.xlabel('favourites_count')\n",
    "plt.axis([2000,40000,0,250])\n",
    "plt.legend(loc='upper right')\n",
    "plt.show()"
   ]
  },
  {
   "cell_type": "code",
   "execution_count": 31,
   "metadata": {
    "collapsed": false
   },
   "outputs": [
    {
     "data": {
      "image/png": "[encoded data removed]",
      "text/plain": [
       "<matplotlib.figure.Figure at 0xb1736a0>"
      ]
     },
     "metadata": {},
     "output_type": "display_data"
    }
   ],
   "source": [
    "#verified or not\n",
    "x = nonbots_data['verified']*1\n",
    "y = bots_data['verified']*1\n",
    "bins = np.linspace(-0.5,1.5,7)\n",
    "plt.hist(x, bins,alpha=0.5,color = 'g',label='bot = 0')\n",
    "plt.hist(y, bins,alpha=0.5,color ='b',label='bot = 1')\n",
    "plt.ylabel('counts')\n",
    "plt.xlabel('verified')\n",
    "plt.xticks([0,1])\n",
    "plt.axis(align = \"center\", width = 0.25)\n",
    "#plt.axis([0,2,0,1200])\n",
    "plt.xticks([0,1])\n",
    "plt.legend(loc='upper right')\n",
    "plt.show()"
   ]
  },
  {
   "cell_type": "code",
   "execution_count": 32,
   "metadata": {
    "collapsed": false
   },
   "outputs": [
    {
     "data": {
      "image/png": "[encoded data removed]",
      "text/plain": [
       "<matplotlib.figure.Figure at 0xb388080>"
      ]
     },
     "metadata": {},
     "output_type": "display_data"
    }
   ],
   "source": [
    "#verified or not\n",
    "x = nonbots_data['default_profile']*1\n",
    "y = bots_data['default_profile']*1\n",
    "bins = np.linspace(-0.5,1.5,7)\n",
    "plt.hist(x, bins,alpha=0.5,color = 'g',label='bot = 0')\n",
    "plt.hist(y, bins,alpha=0.5,color ='b',label='bot = 1')\n",
    "plt.ylabel('counts')\n",
    "plt.xlabel('default_profile')\n",
    "#plt.axis([0,2,0,250])\n",
    "plt.xticks([0,1])\n",
    "plt.legend(loc='upper right')\n",
    "plt.show()"
   ]
  },
  {
   "cell_type": "code",
   "execution_count": 33,
   "metadata": {
    "collapsed": false,
    "scrolled": true
   },
   "outputs": [
    {
     "data": {
      "image/png": "[encoded data removed]",
      "text/plain": [
       "<matplotlib.figure.Figure at 0xb2122b0>"
      ]
     },
     "metadata": {},
     "output_type": "display_data"
    }
   ],
   "source": [
    "#have default_profile_image or not\n",
    "x = nonbots_data['default_profile_image']*1\n",
    "y = bots_data['default_profile_image']*1\n",
    "bins = np.linspace(-0.5,1.5,7)\n",
    "plt.hist(x, bins,alpha=0.5,color = 'g',label='bot = 0')\n",
    "plt.hist(y, bins,alpha=0.5,color ='b',label='bot = 1')\n",
    "plt.ylabel('counts')\n",
    "plt.xlabel('default_profile_image')\n",
    "#plt.axis([0,2,0,250])\n",
    "plt.xticks([0,1])\n",
    "plt.legend(loc='upper right')\n",
    "plt.show()"
   ]
  },
  {
   "cell_type": "code",
   "execution_count": 34,
   "metadata": {
    "collapsed": false
   },
   "outputs": [
    {
     "data": {
      "image/png": "[encoded data removed]",
      "text/plain": [
       "<matplotlib.figure.Figure at 0xbfb6710>"
      ]
     },
     "metadata": {},
     "output_type": "display_data"
    }
   ],
   "source": [
    "#have default_profile_image or not\n",
    "x = nonbots_data['has_extended_profile']*1\n",
    "y = bots_data['has_extended_profile']*1\n",
    "bins = np.linspace(-0.4,1.2,7)\n",
    "plt.hist(x, bins,alpha=0.5,color = 'g',label='bot = 0')\n",
    "plt.hist(y, bins,alpha=0.5,color ='b',label='bot = 1')\n",
    "plt.ylabel('counts')\n",
    "plt.xlabel('has_extended_profile')\n",
    "#plt.axis([0,2,0,250])\n",
    "plt.xticks([0,1])\n",
    "plt.legend(loc='upper right')\n",
    "plt.show()"
   ]
  },
  {
   "cell_type": "code",
   "execution_count": 35,
   "metadata": {
    "collapsed": false
   },
   "outputs": [
    {
     "data": {
      "text/plain": [
       "(2232, 20)"
      ]
     },
     "execution_count": 35,
     "metadata": {},
     "output_type": "execute_result"
    }
   ],
   "source": [
    "#join two dataframe\n",
    "frame = [bots_data, nonbots_data]\n",
    "all_data = pd.concat(frame)\n",
    "all_data.shape"
   ]
  },
  {
   "cell_type": "markdown",
   "metadata": {},
   "source": [
    "# description as feature"
   ]
  },
  {
   "cell_type": "code",
   "execution_count": 36,
   "metadata": {
    "collapsed": false
   },
   "outputs": [
    {
     "name": "stdout",
     "output_type": "stream",
     "text": [
      "Accuracy: 75.044803%\n",
      "Precision: 82.872200%\n",
      "Recall: 59.564394%\n",
      "F1: 69.311295%\n",
      "AUC: 74.254986%\n"
     ]
    }
   ],
   "source": [
    "#description as feature\n",
    "#fill NaN with 'missing'\n",
    "all_data_nafill = all_data.fillna('missing')\n",
    "\n",
    "#encode string with utf-8\n",
    "all_data_nafill['description'] = all_data_nafill['description'].str.decode('iso-8859-1').str.encode('utf-8')\n",
    "\n",
    "# Train CountVectorizer\n",
    "from sklearn.feature_extraction.text import CountVectorizer\n",
    "count_vect = CountVectorizer()\n",
    "X_comment_counts = count_vect.fit_transform(all_data_nafill.description)\n",
    "\n",
    "#BernoulliNB\n",
    "from sklearn.naive_bayes import BernoulliNB\n",
    "clf = BernoulliNB().fit(X_comment_counts, all_data.bot)\n",
    "\n",
    "from sklearn.model_selection import cross_val_predict\n",
    "predicted = cross_val_predict(clf, X_comment_counts, all_data.bot)\n",
    "\n",
    "from sklearn import metrics\n",
    "print('Accuracy: %f' % (100*metrics.accuracy_score(all_data.bot, predicted)) + '%')\n",
    "print('Precision: %f' % (100*metrics.precision_score(all_data.bot, predicted)) + '%')\n",
    "print('Recall: %f' % (100*metrics.recall_score(all_data.bot, predicted)) + '%')\n",
    "print('F1: %f' % (100*metrics.f1_score(all_data.bot, predicted)) + '%')\n",
    "print('AUC: %f' % (100*metrics.roc_auc_score(all_data.bot, predicted)) + '%')"
   ]
  },
  {
   "cell_type": "code",
   "execution_count": 37,
   "metadata": {
    "collapsed": false,
    "scrolled": true
   },
   "outputs": [
    {
     "name": "stdout",
     "output_type": "stream",
     "text": [
      "Accuracy: 74.193548%\n",
      "Precision: 75.917927%\n",
      "Recall: 66.571970%\n",
      "F1: 70.938446%\n",
      "AUC: 73.804692%\n"
     ]
    }
   ],
   "source": [
    "# MultinomialNB\n",
    "from sklearn.naive_bayes import MultinomialNB\n",
    "clf = MultinomialNB().fit(X_comment_counts, all_data.bot)\n",
    "\n",
    "from sklearn.model_selection import cross_val_predict\n",
    "predicted = cross_val_predict(clf, X_comment_counts, all_data.bot)\n",
    "\n",
    "print('Accuracy: %f' % (100*metrics.accuracy_score(all_data.bot, predicted)) + '%')\n",
    "print('Precision: %f' % (100*metrics.precision_score(all_data.bot, predicted)) + '%')\n",
    "print('Recall: %f' % (100*metrics.recall_score(all_data.bot, predicted)) + '%')\n",
    "print('F1: %f' % (100*metrics.f1_score(all_data.bot, predicted)) + '%')\n",
    "print('AUC: %f' % (100*metrics.roc_auc_score(all_data.bot, predicted)) + '%')"
   ]
  },
  {
   "cell_type": "code",
   "execution_count": 38,
   "metadata": {
    "collapsed": false
   },
   "outputs": [
    {
     "name": "stdout",
     "output_type": "stream",
     "text": [
      "Accuracy: 68.637993%\n",
      "Precision: 67.281553%\n",
      "Recall: 65.625000%\n",
      "F1: 66.442953%\n",
      "AUC: 68.484269%\n"
     ]
    }
   ],
   "source": [
    "# Random Forest\n",
    "from sklearn.ensemble import RandomForestClassifier\n",
    "clf = RandomForestClassifier().fit(X_comment_counts,all_data.bot)\n",
    "from sklearn.model_selection import cross_val_predict\n",
    "predicted = cross_val_predict(clf, X_comment_counts, all_data.bot)\n",
    "\n",
    "print('Accuracy: %f' % (100*metrics.accuracy_score(all_data.bot, predicted)) + '%')\n",
    "print('Precision: %f' % (100*metrics.precision_score(all_data.bot, predicted)) + '%')\n",
    "print('Recall: %f' % (100*metrics.recall_score(all_data.bot, predicted)) + '%')\n",
    "print('F1: %f' % (100*metrics.f1_score(all_data.bot, predicted)) + '%')\n",
    "print('AUC: %f' % (100*metrics.roc_auc_score(all_data.bot, predicted)) + '%')"
   ]
  },
  {
   "cell_type": "code",
   "execution_count": 39,
   "metadata": {
    "collapsed": false
   },
   "outputs": [
    {
     "name": "stdout",
     "output_type": "stream",
     "text": [
      "Accuracy: 74.148746%\n",
      "Precision: 82.853224%\n",
      "Recall: 57.196970%\n",
      "F1: 67.675070%\n",
      "AUC: 73.283859%\n"
     ]
    }
   ],
   "source": [
    "#LogisticRegression\n",
    "from sklearn.linear_model import LogisticRegression\n",
    "clf = LogisticRegression().fit(X_comment_counts,all_data.bot)\n",
    "from sklearn.model_selection import cross_val_predict\n",
    "predicted = cross_val_predict(clf, X_comment_counts, all_data.bot)\n",
    "\n",
    "print('Accuracy: %f' % (100*metrics.accuracy_score(all_data.bot, predicted)) + '%')\n",
    "print('Precision: %f' % (100*metrics.precision_score(all_data.bot, predicted)) + '%')\n",
    "print('Recall: %f' % (100*metrics.recall_score(all_data.bot, predicted)) + '%')\n",
    "print('F1: %f' % (100*metrics.f1_score(all_data.bot, predicted)) + '%')\n",
    "print('AUC: %f' % (100*metrics.roc_auc_score(all_data.bot, predicted)) + '%')"
   ]
  },
  {
   "cell_type": "markdown",
   "metadata": {},
   "source": [
    "# screen_name as feature"
   ]
  },
  {
   "cell_type": "code",
   "execution_count": 40,
   "metadata": {
    "collapsed": false
   },
   "outputs": [
    {
     "name": "stdout",
     "output_type": "stream",
     "text": [
      "Accuracy: 52.508961%\n",
      "Precision: 0.000000%\n",
      "Recall: 0.000000%\n",
      "F1: 0.000000%\n",
      "AUC: 49.829932%\n"
     ]
    },
    {
     "name": "stderr",
     "output_type": "stream",
     "text": [
      "C:\\Users\\jiaow\\Anaconda2\\lib\\site-packages\\sklearn\\cross_validation.py:44: DeprecationWarning: This module was deprecated in version 0.18 in favor of the model_selection module into which all the refactored classes and functions are moved. Also note that the interface of the new CV iterators are different from that of this module. This module will be removed in 0.20.\n",
      "  \"This module will be removed in 0.20.\", DeprecationWarning)\n"
     ]
    }
   ],
   "source": [
    "#screen_name as feature\n",
    "#Accuracy: 52.508961%\n",
    "#Precision: 49.367089%\n",
    "#Recall: 90.347490%\n",
    "#F1: 63.847203%\n",
    "#AUC: 55.039966%\n",
    "\n",
    "#encode string with utf-8\n",
    "all_data_nafill['screen_name'] = all_data_nafill['screen_name'].str.decode('iso-8859-1').str.encode('utf-8')\n",
    "\n",
    "from sklearn.cross_validation import cross_val_score,train_test_split\n",
    "X_screen_name = all_data_nafill.screen_name\n",
    "y_bot =all_data.bot\n",
    "X_train, X_test, y_train, y_test = train_test_split(X_screen_name, y_bot,random_state = 1)\n",
    "\n",
    "#BernoulliNB\n",
    "# Train CountVectorizer\n",
    "from sklearn.feature_extraction.text import CountVectorizer\n",
    "count_vect = CountVectorizer()\n",
    "X_sname_counts = count_vect.fit_transform(all_data_nafill.screen_name)\n",
    "\n",
    "from sklearn.naive_bayes import BernoulliNB\n",
    "clf = BernoulliNB().fit(X_sname_counts, all_data.bot)\n",
    "\n",
    "from sklearn.model_selection import cross_val_predict\n",
    "predicted = cross_val_predict(clf, X_sname_counts, all_data.bot)\n",
    "\n",
    "from sklearn import metrics\n",
    "print('Accuracy: %f' % (100*metrics.accuracy_score(all_data.bot, predicted)) + '%')\n",
    "print('Precision: %f' % (100*metrics.precision_score(all_data.bot, predicted)) + '%')\n",
    "print('Recall: %f' % (100*metrics.recall_score(all_data.bot, predicted)) + '%')\n",
    "print('F1: %f' % (100*metrics.f1_score(all_data.bot, predicted)) + '%')\n",
    "print('AUC: %f' % (100*metrics.roc_auc_score(all_data.bot, predicted)) + '%')"
   ]
  },
  {
   "cell_type": "markdown",
   "metadata": {},
   "source": [
    "# status as feature"
   ]
  },
  {
   "cell_type": "code",
   "execution_count": 41,
   "metadata": {
    "collapsed": false
   },
   "outputs": [],
   "source": [
    "#status as feature\n",
    "#encode string with utf-8\n",
    "all_data_nafill['status'] = all_data_nafill['status'].str.decode('iso-8859-1').str.encode('utf-8')\n",
    "\n",
    "from sklearn.cross_validation import cross_val_score,train_test_split\n",
    "status = all_data_nafill.status\n",
    "bot =all_data.bot\n",
    "status_train, status_test, y_train, y_test = train_test_split(status, bot, random_state = 1)"
   ]
  },
  {
   "cell_type": "code",
   "execution_count": 42,
   "metadata": {
    "collapsed": false
   },
   "outputs": [
    {
     "name": "stdout",
     "output_type": "stream",
     "text": [
      "Accuracy: 71.326165%\n",
      "Precision: 70.040486%\n",
      "Recall: 66.795367%\n",
      "F1: 68.379447%\n",
      "AUC: 71.023101%\n"
     ]
    }
   ],
   "source": [
    "#Train CountVectorizer\n",
    "from sklearn.feature_extraction.text import CountVectorizer\n",
    "vectorizer = CountVectorizer()\n",
    "\n",
    "#Train TfidfVectorizer\n",
    "#from sklearn.feature_extraction.text import TfidfVectorizer\n",
    "#vectorizer = TfidfVectorizer(sublinear_tf=True, max_df=0.5,stop_words='english')\n",
    "\n",
    "#Train HashingVectorizer\n",
    "#from sklearn.feature_extraction.text import HashingVectorizer\n",
    "#vectorizer = HashingVectorizer(stop_words='english', non_negative=True)\n",
    "\n",
    "X_status = vectorizer.fit_transform(status)\n",
    "X_train = vectorizer.fit_transform(status_train)\n",
    "X_test = vectorizer.transform(status_test)\n",
    "    \n",
    "#BernoulliNB\n",
    "from sklearn.naive_bayes import BernoulliNB\n",
    "clf = BernoulliNB().fit(X_train, y_train)\n",
    "predicted = clf.predict(X_test)\n",
    "\n",
    "from sklearn import metrics\n",
    "print('Accuracy: %f' % (100*metrics.accuracy_score(y_test, predicted)) + '%')\n",
    "print('Precision: %f' % (100*metrics.precision_score(y_test, predicted)) + '%')\n",
    "print('Recall: %f' % (100*metrics.recall_score(y_test, predicted)) + '%')\n",
    "print('F1: %f' % (100*metrics.f1_score(y_test, predicted)) + '%')\n",
    "print('AUC: %f' % (100*metrics.roc_auc_score(y_test, predicted)) + '%')"
   ]
  },
  {
   "cell_type": "code",
   "execution_count": 43,
   "metadata": {
    "collapsed": false
   },
   "outputs": [
    {
     "name": "stdout",
     "output_type": "stream",
     "text": [
      "Accuracy: 73.118280%\n",
      "Precision: 76.328502%\n",
      "Recall: 61.003861%\n",
      "F1: 67.811159%\n",
      "AUC: 72.307951%\n"
     ]
    }
   ],
   "source": [
    "#MultinomialNB\n",
    "from sklearn.naive_bayes import MultinomialNB\n",
    "clf = MultinomialNB().fit(X_train, y_train)\n",
    "predicted = clf.predict(X_test)\n",
    "\n",
    "from sklearn import metrics\n",
    "print('Accuracy: %f' % (100*metrics.accuracy_score(y_test, predicted)) + '%')\n",
    "print('Precision: %f' % (100*metrics.precision_score(y_test, predicted)) + '%')\n",
    "print('Recall: %f' % (100*metrics.recall_score(y_test, predicted)) + '%')\n",
    "print('F1: %f' % (100*metrics.f1_score(y_test, predicted)) + '%')\n",
    "print('AUC: %f' % (100*metrics.roc_auc_score(y_test, predicted)) + '%')\n",
    "\n"
   ]
  },
  {
   "cell_type": "code",
   "execution_count": 44,
   "metadata": {
    "collapsed": false
   },
   "outputs": [
    {
     "name": "stdout",
     "output_type": "stream",
     "text": [
      "Accuracy: 73.835125%\n",
      "Precision: 73.443983%\n",
      "Recall: 68.339768%\n",
      "F1: 70.800000%\n",
      "AUC: 73.467543%\n"
     ]
    }
   ],
   "source": [
    "#RandomForest\n",
    "from sklearn.ensemble import RandomForestClassifier\n",
    "clf = RandomForestClassifier()\n",
    "clf = clf.fit(X_train, y_train)\n",
    "predicted = clf.predict(X_test)\n",
    "\n",
    "from sklearn import metrics\n",
    "print('Accuracy: %f' % (100*metrics.accuracy_score(y_test, predicted)) + '%')\n",
    "print('Precision: %f' % (100*metrics.precision_score(y_test, predicted)) + '%')\n",
    "print('Recall: %f' % (100*metrics.recall_score(y_test, predicted)) + '%')\n",
    "print('F1: %f' % (100*metrics.f1_score(y_test, predicted)) + '%')\n",
    "print('AUC: %f' % (100*metrics.roc_auc_score(y_test, predicted)) + '%')"
   ]
  },
  {
   "cell_type": "code",
   "execution_count": 45,
   "metadata": {
    "collapsed": false
   },
   "outputs": [
    {
     "name": "stdout",
     "output_type": "stream",
     "text": [
      "Accuracy: 78.494624%\n",
      "Precision: 74.910394%\n",
      "Recall: 80.694981%\n",
      "F1: 77.695167%\n",
      "AUC: 78.641805%\n"
     ]
    }
   ],
   "source": [
    "#LogisticRegression\n",
    "from sklearn.linear_model import LogisticRegression\n",
    "clf = LogisticRegression()\n",
    "clf = clf.fit(X_train, y_train)\n",
    "predicted = clf.predict(X_test)\n",
    "\n",
    "from sklearn import metrics\n",
    "print('Accuracy: %f' % (100*metrics.accuracy_score(y_test, predicted)) + '%')\n",
    "print('Precision: %f' % (100*metrics.precision_score(y_test, predicted)) + '%')\n",
    "print('Recall: %f' % (100*metrics.recall_score(y_test, predicted)) + '%')\n",
    "print('F1: %f' % (100*metrics.f1_score(y_test, predicted)) + '%')\n",
    "print('AUC: %f' % (100*metrics.roc_auc_score(y_test, predicted)) + '%')"
   ]
  },
  {
   "cell_type": "code",
   "execution_count": 46,
   "metadata": {
    "collapsed": false
   },
   "outputs": [
    {
     "name": "stdout",
     "output_type": "stream",
     "text": [
      "Accuracy: 77.777778%\n",
      "Precision: 74.221453%\n",
      "Recall: 81.250000%\n",
      "F1: 77.576854%\n",
      "AUC: 77.954932%\n"
     ]
    }
   ],
   "source": [
    "#SVM\n",
    "from sklearn import svm\n",
    "clf = svm.SVC(kernel='linear', C=1)\n",
    "\n",
    "from sklearn.model_selection import cross_val_predict\n",
    "predicted = cross_val_predict(clf, X_status, all_data.bot)\n",
    "\n",
    "from sklearn import metrics\n",
    "print('Accuracy: %f' % (100*metrics.accuracy_score(all_data.bot, predicted)) + '%')\n",
    "print('Precision: %f' % (100*metrics.precision_score(all_data.bot, predicted)) + '%')\n",
    "print('Recall: %f' % (100*metrics.recall_score(all_data.bot, predicted)) + '%')\n",
    "print('F1: %f' % (100*metrics.f1_score(all_data.bot, predicted)) + '%')\n",
    "print('AUC: %f' % (100*metrics.roc_auc_score(all_data.bot, predicted)) + '%')"
   ]
  },
  {
   "cell_type": "markdown",
   "metadata": {},
   "source": [
    "# verified as feature"
   ]
  },
  {
   "cell_type": "code",
   "execution_count": 47,
   "metadata": {
    "collapsed": false
   },
   "outputs": [],
   "source": [
    "#verified as feature\n",
    "#split data to train dataset and test dataset\n",
    "from sklearn.cross_validation import cross_val_score,train_test_split\n",
    "X_verified =all_data.verified\n",
    "y_bot =all_data.bot\n",
    "X_train, X_test, y_train, y_test = train_test_split(X_verified, y_bot,random_state = 1)"
   ]
  },
  {
   "cell_type": "code",
   "execution_count": 48,
   "metadata": {
    "collapsed": false
   },
   "outputs": [
    {
     "name": "stdout",
     "output_type": "stream",
     "text": [
      "Accuracy: 69.534050%\n",
      "Precision: 60.620525%\n",
      "Recall: 98.069498%\n",
      "F1: 74.926254%\n",
      "AUC: 71.442776%\n"
     ]
    }
   ],
   "source": [
    "#BernoulliNB\n",
    "from sklearn.naive_bayes import BernoulliNB\n",
    "bayes = BernoulliNB().fit(X_train.values.reshape(-1,1), y_train)\n",
    "bayes_predict = bayes.predict(X_test.values.reshape(-1,1))\n",
    "from sklearn import metrics\n",
    "print('Accuracy: %f' % (100*metrics.accuracy_score(y_test, bayes_predict)) + '%')\n",
    "print('Precision: %f' % (100*metrics.precision_score(y_test, bayes_predict)) + '%')\n",
    "print('Recall: %f' % (100*metrics.recall_score(y_test, bayes_predict)) + '%')\n",
    "print('F1: %f' % (100*metrics.f1_score(y_test, bayes_predict)) + '%')\n",
    "print('AUC: %f' % (100*metrics.roc_auc_score(y_test, bayes_predict)) + '%')"
   ]
  },
  {
   "cell_type": "code",
   "execution_count": 49,
   "metadata": {
    "collapsed": false
   },
   "outputs": [
    {
     "name": "stdout",
     "output_type": "stream",
     "text": [
      "Accuracy: 69.534050%\n",
      "Precision: 60.620525%\n",
      "Recall: 98.069498%\n",
      "F1: 74.926254%\n",
      "AUC: 71.442776%\n"
     ]
    }
   ],
   "source": [
    "# Random Forest\n",
    "from sklearn.ensemble import RandomForestClassifier\n",
    "rf = RandomForestClassifier().fit(X_train.values.reshape(-1,1), y_train)\n",
    "rf_predict = rf.predict(X_test.values.reshape(-1,1))\n",
    "from sklearn import metrics\n",
    "print('Accuracy: %f' % (100*metrics.accuracy_score(y_test, rf_predict)) + '%')\n",
    "print('Precision: %f' % (100*metrics.precision_score(y_test, rf_predict)) + '%')\n",
    "print('Recall: %f' % (100*metrics.recall_score(y_test, rf_predict)) + '%')\n",
    "print('F1: %f' % (100*metrics.f1_score(y_test, rf_predict)) + '%')\n",
    "print('AUC: %f' % (100*metrics.roc_auc_score(y_test, rf_predict)) + '%')"
   ]
  },
  {
   "cell_type": "code",
   "execution_count": 50,
   "metadata": {
    "collapsed": false
   },
   "outputs": [
    {
     "name": "stdout",
     "output_type": "stream",
     "text": [
      "Accuracy: 69.534050%\n",
      "Precision: 60.620525%\n",
      "Recall: 98.069498%\n",
      "F1: 74.926254%\n",
      "AUC: 71.442776%\n"
     ]
    }
   ],
   "source": [
    "#LogisticRegression\n",
    "from sklearn.linear_model import LogisticRegression\n",
    "logistic = LogisticRegression().fit(X_train.values.reshape(-1,1), y_train)\n",
    "logistic_predict = logistic.predict(X_test.values.reshape(-1,1))\n",
    "from sklearn import metrics\n",
    "print('Accuracy: %f' % (100*metrics.accuracy_score(y_test, logistic_predict)) + '%')\n",
    "print('Precision: %f' % (100*metrics.precision_score(y_test, logistic_predict)) + '%')\n",
    "print('Recall: %f' % (100*metrics.recall_score(y_test, logistic_predict)) + '%')\n",
    "print('F1: %f' % (100*metrics.f1_score(y_test, logistic_predict)) + '%')\n",
    "print('AUC: %f' % (100*metrics.roc_auc_score(y_test, logistic_predict)) + '%')"
   ]
  },
  {
   "cell_type": "markdown",
   "metadata": {},
   "source": [
    "# number of  followers as feature:"
   ]
  },
  {
   "cell_type": "code",
   "execution_count": 51,
   "metadata": {
    "collapsed": false
   },
   "outputs": [],
   "source": [
    "all_data_edited = all_data[(all_data['followers_count'] >= 1)& (all_data['followers_count'] <= 10)]"
   ]
  },
  {
   "cell_type": "code",
   "execution_count": 52,
   "metadata": {
    "collapsed": true
   },
   "outputs": [],
   "source": [
    "all_data_edited = all_data[(all_data['followers_count'] >= 0)& (all_data['followers_count'] <= 10)]\n"
   ]
  },
  {
   "cell_type": "code",
   "execution_count": 53,
   "metadata": {
    "collapsed": true
   },
   "outputs": [],
   "source": [
    "all_data_edited = all_data[(all_data['followers_count'] == 0)]"
   ]
  },
  {
   "cell_type": "code",
   "execution_count": 54,
   "metadata": {
    "collapsed": true
   },
   "outputs": [],
   "source": [
    "\n",
    "all_data_edited = all_data[(all_data['followers_count'] >= 100000)]"
   ]
  },
  {
   "cell_type": "code",
   "execution_count": 55,
   "metadata": {
    "collapsed": false
   },
   "outputs": [],
   "source": [
    "from sklearn.cross_validation import cross_val_score,train_test_split\n",
    "X =all_data_edited.followers_count\n",
    "y_bot =all_data_edited.bot\n",
    "X_train, X_test, y_train, y_test = train_test_split(X, y_bot,random_state = 1)"
   ]
  },
  {
   "cell_type": "code",
   "execution_count": 56,
   "metadata": {
    "collapsed": false
   },
   "outputs": [
    {
     "name": "stdout",
     "output_type": "stream",
     "text": [
      "Accuracy: 97.029703%\n",
      "Precision: 0.000000%\n",
      "Recall: 0.000000%\n",
      "F1: 0.000000%\n",
      "AUC: 50.000000%\n"
     ]
    },
    {
     "name": "stderr",
     "output_type": "stream",
     "text": [
      "C:\\Users\\jiaow\\Anaconda2\\lib\\site-packages\\sklearn\\metrics\\classification.py:1113: UndefinedMetricWarning: Precision is ill-defined and being set to 0.0 due to no predicted samples.\n",
      "  'precision', 'predicted', average, warn_for)\n",
      "C:\\Users\\jiaow\\Anaconda2\\lib\\site-packages\\sklearn\\metrics\\classification.py:1113: UndefinedMetricWarning: F-score is ill-defined and being set to 0.0 due to no predicted samples.\n",
      "  'precision', 'predicted', average, warn_for)\n"
     ]
    }
   ],
   "source": [
    "#BernoulliNB\n",
    "from sklearn.naive_bayes import BernoulliNB\n",
    "bayes = BernoulliNB().fit(X_train.values.reshape(-1,1), y_train)\n",
    "bayes_predict = bayes.predict(X_test.values.reshape(-1,1))\n",
    "from sklearn import metrics\n",
    "print('Accuracy: %f' % (100*metrics.accuracy_score(y_test, bayes_predict)) + '%')\n",
    "print('Precision: %f' % (100*metrics.precision_score(y_test, bayes_predict)) + '%')\n",
    "print('Recall: %f' % (100*metrics.recall_score(y_test, bayes_predict)) + '%')\n",
    "print('F1: %f' % (100*metrics.f1_score(y_test, bayes_predict)) + '%')\n",
    "print('AUC: %f' % (100*metrics.roc_auc_score(y_test, bayes_predict)) + '%')"
   ]
  },
  {
   "cell_type": "code",
   "execution_count": 57,
   "metadata": {
    "collapsed": false
   },
   "outputs": [
    {
     "name": "stdout",
     "output_type": "stream",
     "text": [
      "Accuracy: 97.029703%\n",
      "Precision: 0.000000%\n",
      "Recall: 0.000000%\n",
      "F1: 0.000000%\n",
      "AUC: 50.000000%\n"
     ]
    }
   ],
   "source": [
    "# MultinomialNB\n",
    "from sklearn.naive_bayes import MultinomialNB\n",
    "bayes = MultinomialNB().fit(X_train.values.reshape(-1,1), y_train)\n",
    "bayes_predict = bayes.predict(X_test.values.reshape(-1,1))\n",
    "from sklearn import metrics\n",
    "print('Accuracy: %f' % (100*metrics.accuracy_score(y_test, bayes_predict)) + '%')\n",
    "print('Precision: %f' % (100*metrics.precision_score(y_test, bayes_predict)) + '%')\n",
    "print('Recall: %f' % (100*metrics.recall_score(y_test, bayes_predict)) + '%')\n",
    "print('F1: %f' % (100*metrics.f1_score(y_test, bayes_predict)) + '%')\n",
    "print('AUC: %f' % (100*metrics.roc_auc_score(y_test, bayes_predict)) + '%')"
   ]
  },
  {
   "cell_type": "code",
   "execution_count": 58,
   "metadata": {
    "collapsed": false
   },
   "outputs": [
    {
     "name": "stdout",
     "output_type": "stream",
     "text": [
      "Accuracy: 96.039604%\n",
      "Precision: 0.000000%\n",
      "Recall: 0.000000%\n",
      "F1: 0.000000%\n",
      "AUC: 49.489796%\n"
     ]
    }
   ],
   "source": [
    "# Random Forest\n",
    "from sklearn.ensemble import RandomForestClassifier\n",
    "rf = RandomForestClassifier().fit(X_train.values.reshape(-1,1), y_train)\n",
    "rf_predict = rf.predict(X_test.values.reshape(-1,1))\n",
    "from sklearn import metrics\n",
    "print('Accuracy: %f' % (100*metrics.accuracy_score(y_test, rf_predict)) + '%')\n",
    "print('Precision: %f' % (100*metrics.precision_score(y_test, rf_predict)) + '%')\n",
    "print('Recall: %f' % (100*metrics.recall_score(y_test, rf_predict)) + '%')\n",
    "print('F1: %f' % (100*metrics.f1_score(y_test, rf_predict)) + '%')\n",
    "print('AUC: %f' % (100*metrics.roc_auc_score(y_test, rf_predict)) + '%')"
   ]
  },
  {
   "cell_type": "code",
   "execution_count": 59,
   "metadata": {
    "collapsed": false
   },
   "outputs": [
    {
     "name": "stdout",
     "output_type": "stream",
     "text": [
      "Accuracy: 97.029703%\n",
      "Precision: 0.000000%\n",
      "Recall: 0.000000%\n",
      "F1: 0.000000%\n",
      "AUC: 50.000000%\n"
     ]
    }
   ],
   "source": [
    "#LogisticRegression\n",
    "from sklearn.linear_model import LogisticRegression\n",
    "logistic = LogisticRegression().fit(X_train.values.reshape(-1,1), y_train)\n",
    "logistic_predict = logistic.predict(X_test.values.reshape(-1,1))\n",
    "from sklearn import metrics\n",
    "print('Accuracy: %f' % (100*metrics.accuracy_score(y_test, logistic_predict)) + '%')\n",
    "print('Precision: %f' % (100*metrics.precision_score(y_test, logistic_predict)) + '%')\n",
    "print('Recall: %f' % (100*metrics.recall_score(y_test, logistic_predict)) + '%')\n",
    "print('F1: %f' % (100*metrics.f1_score(y_test, logistic_predict)) + '%')\n",
    "print('AUC: %f' % (100*metrics.roc_auc_score(y_test, logistic_predict)) + '%')"
   ]
  },
  {
   "cell_type": "markdown",
   "metadata": {},
   "source": [
    "# number of friends as feature"
   ]
  },
  {
   "cell_type": "code",
   "execution_count": 60,
   "metadata": {
    "collapsed": true
   },
   "outputs": [],
   "source": [
    "all_data_edited = all_data[(all_data['friends_count'] == 0)]"
   ]
  },
  {
   "cell_type": "code",
   "execution_count": 61,
   "metadata": {
    "collapsed": true
   },
   "outputs": [],
   "source": [
    "all_data_edited = all_data[(all_data['friends_count'] >= 400)&(all_data['friends_count'] <= 1600)]"
   ]
  },
  {
   "cell_type": "code",
   "execution_count": 62,
   "metadata": {
    "collapsed": true
   },
   "outputs": [],
   "source": [
    "all_data_edited = all_data[(all_data['friends_count'] >= 10000)]"
   ]
  },
  {
   "cell_type": "code",
   "execution_count": 63,
   "metadata": {
    "collapsed": false
   },
   "outputs": [],
   "source": [
    "all_data_edited = all_data[(all_data['friends_count'] >= 0)&(all_data['friends_count'] <= 6)]"
   ]
  },
  {
   "cell_type": "code",
   "execution_count": 64,
   "metadata": {
    "collapsed": true
   },
   "outputs": [],
   "source": [
    "from sklearn.cross_validation import cross_val_score,train_test_split\n",
    "X =all_data_edited.friends_count\n",
    "y_bot =all_data_edited.bot\n",
    "X_train, X_test, y_train, y_test = train_test_split(X, y_bot,random_state = 1)"
   ]
  },
  {
   "cell_type": "code",
   "execution_count": 65,
   "metadata": {
    "collapsed": false
   },
   "outputs": [
    {
     "name": "stdout",
     "output_type": "stream",
     "text": [
      "Accuracy: 94.656489%\n",
      "Precision: 94.656489%\n",
      "Recall: 100.000000%\n",
      "F1: 97.254902%\n",
      "AUC: 50.000000%\n"
     ]
    }
   ],
   "source": [
    "#BernoulliNB\n",
    "from sklearn.naive_bayes import BernoulliNB\n",
    "bayes = BernoulliNB().fit(X_train.values.reshape(-1,1), y_train)\n",
    "bayes_predict = bayes.predict(X_test.values.reshape(-1,1))\n",
    "from sklearn import metrics\n",
    "print('Accuracy: %f' % (100*metrics.accuracy_score(y_test, bayes_predict)) + '%')\n",
    "print('Precision: %f' % (100*metrics.precision_score(y_test, bayes_predict)) + '%')\n",
    "print('Recall: %f' % (100*metrics.recall_score(y_test, bayes_predict)) + '%')\n",
    "print('F1: %f' % (100*metrics.f1_score(y_test, bayes_predict)) + '%')\n",
    "print('AUC: %f' % (100*metrics.roc_auc_score(y_test, bayes_predict)) + '%')"
   ]
  },
  {
   "cell_type": "code",
   "execution_count": 66,
   "metadata": {
    "collapsed": false
   },
   "outputs": [
    {
     "name": "stdout",
     "output_type": "stream",
     "text": [
      "Accuracy: 94.656489%\n",
      "Precision: 94.656489%\n",
      "Recall: 100.000000%\n",
      "F1: 97.254902%\n",
      "AUC: 50.000000%\n"
     ]
    }
   ],
   "source": [
    "#MultinomialNB\n",
    "from sklearn.naive_bayes import MultinomialNB\n",
    "bayes = MultinomialNB().fit(X_train.values.reshape(-1,1), y_train)\n",
    "bayes_predict = bayes.predict(X_test.values.reshape(-1,1))\n",
    "from sklearn import metrics\n",
    "print('Accuracy: %f' % (100*metrics.accuracy_score(y_test, bayes_predict)) + '%')\n",
    "print('Precision: %f' % (100*metrics.precision_score(y_test, bayes_predict)) + '%')\n",
    "print('Recall: %f' % (100*metrics.recall_score(y_test, bayes_predict)) + '%')\n",
    "print('F1: %f' % (100*metrics.f1_score(y_test, bayes_predict)) + '%')\n",
    "print('AUC: %f' % (100*metrics.roc_auc_score(y_test, bayes_predict)) + '%')"
   ]
  },
  {
   "cell_type": "code",
   "execution_count": 67,
   "metadata": {
    "collapsed": false
   },
   "outputs": [
    {
     "name": "stdout",
     "output_type": "stream",
     "text": [
      "Accuracy: 94.656489%\n",
      "Precision: 94.656489%\n",
      "Recall: 100.000000%\n",
      "F1: 97.254902%\n",
      "AUC: 50.000000%\n"
     ]
    }
   ],
   "source": [
    "# Random Forest\n",
    "from sklearn.ensemble import RandomForestClassifier\n",
    "rf = RandomForestClassifier().fit(X_train.values.reshape(-1,1), y_train)\n",
    "rf_predict = rf.predict(X_test.values.reshape(-1,1))\n",
    "from sklearn import metrics\n",
    "print('Accuracy: %f' % (100*metrics.accuracy_score(y_test, rf_predict)) + '%')\n",
    "print('Precision: %f' % (100*metrics.precision_score(y_test, rf_predict)) + '%')\n",
    "print('Recall: %f' % (100*metrics.recall_score(y_test, rf_predict)) + '%')\n",
    "print('F1: %f' % (100*metrics.f1_score(y_test, rf_predict)) + '%')\n",
    "print('AUC: %f' % (100*metrics.roc_auc_score(y_test, rf_predict)) + '%')"
   ]
  },
  {
   "cell_type": "code",
   "execution_count": 68,
   "metadata": {
    "collapsed": false
   },
   "outputs": [
    {
     "name": "stdout",
     "output_type": "stream",
     "text": [
      "Accuracy: 94.656489%\n",
      "Precision: 94.656489%\n",
      "Recall: 100.000000%\n",
      "F1: 97.254902%\n",
      "AUC: 50.000000%\n"
     ]
    }
   ],
   "source": [
    "#LogisticRegression\n",
    "from sklearn.linear_model import LogisticRegression\n",
    "logistic = LogisticRegression().fit(X_train.values.reshape(-1,1), y_train)\n",
    "logistic_predict = logistic.predict(X_test.values.reshape(-1,1))\n",
    "from sklearn import metrics\n",
    "print('Accuracy: %f' % (100*metrics.accuracy_score(y_test, logistic_predict)) + '%')\n",
    "print('Precision: %f' % (100*metrics.precision_score(y_test, logistic_predict)) + '%')\n",
    "print('Recall: %f' % (100*metrics.recall_score(y_test, logistic_predict)) + '%')\n",
    "print('F1: %f' % (100*metrics.f1_score(y_test, logistic_predict)) + '%')\n",
    "print('AUC: %f' % (100*metrics.roc_auc_score(y_test, logistic_predict)) + '%')"
   ]
  },
  {
   "cell_type": "markdown",
   "metadata": {},
   "source": [
    "# number of listed count"
   ]
  },
  {
   "cell_type": "code",
   "execution_count": 69,
   "metadata": {
    "collapsed": true
   },
   "outputs": [],
   "source": [
    "all_data_edited = all_data[(all_data['listedcount'] == 0)]\n",
    "#not good, Accuracy: 48.412698%\n",
    "#Precision: 48.412698%\n",
    "#Recall: 100.000000%\n",
    "#F1: 65.240642%\n",
    "#AUC: 50.000000%"
   ]
  },
  {
   "cell_type": "code",
   "execution_count": 70,
   "metadata": {
    "collapsed": true
   },
   "outputs": [],
   "source": [
    "all_data_edited = all_data[(all_data['listedcount'] >= 200)& (all_data['listedcount'] <= 5000)]\n",
    "#Accuracy: 88.043478%\n",
    "#Precision: 0.000000%\n",
    "#Recall: 0.000000%\n",
    "#F1: 0.000000%\n",
    "#AUC: 50.000000%"
   ]
  },
  {
   "cell_type": "code",
   "execution_count": 71,
   "metadata": {
    "collapsed": true
   },
   "outputs": [],
   "source": [
    "all_data_edited = all_data[(all_data['listedcount'] >= 200)&(all_data['listedcount'] <= 2600)]\n",
    "#Accuracy: 80.000000%\n",
    "#Precision: 0.000000%\n",
    "#Recall: 0.000000%\n",
    "#F1: 0.000000%\n",
    "#AUC: 50.000000%"
   ]
  },
  {
   "cell_type": "code",
   "execution_count": 72,
   "metadata": {
    "collapsed": true
   },
   "outputs": [],
   "source": [
    "all_data_edited = all_data[(all_data['listedcount'] >= 4)&(all_data['listedcount'] <= 60)]\n",
    "#Accuracy: 72.677596%\n",
    "#Precision: 72.677596%\n",
    "#Recall: 100.000000%\n",
    "#F1: 84.177215%\n",
    "#AUC: 50.000000%"
   ]
  },
  {
   "cell_type": "code",
   "execution_count": 73,
   "metadata": {
    "collapsed": true
   },
   "outputs": [],
   "source": [
    "all_data_edited = all_data[(all_data['listedcount'] >= 3000)]\n",
    "#Accuracy: 97.468354%\n",
    "#Precision: 0.000000%\n",
    "#Recall: 0.000000%\n",
    "#F1: 0.000000%\n",
    "#AUC: 50.000000%"
   ]
  },
  {
   "cell_type": "code",
   "execution_count": 74,
   "metadata": {
    "collapsed": true
   },
   "outputs": [],
   "source": [
    "from sklearn.cross_validation import cross_val_score,train_test_split\n",
    "X =all_data_edited.listedcount\n",
    "y_bot =all_data_edited.bot\n",
    "X_train, X_test, y_train, y_test = train_test_split(X, y_bot,random_state = 1)"
   ]
  },
  {
   "cell_type": "code",
   "execution_count": 75,
   "metadata": {
    "collapsed": false
   },
   "outputs": [
    {
     "name": "stdout",
     "output_type": "stream",
     "text": [
      "Accuracy: 97.468354%\n",
      "Precision: 0.000000%\n",
      "Recall: 0.000000%\n",
      "F1: 0.000000%\n",
      "AUC: 50.000000%\n"
     ]
    }
   ],
   "source": [
    "#BernoulliNB\n",
    "from sklearn.naive_bayes import BernoulliNB\n",
    "bayes = BernoulliNB().fit(X_train.values.reshape(-1,1), y_train)\n",
    "bayes_predict = bayes.predict(X_test.values.reshape(-1,1))\n",
    "from sklearn import metrics\n",
    "print('Accuracy: %f' % (100*metrics.accuracy_score(y_test, bayes_predict)) + '%')\n",
    "print('Precision: %f' % (100*metrics.precision_score(y_test, bayes_predict)) + '%')\n",
    "print('Recall: %f' % (100*metrics.recall_score(y_test, bayes_predict)) + '%')\n",
    "print('F1: %f' % (100*metrics.f1_score(y_test, bayes_predict)) + '%')\n",
    "print('AUC: %f' % (100*metrics.roc_auc_score(y_test, bayes_predict)) + '%')"
   ]
  },
  {
   "cell_type": "code",
   "execution_count": 76,
   "metadata": {
    "collapsed": false
   },
   "outputs": [
    {
     "name": "stdout",
     "output_type": "stream",
     "text": [
      "Accuracy: 97.468354%\n",
      "Precision: 0.000000%\n",
      "Recall: 0.000000%\n",
      "F1: 0.000000%\n",
      "AUC: 50.000000%\n"
     ]
    }
   ],
   "source": [
    "#MultinomialNB\n",
    "from sklearn.naive_bayes import MultinomialNB\n",
    "bayes = MultinomialNB().fit(X_train.values.reshape(-1,1), y_train)\n",
    "bayes_predict = bayes.predict(X_test.values.reshape(-1,1))\n",
    "from sklearn import metrics\n",
    "print('Accuracy: %f' % (100*metrics.accuracy_score(y_test, bayes_predict)) + '%')\n",
    "print('Precision: %f' % (100*metrics.precision_score(y_test, bayes_predict)) + '%')\n",
    "print('Recall: %f' % (100*metrics.recall_score(y_test, bayes_predict)) + '%')\n",
    "print('F1: %f' % (100*metrics.f1_score(y_test, bayes_predict)) + '%')\n",
    "print('AUC: %f' % (100*metrics.roc_auc_score(y_test, bayes_predict)) + '%')"
   ]
  },
  {
   "cell_type": "code",
   "execution_count": 77,
   "metadata": {
    "collapsed": false
   },
   "outputs": [
    {
     "name": "stdout",
     "output_type": "stream",
     "text": [
      "Accuracy: 97.468354%\n",
      "Precision: 0.000000%\n",
      "Recall: 0.000000%\n",
      "F1: 0.000000%\n",
      "AUC: 50.000000%\n"
     ]
    }
   ],
   "source": [
    "#GaussianNB\n",
    "from sklearn.naive_bayes import GaussianNB\n",
    "bayes = GaussianNB().fit(X_train.values.reshape(-1,1), y_train)\n",
    "bayes_predict = bayes.predict(X_test.values.reshape(-1,1))\n",
    "from sklearn import metrics\n",
    "print('Accuracy: %f' % (100*metrics.accuracy_score(y_test, bayes_predict)) + '%')\n",
    "print('Precision: %f' % (100*metrics.precision_score(y_test, bayes_predict)) + '%')\n",
    "print('Recall: %f' % (100*metrics.recall_score(y_test, bayes_predict)) + '%')\n",
    "print('F1: %f' % (100*metrics.f1_score(y_test, bayes_predict)) + '%')\n",
    "print('AUC: %f' % (100*metrics.roc_auc_score(y_test, bayes_predict)) + '%')"
   ]
  },
  {
   "cell_type": "code",
   "execution_count": 78,
   "metadata": {
    "collapsed": false
   },
   "outputs": [
    {
     "name": "stdout",
     "output_type": "stream",
     "text": [
      "Accuracy: 96.202532%\n",
      "Precision: 0.000000%\n",
      "Recall: 0.000000%\n",
      "F1: 0.000000%\n",
      "AUC: 49.350649%\n"
     ]
    }
   ],
   "source": [
    "# Random Forest\n",
    "from sklearn.ensemble import RandomForestClassifier\n",
    "rf = RandomForestClassifier().fit(X_train.values.reshape(-1,1), y_train)\n",
    "rf_predict = rf.predict(X_test.values.reshape(-1,1))\n",
    "from sklearn import metrics\n",
    "print('Accuracy: %f' % (100*metrics.accuracy_score(y_test, rf_predict)) + '%')\n",
    "print('Precision: %f' % (100*metrics.precision_score(y_test, rf_predict)) + '%')\n",
    "print('Recall: %f' % (100*metrics.recall_score(y_test, rf_predict)) + '%')\n",
    "print('F1: %f' % (100*metrics.f1_score(y_test, rf_predict)) + '%')\n",
    "print('AUC: %f' % (100*metrics.roc_auc_score(y_test, rf_predict)) + '%')"
   ]
  },
  {
   "cell_type": "code",
   "execution_count": 79,
   "metadata": {
    "collapsed": false
   },
   "outputs": [
    {
     "name": "stdout",
     "output_type": "stream",
     "text": [
      "Accuracy: 97.468354%\n",
      "Precision: 0.000000%\n",
      "Recall: 0.000000%\n",
      "F1: 0.000000%\n",
      "AUC: 50.000000%\n"
     ]
    }
   ],
   "source": [
    "#LogisticRegression\n",
    "from sklearn.linear_model import LogisticRegression\n",
    "logistic = LogisticRegression().fit(X_train.values.reshape(-1,1), y_train)\n",
    "logistic_predict = logistic.predict(X_test.values.reshape(-1,1))\n",
    "from sklearn import metrics\n",
    "print('Accuracy: %f' % (100*metrics.accuracy_score(y_test, logistic_predict)) + '%')\n",
    "print('Precision: %f' % (100*metrics.precision_score(y_test, logistic_predict)) + '%')\n",
    "print('Recall: %f' % (100*metrics.recall_score(y_test, logistic_predict)) + '%')\n",
    "print('F1: %f' % (100*metrics.f1_score(y_test, logistic_predict)) + '%')\n",
    "print('AUC: %f' % (100*metrics.roc_auc_score(y_test, logistic_predict)) + '%')"
   ]
  },
  {
   "cell_type": "markdown",
   "metadata": {},
   "source": [
    "# Number of favourites count"
   ]
  },
  {
   "cell_type": "code",
   "execution_count": 80,
   "metadata": {
    "collapsed": true
   },
   "outputs": [],
   "source": [
    "all_data_edited = all_data[(all_data['favourites_count'] >= 0)& (all_data['favourites_count'] <= 1)]\n",
    "#Accuracy: 76.836158%\n",
    "#Precision: 76.836158%\n",
    "#Recall: 100.000000%\n",
    "#F1: 86.900958%\n",
    "#AUC: 50.000000%"
   ]
  },
  {
   "cell_type": "code",
   "execution_count": 81,
   "metadata": {
    "collapsed": true
   },
   "outputs": [],
   "source": [
    "all_data_edited = all_data[(all_data['favourites_count'] >= 2000)& (all_data['favourites_count'] <= 40000)]\n",
    "#Accuracy: 90.410959%\n",
    "#Precision: 0.000000%\n",
    "#Recall: 0.000000%\n",
    "#F1: 0.000000%\n",
    "#AUC: 50.000000%"
   ]
  },
  {
   "cell_type": "code",
   "execution_count": 82,
   "metadata": {
    "collapsed": true
   },
   "outputs": [],
   "source": [
    "all_data_edited = all_data[(all_data['favourites_count'] == 0)]\n",
    "#Accuracy: 78.289474%\n",
    "#Precision: 78.289474%\n",
    "#Recall: 100.000000%\n",
    "#F1: 87.822878\n",
    "#AUC: 50.000000%"
   ]
  },
  {
   "cell_type": "code",
   "execution_count": 83,
   "metadata": {
    "collapsed": true
   },
   "outputs": [],
   "source": [
    "all_data_edited = all_data[(all_data['favourites_count'] >= 10000)]\n",
    "#Accuracy: 91.666667%\n",
    "#Precision: 0.000000%\n",
    "#Recall: 0.000000%\n",
    "#F1: 0.000000%\n",
    "#AUC: 50.000000%"
   ]
  },
  {
   "cell_type": "code",
   "execution_count": 84,
   "metadata": {
    "collapsed": true
   },
   "outputs": [],
   "source": [
    "from sklearn.cross_validation import cross_val_score,train_test_split\n",
    "X =all_data_edited.favourites_count\n",
    "y_bot =all_data_edited.bot\n",
    "X_train, X_test, y_train, y_test = train_test_split(X, y_bot,random_state = 1)"
   ]
  },
  {
   "cell_type": "code",
   "execution_count": 85,
   "metadata": {
    "collapsed": false
   },
   "outputs": [
    {
     "name": "stdout",
     "output_type": "stream",
     "text": [
      "Accuracy: 91.666667%\n",
      "Precision: 0.000000%\n",
      "Recall: 0.000000%\n",
      "F1: 0.000000%\n",
      "AUC: 50.000000%\n"
     ]
    }
   ],
   "source": [
    "#BernoulliNB\n",
    "from sklearn.naive_bayes import BernoulliNB\n",
    "bayes = BernoulliNB().fit(X_train.values.reshape(-1,1), y_train)\n",
    "bayes_predict = bayes.predict(X_test.values.reshape(-1,1))\n",
    "from sklearn import metrics\n",
    "print('Accuracy: %f' % (100*metrics.accuracy_score(y_test, bayes_predict)) + '%')\n",
    "print('Precision: %f' % (100*metrics.precision_score(y_test, bayes_predict)) + '%')\n",
    "print('Recall: %f' % (100*metrics.recall_score(y_test, bayes_predict)) + '%')\n",
    "print('F1: %f' % (100*metrics.f1_score(y_test, bayes_predict)) + '%')\n",
    "print('AUC: %f' % (100*metrics.roc_auc_score(y_test, bayes_predict)) + '%')"
   ]
  },
  {
   "cell_type": "code",
   "execution_count": 86,
   "metadata": {
    "collapsed": false
   },
   "outputs": [
    {
     "name": "stdout",
     "output_type": "stream",
     "text": [
      "Accuracy: 91.666667%\n",
      "Precision: 0.000000%\n",
      "Recall: 0.000000%\n",
      "F1: 0.000000%\n",
      "AUC: 50.000000%\n"
     ]
    }
   ],
   "source": [
    "#MultinomialNB\n",
    "from sklearn.naive_bayes import MultinomialNB\n",
    "bayes = MultinomialNB().fit(X_train.values.reshape(-1,1), y_train)\n",
    "bayes_predict = bayes.predict(X_test.values.reshape(-1,1))\n",
    "from sklearn import metrics\n",
    "print('Accuracy: %f' % (100*metrics.accuracy_score(y_test, bayes_predict)) + '%')\n",
    "print('Precision: %f' % (100*metrics.precision_score(y_test, bayes_predict)) + '%')\n",
    "print('Recall: %f' % (100*metrics.recall_score(y_test, bayes_predict)) + '%')\n",
    "print('F1: %f' % (100*metrics.f1_score(y_test, bayes_predict)) + '%')\n",
    "print('AUC: %f' % (100*metrics.roc_auc_score(y_test, bayes_predict)) + '%')"
   ]
  },
  {
   "cell_type": "code",
   "execution_count": 87,
   "metadata": {
    "collapsed": false
   },
   "outputs": [
    {
     "name": "stdout",
     "output_type": "stream",
     "text": [
      "Accuracy: 75.000000%\n",
      "Precision: 0.000000%\n",
      "Recall: 0.000000%\n",
      "F1: 0.000000%\n",
      "AUC: 40.909091%\n"
     ]
    }
   ],
   "source": [
    "# Random Forest\n",
    "from sklearn.ensemble import RandomForestClassifier\n",
    "rf = RandomForestClassifier().fit(X_train.values.reshape(-1,1), y_train)\n",
    "rf_predict = rf.predict(X_test.values.reshape(-1,1))\n",
    "from sklearn import metrics\n",
    "print('Accuracy: %f' % (100*metrics.accuracy_score(y_test, rf_predict)) + '%')\n",
    "print('Precision: %f' % (100*metrics.precision_score(y_test, rf_predict)) + '%')\n",
    "print('Recall: %f' % (100*metrics.recall_score(y_test, rf_predict)) + '%')\n",
    "print('F1: %f' % (100*metrics.f1_score(y_test, rf_predict)) + '%')\n",
    "print('AUC: %f' % (100*metrics.roc_auc_score(y_test, rf_predict)) + '%')"
   ]
  },
  {
   "cell_type": "code",
   "execution_count": 88,
   "metadata": {
    "collapsed": false
   },
   "outputs": [
    {
     "name": "stdout",
     "output_type": "stream",
     "text": [
      "Accuracy: 79.166667%\n",
      "Precision: 0.000000%\n",
      "Recall: 0.000000%\n",
      "F1: 0.000000%\n",
      "AUC: 43.181818%\n"
     ]
    }
   ],
   "source": [
    "#LogisticRegression\n",
    "from sklearn.linear_model import LogisticRegression\n",
    "logistic = LogisticRegression().fit(X_train.values.reshape(-1,1), y_train)\n",
    "logistic_predict = logistic.predict(X_test.values.reshape(-1,1))\n",
    "from sklearn import metrics\n",
    "print('Accuracy: %f' % (100*metrics.accuracy_score(y_test, logistic_predict)) + '%')\n",
    "print('Precision: %f' % (100*metrics.precision_score(y_test, logistic_predict)) + '%')\n",
    "print('Recall: %f' % (100*metrics.recall_score(y_test, logistic_predict)) + '%')\n",
    "print('F1: %f' % (100*metrics.f1_score(y_test, logistic_predict)) + '%')\n",
    "print('AUC: %f' % (100*metrics.roc_auc_score(y_test, logistic_predict)) + '%')"
   ]
  },
  {
   "cell_type": "markdown",
   "metadata": {},
   "source": [
    "# Default profile image as feature"
   ]
  },
  {
   "cell_type": "code",
   "execution_count": 89,
   "metadata": {
    "collapsed": true
   },
   "outputs": [],
   "source": [
    "#dafault_profile_image as feature\n",
    "#split data to train dataset and test dataset\n",
    "#Accuracy: 56.272401%\n",
    "#Precision: 82.608696%\n",
    "#Recall: 7.335907%\n",
    "#F1: 13.475177%\n",
    "#AUC: 52.999057%\n",
    "from sklearn.cross_validation import cross_val_score,train_test_split\n",
    "X_default_profile_image =all_data.default_profile_image\n",
    "y_bot =all_data.bot\n",
    "X_train, X_test, y_train, y_test = train_test_split(X_default_profile_image, y_bot,random_state = 1)"
   ]
  },
  {
   "cell_type": "code",
   "execution_count": 90,
   "metadata": {
    "collapsed": false
   },
   "outputs": [
    {
     "name": "stdout",
     "output_type": "stream",
     "text": [
      "Accuracy: 56.272401%\n",
      "Precision: 82.608696%\n",
      "Recall: 7.335907%\n",
      "F1: 13.475177%\n",
      "AUC: 52.999057%\n"
     ]
    }
   ],
   "source": [
    "#GaussianNB\n",
    "from sklearn.naive_bayes import GaussianNB\n",
    "bayes = GaussianNB().fit(X_train.values.reshape(-1,1), y_train)\n",
    "bayes_predict = bayes.predict(X_test.values.reshape(-1,1))\n",
    "from sklearn import metrics\n",
    "print('Accuracy: %f' % (100*metrics.accuracy_score(y_test, bayes_predict)) + '%')\n",
    "print('Precision: %f' % (100*metrics.precision_score(y_test, bayes_predict)) + '%')\n",
    "print('Recall: %f' % (100*metrics.recall_score(y_test, bayes_predict)) + '%')\n",
    "print('F1: %f' % (100*metrics.f1_score(y_test, bayes_predict)) + '%')\n",
    "print('AUC: %f' % (100*metrics.roc_auc_score(y_test, bayes_predict)) + '%')"
   ]
  },
  {
   "cell_type": "code",
   "execution_count": 91,
   "metadata": {
    "collapsed": false
   },
   "outputs": [
    {
     "name": "stdout",
     "output_type": "stream",
     "text": [
      "Accuracy: 56.272401%\n",
      "Precision: 82.608696%\n",
      "Recall: 7.335907%\n",
      "F1: 13.475177%\n",
      "AUC: 52.999057%\n"
     ]
    }
   ],
   "source": [
    "#BernoulliNB\n",
    "from sklearn.naive_bayes import BernoulliNB\n",
    "bayes = BernoulliNB().fit(X_train.values.reshape(-1,1), y_train)\n",
    "bayes_predict = bayes.predict(X_test.values.reshape(-1,1))\n",
    "from sklearn import metrics\n",
    "print('Accuracy: %f' % (100*metrics.accuracy_score(y_test, bayes_predict)) + '%')\n",
    "print('Precision: %f' % (100*metrics.precision_score(y_test, bayes_predict)) + '%')\n",
    "print('Recall: %f' % (100*metrics.recall_score(y_test, bayes_predict)) + '%')\n",
    "print('F1: %f' % (100*metrics.f1_score(y_test, bayes_predict)) + '%')\n",
    "print('AUC: %f' % (100*metrics.roc_auc_score(y_test, bayes_predict)) + '%')"
   ]
  },
  {
   "cell_type": "code",
   "execution_count": 92,
   "metadata": {
    "collapsed": false
   },
   "outputs": [
    {
     "name": "stdout",
     "output_type": "stream",
     "text": [
      "Accuracy: 56.272401%\n",
      "Precision: 82.608696%\n",
      "Recall: 7.335907%\n",
      "F1: 13.475177%\n",
      "AUC: 52.999057%\n"
     ]
    }
   ],
   "source": [
    "# Random Forest\n",
    "from sklearn.ensemble import RandomForestClassifier\n",
    "rf = RandomForestClassifier().fit(X_train.values.reshape(-1,1), y_train)\n",
    "rf_predict = rf.predict(X_test.values.reshape(-1,1))\n",
    "from sklearn import metrics\n",
    "print('Accuracy: %f' % (100*metrics.accuracy_score(y_test, rf_predict)) + '%')\n",
    "print('Precision: %f' % (100*metrics.precision_score(y_test, rf_predict)) + '%')\n",
    "print('Recall: %f' % (100*metrics.recall_score(y_test, rf_predict)) + '%')\n",
    "print('F1: %f' % (100*metrics.f1_score(y_test, rf_predict)) + '%')\n",
    "print('AUC: %f' % (100*metrics.roc_auc_score(y_test, rf_predict)) + '%')"
   ]
  },
  {
   "cell_type": "code",
   "execution_count": 93,
   "metadata": {
    "collapsed": false
   },
   "outputs": [
    {
     "name": "stdout",
     "output_type": "stream",
     "text": [
      "Accuracy: 56.272401%\n",
      "Precision: 82.608696%\n",
      "Recall: 7.335907%\n",
      "F1: 13.475177%\n",
      "AUC: 52.999057%\n"
     ]
    }
   ],
   "source": [
    "#LogisticRegression\n",
    "from sklearn.linear_model import LogisticRegression\n",
    "logistic = LogisticRegression().fit(X_train.values.reshape(-1,1), y_train)\n",
    "logistic_predict = logistic.predict(X_test.values.reshape(-1,1))\n",
    "from sklearn import metrics\n",
    "print('Accuracy: %f' % (100*metrics.accuracy_score(y_test, logistic_predict)) + '%')\n",
    "print('Precision: %f' % (100*metrics.precision_score(y_test, logistic_predict)) + '%')\n",
    "print('Recall: %f' % (100*metrics.recall_score(y_test, logistic_predict)) + '%')\n",
    "print('F1: %f' % (100*metrics.f1_score(y_test, logistic_predict)) + '%')\n",
    "print('AUC: %f' % (100*metrics.roc_auc_score(y_test, logistic_predict)) + '%')"
   ]
  },
  {
   "cell_type": "markdown",
   "metadata": {},
   "source": [
    "# status count as feature"
   ]
  },
  {
   "cell_type": "code",
   "execution_count": 94,
   "metadata": {
    "collapsed": true
   },
   "outputs": [],
   "source": [
    "all_data_edited = all_data[(all_data['statuses_count'] >=100000)]"
   ]
  },
  {
   "cell_type": "code",
   "execution_count": 95,
   "metadata": {
    "collapsed": true
   },
   "outputs": [],
   "source": [
    "from sklearn.cross_validation import cross_val_score,train_test_split\n",
    "X =all_data_edited.statuses_count\n",
    "y_bot =all_data_edited.bot\n",
    "X_train, X_test, y_train, y_test = train_test_split(X, y_bot,random_state = 1)"
   ]
  },
  {
   "cell_type": "code",
   "execution_count": 96,
   "metadata": {
    "collapsed": false
   },
   "outputs": [
    {
     "name": "stdout",
     "output_type": "stream",
     "text": [
      "Accuracy: 73.333333%\n",
      "Precision: 73.333333%\n",
      "Recall: 100.000000%\n",
      "F1: 84.615385%\n",
      "AUC: 50.000000%\n"
     ]
    }
   ],
   "source": [
    "#BernoulliNB\n",
    "from sklearn.naive_bayes import BernoulliNB\n",
    "bayes = BernoulliNB().fit(X_train.values.reshape(-1,1), y_train)\n",
    "bayes_predict = bayes.predict(X_test.values.reshape(-1,1))\n",
    "from sklearn import metrics\n",
    "print('Accuracy: %f' % (100*metrics.accuracy_score(y_test, bayes_predict)) + '%')\n",
    "print('Precision: %f' % (100*metrics.precision_score(y_test, bayes_predict)) + '%')\n",
    "print('Recall: %f' % (100*metrics.recall_score(y_test, bayes_predict)) + '%')\n",
    "print('F1: %f' % (100*metrics.f1_score(y_test, bayes_predict)) + '%')\n",
    "print('AUC: %f' % (100*metrics.roc_auc_score(y_test, bayes_predict)) + '%')"
   ]
  },
  {
   "cell_type": "code",
   "execution_count": 97,
   "metadata": {
    "collapsed": false
   },
   "outputs": [
    {
     "name": "stdout",
     "output_type": "stream",
     "text": [
      "Accuracy: 60.000000%\n",
      "Precision: 72.727273%\n",
      "Recall: 72.727273%\n",
      "F1: 72.727273%\n",
      "AUC: 48.863636%\n"
     ]
    }
   ],
   "source": [
    "# Random Forest\n",
    "from sklearn.ensemble import RandomForestClassifier\n",
    "rf = RandomForestClassifier().fit(X_train.values.reshape(-1,1), y_train)\n",
    "rf_predict = rf.predict(X_test.values.reshape(-1,1))\n",
    "from sklearn import metrics\n",
    "print('Accuracy: %f' % (100*metrics.accuracy_score(y_test, rf_predict)) + '%')\n",
    "print('Precision: %f' % (100*metrics.precision_score(y_test, rf_predict)) + '%')\n",
    "print('Recall: %f' % (100*metrics.recall_score(y_test, rf_predict)) + '%')\n",
    "print('F1: %f' % (100*metrics.f1_score(y_test, rf_predict)) + '%')\n",
    "print('AUC: %f' % (100*metrics.roc_auc_score(y_test, rf_predict)) + '%')"
   ]
  },
  {
   "cell_type": "code",
   "execution_count": 98,
   "metadata": {
    "collapsed": false
   },
   "outputs": [
    {
     "name": "stdout",
     "output_type": "stream",
     "text": [
      "Accuracy: 73.333333%\n",
      "Precision: 73.333333%\n",
      "Recall: 100.000000%\n",
      "F1: 84.615385%\n",
      "AUC: 50.000000%\n"
     ]
    }
   ],
   "source": [
    "#LogisticRegression\n",
    "from sklearn.linear_model import LogisticRegression\n",
    "logistic = LogisticRegression().fit(X_train.values.reshape(-1,1), y_train)\n",
    "logistic_predict = logistic.predict(X_test.values.reshape(-1,1))\n",
    "from sklearn import metrics\n",
    "print('Accuracy: %f' % (100*metrics.accuracy_score(y_test, logistic_predict)) + '%')\n",
    "print('Precision: %f' % (100*metrics.precision_score(y_test, logistic_predict)) + '%')\n",
    "print('Recall: %f' % (100*metrics.recall_score(y_test, logistic_predict)) + '%')\n",
    "print('F1: %f' % (100*metrics.f1_score(y_test, logistic_predict)) + '%')\n",
    "print('AUC: %f' % (100*metrics.roc_auc_score(y_test, logistic_predict)) + '%')"
   ]
  },
  {
   "cell_type": "markdown",
   "metadata": {},
   "source": [
    "# default profile as feature"
   ]
  },
  {
   "cell_type": "code",
   "execution_count": 99,
   "metadata": {
    "collapsed": true
   },
   "outputs": [],
   "source": [
    "#default_profile as feature\n",
    "#Accuracy: 70.609319%\n",
    "#Precision: 69.076305%\n",
    "#Recall: 66.409266%\n",
    "#F1: 67.716535%\n",
    "#AUC: 70.328379%\n",
    "#split data to train dataset and test dataset\n",
    "from sklearn.cross_validation import cross_val_score,train_test_split\n",
    "X_default_profile =all_data.default_profile\n",
    "y_bot =all_data.bot\n",
    "X_train, X_test, y_train, y_test = train_test_split(X_default_profile, y_bot,random_state = 1)"
   ]
  },
  {
   "cell_type": "code",
   "execution_count": 100,
   "metadata": {
    "collapsed": false
   },
   "outputs": [
    {
     "name": "stdout",
     "output_type": "stream",
     "text": [
      "Accuracy: 70.609319%\n",
      "Precision: 69.076305%\n",
      "Recall: 66.409266%\n",
      "F1: 67.716535%\n",
      "AUC: 70.328379%\n"
     ]
    }
   ],
   "source": [
    "#BernoulliNB\n",
    "from sklearn.naive_bayes import BernoulliNB\n",
    "bayes = BernoulliNB().fit(X_train.values.reshape(-1,1), y_train)\n",
    "bayes_predict = bayes.predict(X_test.values.reshape(-1,1))\n",
    "from sklearn import metrics\n",
    "print('Accuracy: %f' % (100*metrics.accuracy_score(y_test, bayes_predict)) + '%')\n",
    "print('Precision: %f' % (100*metrics.precision_score(y_test, bayes_predict)) + '%')\n",
    "print('Recall: %f' % (100*metrics.recall_score(y_test, bayes_predict)) + '%')\n",
    "print('F1: %f' % (100*metrics.f1_score(y_test, bayes_predict)) + '%')\n",
    "print('AUC: %f' % (100*metrics.roc_auc_score(y_test, bayes_predict)) + '%')"
   ]
  },
  {
   "cell_type": "code",
   "execution_count": 101,
   "metadata": {
    "collapsed": false
   },
   "outputs": [
    {
     "name": "stdout",
     "output_type": "stream",
     "text": [
      "Accuracy: 70.609319%\n",
      "Precision: 69.076305%\n",
      "Recall: 66.409266%\n",
      "F1: 67.716535%\n",
      "AUC: 70.328379%\n"
     ]
    }
   ],
   "source": [
    "# Random Forest\n",
    "from sklearn.ensemble import RandomForestClassifier\n",
    "rf = RandomForestClassifier().fit(X_train.values.reshape(-1,1), y_train)\n",
    "rf_predict = rf.predict(X_test.values.reshape(-1,1))\n",
    "from sklearn import metrics\n",
    "print('Accuracy: %f' % (100*metrics.accuracy_score(y_test, rf_predict)) + '%')\n",
    "print('Precision: %f' % (100*metrics.precision_score(y_test, rf_predict)) + '%')\n",
    "print('Recall: %f' % (100*metrics.recall_score(y_test, rf_predict)) + '%')\n",
    "print('F1: %f' % (100*metrics.f1_score(y_test, rf_predict)) + '%')\n",
    "print('AUC: %f' % (100*metrics.roc_auc_score(y_test, rf_predict)) + '%')"
   ]
  },
  {
   "cell_type": "code",
   "execution_count": 102,
   "metadata": {
    "collapsed": false
   },
   "outputs": [
    {
     "name": "stdout",
     "output_type": "stream",
     "text": [
      "Accuracy: 70.609319%\n",
      "Precision: 69.076305%\n",
      "Recall: 66.409266%\n",
      "F1: 67.716535%\n",
      "AUC: 70.328379%\n"
     ]
    }
   ],
   "source": [
    "#LogisticRegression\n",
    "from sklearn.linear_model import LogisticRegression\n",
    "logistic = LogisticRegression().fit(X_train.values.reshape(-1,1), y_train)\n",
    "logistic_predict = logistic.predict(X_test.values.reshape(-1,1))\n",
    "from sklearn import metrics\n",
    "print('Accuracy: %f' % (100*metrics.accuracy_score(y_test, logistic_predict)) + '%')\n",
    "print('Precision: %f' % (100*metrics.precision_score(y_test, logistic_predict)) + '%')\n",
    "print('Recall: %f' % (100*metrics.recall_score(y_test, logistic_predict)) + '%')\n",
    "print('F1: %f' % (100*metrics.f1_score(y_test, logistic_predict)) + '%')\n",
    "print('AUC: %f' % (100*metrics.roc_auc_score(y_test, logistic_predict)) + '%')"
   ]
  },
  {
   "cell_type": "markdown",
   "metadata": {},
   "source": [
    "# whether they have extended profile as feature"
   ]
  },
  {
   "cell_type": "code",
   "execution_count": 103,
   "metadata": {
    "collapsed": false
   },
   "outputs": [],
   "source": [
    "all_data['has_extended_profile'].isnull().any()\n",
    "all_data_edited = all_data['has_extended_profile'].fillna(method = 'ffill')"
   ]
  },
  {
   "cell_type": "code",
   "execution_count": 104,
   "metadata": {
    "collapsed": false
   },
   "outputs": [],
   "source": [
    "#has_extended_profile as feature\n",
    "#Accuracy: 52.508961%\n",
    "#Precision: 49.367089%\n",
    "#Recall: 90.347490%\n",
    "#F1: 63.847203%\n",
    "#AUC: 55.039966%\n",
    "from sklearn.cross_validation import cross_val_score,train_test_split\n",
    "X_has_extended_profile = all_data_edited\n",
    "y_bot =all_data.bot\n",
    "X_train, X_test, y_train, y_test = train_test_split(X_has_extended_profile, y_bot,random_state = 1)"
   ]
  },
  {
   "cell_type": "code",
   "execution_count": 105,
   "metadata": {
    "collapsed": false
   },
   "outputs": [
    {
     "name": "stdout",
     "output_type": "stream",
     "text": [
      "Accuracy: 52.508961%\n",
      "Precision: 49.367089%\n",
      "Recall: 90.347490%\n",
      "F1: 63.847203%\n",
      "AUC: 55.039966%\n"
     ]
    }
   ],
   "source": [
    "#BernoulliNB\n",
    "from sklearn.naive_bayes import BernoulliNB\n",
    "bayes = BernoulliNB().fit(X_train.values.reshape(-1,1), y_train)\n",
    "bayes_predict = bayes.predict(X_test.values.reshape(-1,1))\n",
    "from sklearn import metrics\n",
    "print('Accuracy: %f' % (100*metrics.accuracy_score(y_test, bayes_predict)) + '%')\n",
    "print('Precision: %f' % (100*metrics.precision_score(y_test, bayes_predict)) + '%')\n",
    "print('Recall: %f' % (100*metrics.recall_score(y_test, bayes_predict)) + '%')\n",
    "print('F1: %f' % (100*metrics.f1_score(y_test, bayes_predict)) + '%')\n",
    "print('AUC: %f' % (100*metrics.roc_auc_score(y_test, bayes_predict)) + '%')"
   ]
  },
  {
   "cell_type": "code",
   "execution_count": 106,
   "metadata": {
    "collapsed": false,
    "scrolled": true
   },
   "outputs": [
    {
     "name": "stdout",
     "output_type": "stream",
     "text": [
      "Accuracy: 52.508961%\n",
      "Precision: 49.367089%\n",
      "Recall: 90.347490%\n",
      "F1: 63.847203%\n",
      "AUC: 55.039966%\n"
     ]
    }
   ],
   "source": [
    "# Random Forest\n",
    "from sklearn.ensemble import RandomForestClassifier\n",
    "rf = RandomForestClassifier().fit(X_train.values.reshape(-1,1), y_train)\n",
    "rf_predict = rf.predict(X_test.values.reshape(-1,1))\n",
    "from sklearn import metrics\n",
    "print('Accuracy: %f' % (100*metrics.accuracy_score(y_test, rf_predict)) + '%')\n",
    "print('Precision: %f' % (100*metrics.precision_score(y_test, rf_predict)) + '%')\n",
    "print('Recall: %f' % (100*metrics.recall_score(y_test, rf_predict)) + '%')\n",
    "print('F1: %f' % (100*metrics.f1_score(y_test, rf_predict)) + '%')\n",
    "print('AUC: %f' % (100*metrics.roc_auc_score(y_test, rf_predict)) + '%')"
   ]
  },
  {
   "cell_type": "code",
   "execution_count": 107,
   "metadata": {
    "collapsed": false
   },
   "outputs": [
    {
     "name": "stdout",
     "output_type": "stream",
     "text": [
      "Accuracy: 52.508961%\n",
      "Precision: 49.367089%\n",
      "Recall: 90.347490%\n",
      "F1: 63.847203%\n",
      "AUC: 55.039966%\n"
     ]
    }
   ],
   "source": [
    "#LogisticRegression\n",
    "from sklearn.linear_model import LogisticRegression\n",
    "logistic = LogisticRegression().fit(X_train.values.reshape(-1,1), y_train)\n",
    "logistic_predict = logistic.predict(X_test.values.reshape(-1,1))\n",
    "from sklearn import metrics\n",
    "print('Accuracy: %f' % (100*metrics.accuracy_score(y_test, logistic_predict)) + '%')\n",
    "print('Precision: %f' % (100*metrics.precision_score(y_test, logistic_predict)) + '%')\n",
    "print('Recall: %f' % (100*metrics.recall_score(y_test, logistic_predict)) + '%')\n",
    "print('F1: %f' % (100*metrics.f1_score(y_test, logistic_predict)) + '%')\n",
    "print('AUC: %f' % (100*metrics.roc_auc_score(y_test, logistic_predict)) + '%')"
   ]
  },
  {
   "cell_type": "markdown",
   "metadata": {},
   "source": [
    "# Obsoleted Code"
   ]
  },
  {
   "cell_type": "code",
   "execution_count": 108,
   "metadata": {
    "collapsed": false
   },
   "outputs": [
    {
     "data": {
      "text/plain": [
       "<matplotlib.axes._subplots.AxesSubplot at 0xc35bb70>"
      ]
     },
     "execution_count": 108,
     "metadata": {},
     "output_type": "execute_result"
    },
    {
     "data": {
      "image/png": "[encoded data removed]",
      "text/plain": [
       "<matplotlib.figure.Figure at 0xa06f198>"
      ]
     },
     "metadata": {},
     "output_type": "display_data"
    }
   ],
   "source": [
    "followers_pattern_nonbot = nonbots_data[['friends_count']]\n",
    "followers_plot = followers_pattern_nonbot['friends_count'].hist(bins=10, range =(0, 0))\n",
    "followers_plot.set_title('bot = 0')\n",
    "followers_plot.set_xlabel('number of followers')\n",
    "followers_plot.set_ylabel('counts')\n",
    "followers_plot"
   ]
  },
  {
   "cell_type": "code",
   "execution_count": 109,
   "metadata": {
    "collapsed": false
   },
   "outputs": [
    {
     "data": {
      "text/plain": [
       "<matplotlib.text.Text at 0xb8aca58>"
      ]
     },
     "execution_count": 109,
     "metadata": {},
     "output_type": "execute_result"
    },
    {
     "data": {
      "image/png": "[encoded data removed]",
      "text/plain": [
       "<matplotlib.figure.Figure at 0xa16a358>"
      ]
     },
     "metadata": {},
     "output_type": "display_data"
    }
   ],
   "source": [
    "followers_pattern = bots_data[['friends_count']]\n",
    "followers_plot = followers_pattern['friends_count'].hist(bins=10,range = (0,0))\n",
    "followers_plot.set_title('bot = 1')\n",
    "followers_plot.set_xlabel('number of followers')\n",
    "followers_plot.set_ylabel('counts')"
   ]
  },
  {
   "cell_type": "code",
   "execution_count": 110,
   "metadata": {
    "collapsed": false
   },
   "outputs": [
    {
     "data": {
      "text/plain": [
       "<matplotlib.axes._subplots.AxesSubplot at 0xb8b1860>"
      ]
     },
     "execution_count": 110,
     "metadata": {},
     "output_type": "execute_result"
    },
    {
     "data": {
      "image/png": "[encoded data removed]",
      "text/plain": [
       "<matplotlib.figure.Figure at 0xca8d9e8>"
      ]
     },
     "metadata": {},
     "output_type": "display_data"
    }
   ],
   "source": [
    "followers_pattern_nonbot = nonbots_data[['followers_count']]\n",
    "followers_plot = followers_pattern_nonbot['followers_count'].hist(bins=10, range =(100000, 1000000))\n",
    "followers_plot.set_title('bot = 0')\n",
    "followers_plot.set_xlabel('number of followers')\n",
    "followers_plot.set_ylabel('counts')\n",
    "followers_plot"
   ]
  },
  {
   "cell_type": "code",
   "execution_count": 111,
   "metadata": {
    "collapsed": false
   },
   "outputs": [
    {
     "data": {
      "text/plain": [
       "<matplotlib.axes._subplots.AxesSubplot at 0xcceb588>"
      ]
     },
     "execution_count": 111,
     "metadata": {},
     "output_type": "execute_result"
    },
    {
     "data": {
      "image/png": "[encoded data removed]",
      "text/plain": [
       "<matplotlib.figure.Figure at 0xcd64eb8>"
      ]
     },
     "metadata": {},
     "output_type": "display_data"
    }
   ],
   "source": [
    "followers_pattern_nonbot = nonbots_data[['followers_count']]\n",
    "followers_plot = followers_pattern_nonbot['followers_count'].hist(bins=10, range =(0, 100))\n",
    "followers_plot.set_title('bot = 0')\n",
    "followers_plot.set_xlabel('number of followers')\n",
    "followers_plot.set_ylabel('counts')\n",
    "followers_plot"
   ]
  },
  {
   "cell_type": "code",
   "execution_count": 112,
   "metadata": {
    "collapsed": false
   },
   "outputs": [
    {
     "data": {
      "text/plain": [
       "<matplotlib.axes._subplots.AxesSubplot at 0xf683710>"
      ]
     },
     "execution_count": 112,
     "metadata": {},
     "output_type": "execute_result"
    },
    {
     "data": {
      "image/png": "[encoded data removed]",
      "text/plain": [
       "<matplotlib.figure.Figure at 0xf314748>"
      ]
     },
     "metadata": {},
     "output_type": "display_data"
    }
   ],
   "source": [
    "friends_pattern_bots = bots_data[['friends_count']]\n",
    "friends_plot = friends_pattern_bots['friends_count'].hist(bins=10, range=(300,1000))\n",
    "friends_plot.set_title('bot = 1')\n",
    "friends_plot.set_xlabel('number of friends')\n",
    "friends_plot.set_ylabel('counts')\n",
    "friends_plot"
   ]
  },
  {
   "cell_type": "code",
   "execution_count": 113,
   "metadata": {
    "collapsed": false
   },
   "outputs": [
    {
     "data": {
      "text/plain": [
       "<matplotlib.axes._subplots.AxesSubplot at 0xf4293c8>"
      ]
     },
     "execution_count": 113,
     "metadata": {},
     "output_type": "execute_result"
    },
    {
     "data": {
      "image/png": "[encoded data removed]",
      "text/plain": [
       "<matplotlib.figure.Figure at 0xf4ec828>"
      ]
     },
     "metadata": {},
     "output_type": "display_data"
    }
   ],
   "source": [
    "friends_pattern_nonbots = nonbots_data[['friends_count']]\n",
    "friends_plot = friends_pattern_nonbots['friends_count'].hist(bins=10, range=(300,1000))\n",
    "friends_plot.set_title('bot = 1')\n",
    "friends_plot.set_xlabel('number of friends')\n",
    "friends_plot.set_ylabel('counts')\n",
    "friends_plot"
   ]
  },
  {
   "cell_type": "code",
   "execution_count": 114,
   "metadata": {
    "collapsed": false
   },
   "outputs": [
    {
     "data": {
      "text/plain": [
       "<matplotlib.axes._subplots.AxesSubplot at 0xef9c5c0>"
      ]
     },
     "execution_count": 114,
     "metadata": {},
     "output_type": "execute_result"
    },
    {
     "data": {
      "image/png": "[encoded data removed]",
      "text/plain": [
       "<matplotlib.figure.Figure at 0xf097978>"
      ]
     },
     "metadata": {},
     "output_type": "display_data"
    }
   ],
   "source": [
    "friends_pattern_bots = bots_data[['favourites_count']]\n",
    "friends_plot = friends_pattern_bots['favourites_count'].hist(bins=10, range=(300,2500))\n",
    "friends_plot.set_title('bot = 1')\n",
    "friends_plot.set_xlabel('number of favourites')\n",
    "friends_plot.set_ylabel('counts')\n",
    "friends_plot"
   ]
  },
  {
   "cell_type": "code",
   "execution_count": 115,
   "metadata": {
    "collapsed": false
   },
   "outputs": [
    {
     "data": {
      "text/plain": [
       "<matplotlib.axes._subplots.AxesSubplot at 0xf08a7b8>"
      ]
     },
     "execution_count": 115,
     "metadata": {},
     "output_type": "execute_result"
    },
    {
     "data": {
      "image/png": "[encoded data removed]",
      "text/plain": [
       "<matplotlib.figure.Figure at 0x10486128>"
      ]
     },
     "metadata": {},
     "output_type": "display_data"
    }
   ],
   "source": [
    "friends_pattern_nonbots = nonbots_data[['favourites_count']]\n",
    "friends_plot = friends_pattern_nonbots['favourites_count'].hist(bins=10, range=(300,2500))\n",
    "friends_plot.set_title('bot = 0')\n",
    "friends_plot.set_xlabel('number of favourites')\n",
    "friends_plot.set_ylabel('counts')\n",
    "friends_plot"
   ]
  }
 ],
 "metadata": {
  "anaconda-cloud": {},
  "kernelspec": {
   "display_name": "Python 2",
   "language": "python",
   "name": "python2"
  },
  "language_info": {
   "codemirror_mode": {
    "name": "ipython",
    "version": 2
   },
   "file_extension": ".py",
   "mimetype": "text/x-python",
   "name": "python",
   "nbconvert_exporter": "python",
   "pygments_lexer": "ipython2",
   "version": "2.7.13"
  }
 },
 "nbformat": 4,
 "nbformat_minor": 0
}
