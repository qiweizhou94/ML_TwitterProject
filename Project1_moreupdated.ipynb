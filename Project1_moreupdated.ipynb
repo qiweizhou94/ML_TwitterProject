{
 "cells": [
  {
   "cell_type": "markdown",
   "metadata": {},
   "source": [
    "# Insult Classification"
   ]
  },
  {
   "cell_type": "markdown",
   "metadata": {},
   "source": [
    "In this exercise, we would like to filter out insulting comments on a web forum. \n",
    "\n",
    "To train our models, we have a list of historic comments with a judgement wether they're insulting or not."
   ]
  },
  {
   "cell_type": "code",
   "execution_count": 14,
   "metadata": {
    "collapsed": false,
    "scrolled": true
   },
   "outputs": [
    {
     "data": {
      "text/html": [
       "<div>\n",
       "<table border=\"1\" class=\"dataframe\">\n",
       "  <thead>\n",
       "    <tr style=\"text-align: right;\">\n",
       "      <th></th>\n",
       "      <th>id</th>\n",
       "      <th>id_str</th>\n",
       "      <th>screen_name</th>\n",
       "      <th>location</th>\n",
       "      <th>description</th>\n",
       "      <th>url</th>\n",
       "      <th>followers_count</th>\n",
       "      <th>friends_count</th>\n",
       "      <th>listedcount</th>\n",
       "      <th>created_at</th>\n",
       "      <th>favourites_count</th>\n",
       "      <th>verified</th>\n",
       "      <th>statuses_count</th>\n",
       "      <th>lang</th>\n",
       "      <th>status</th>\n",
       "      <th>default_profile</th>\n",
       "      <th>default_profile_image</th>\n",
       "      <th>has_extended_profile</th>\n",
       "      <th>name</th>\n",
       "      <th>bot</th>\n",
       "    </tr>\n",
       "  </thead>\n",
       "  <tbody>\n",
       "    <tr>\n",
       "      <th>0</th>\n",
       "      <td>3.982732e+09</td>\n",
       "      <td>3982731976</td>\n",
       "      <td>mcgucket_bot</td>\n",
       "      <td>NaN</td>\n",
       "      <td>A bot that tweets every line said by Fiddlefor...</td>\n",
       "      <td>NaN</td>\n",
       "      <td>1129</td>\n",
       "      <td>7</td>\n",
       "      <td>2</td>\n",
       "      <td>Sat Oct 17 22:35:31 +0000 2015</td>\n",
       "      <td>0</td>\n",
       "      <td>False</td>\n",
       "      <td>23557</td>\n",
       "      <td>en</td>\n",
       "      <td>{'retweeted': False, 'is_quote_status': False,...</td>\n",
       "      <td>False</td>\n",
       "      <td>False</td>\n",
       "      <td>False</td>\n",
       "      <td>McGucket bot</td>\n",
       "      <td>1</td>\n",
       "    </tr>\n",
       "    <tr>\n",
       "      <th>1</th>\n",
       "      <td>8.410000e+17</td>\n",
       "      <td>8.41E+17</td>\n",
       "      <td>BowieK66</td>\n",
       "      <td>NaN</td>\n",
       "      <td>NaN</td>\n",
       "      <td>NaN</td>\n",
       "      <td>0</td>\n",
       "      <td>22</td>\n",
       "      <td>0</td>\n",
       "      <td>13/03/2017 22:21</td>\n",
       "      <td>0</td>\n",
       "      <td>False</td>\n",
       "      <td>1</td>\n",
       "      <td>en</td>\n",
       "      <td>Status(_api=&lt;tweepy.api.API object at 0x101927...</td>\n",
       "      <td>True</td>\n",
       "      <td>True</td>\n",
       "      <td>False</td>\n",
       "      <td>MJ Kuhn</td>\n",
       "      <td>1</td>\n",
       "    </tr>\n",
       "  </tbody>\n",
       "</table>\n",
       "</div>"
      ],
      "text/plain": [
       "             id      id_str   screen_name location  \\\n",
       "0  3.982732e+09  3982731976  mcgucket_bot      NaN   \n",
       "1  8.410000e+17    8.41E+17      BowieK66      NaN   \n",
       "\n",
       "                                         description  url  followers_count  \\\n",
       "0  A bot that tweets every line said by Fiddlefor...  NaN             1129   \n",
       "1                                                NaN  NaN                0   \n",
       "\n",
       "   friends_count  listedcount                      created_at  \\\n",
       "0              7            2  Sat Oct 17 22:35:31 +0000 2015   \n",
       "1             22            0                13/03/2017 22:21   \n",
       "\n",
       "   favourites_count verified  statuses_count lang  \\\n",
       "0                 0    False           23557   en   \n",
       "1                 0    False               1   en   \n",
       "\n",
       "                                              status default_profile  \\\n",
       "0  {'retweeted': False, 'is_quote_status': False,...           False   \n",
       "1  Status(_api=<tweepy.api.API object at 0x101927...            True   \n",
       "\n",
       "  default_profile_image has_extended_profile          name  bot  \n",
       "0                 False                False  McGucket bot    1  \n",
       "1                  True                False       MJ Kuhn    1  "
      ]
     },
     "execution_count": 14,
     "metadata": {},
     "output_type": "execute_result"
    }
   ],
   "source": [
    "import pandas as pd\n",
    "import numpy as np\n",
    "import random\n",
    "import matplotlib.pyplot as plt\n",
    "import csv\n",
    "from pandas import Series\n",
    "%matplotlib inline\n",
    "path_to_insults = 'data/'\n",
    "bots_data = pd.read_csv(path_to_insults + 'bots_data.csv')\n",
    "nonbots_data = pd.read_csv(path_to_insults + 'nonbots_data.csv')\n",
    "bots_data.head(2)"
   ]
  },
  {
   "cell_type": "code",
   "execution_count": 15,
   "metadata": {
    "collapsed": false
   },
   "outputs": [
    {
     "name": "stdout",
     "output_type": "stream",
     "text": [
      "(1056, 20)\n",
      "(1176, 20)\n"
     ]
    }
   ],
   "source": [
    "print(bots_data.shape)\n",
    "print(nonbots_data.shape)"
   ]
  },
  {
   "cell_type": "code",
   "execution_count": 215,
   "metadata": {
    "collapsed": false
   },
   "outputs": [
    {
     "data": {
      "image/png": "[encoded data removed]",
      "text/plain": [
       "<matplotlib.figure.Figure at 0xede7518>"
      ]
     },
     "metadata": {},
     "output_type": "display_data"
    }
   ],
   "source": [
    "# bot has 80 counts of zero followers_count, nonbot has only 4 count of zero followers_count\n",
    "x = nonbots_data['followers_count']\n",
    "y = bots_data['followers_count']\n",
    "bins = numpy.linspace(0,0.5, 2)\n",
    "pyplot.hist(x, bins,alpha=0.5,facecolor='g',label='bot = 0')\n",
    "pyplot.hist(y, bins,alpha=0.5,facecolor ='b',label='bot = 1')\n",
    "pyplot.ylabel('counts')\n",
    "pyplot.xlabel('followers_count')\n",
    "pyplot.axis([0,0.5,0,90])\n",
    "pyplot.legend(loc='upper right')\n",
    "pyplot.show()"
   ]
  },
  {
   "cell_type": "code",
   "execution_count": 214,
   "metadata": {
    "collapsed": false
   },
   "outputs": [
    {
     "data": {
      "image/png": "[encoded data removed]",
      "text/plain": [
       "<matplotlib.figure.Figure at 0xd5d5208>"
      ]
     },
     "metadata": {},
     "output_type": "display_data"
    }
   ],
   "source": [
    "# in this range, bot has 188 counts of followers_count, nonbot has only 48 count offollowers_count\n",
    "x = nonbots_data['followers_count']\n",
    "y = bots_data['followers_count']\n",
    "bins = numpy.linspace(1,10,4)\n",
    "pyplot.hist(x, bins,alpha=0.5,facecolor='g',label='bot = 0')\n",
    "pyplot.hist(y, bins,alpha=0.5,facecolor ='b',label='bot = 1')\n",
    "pyplot.ylabel('counts')\n",
    "pyplot.xlabel('followers_count')\n",
    "pyplot.axis([1,10,0,100])\n",
    "pyplot.legend(loc='upper right')\n",
    "pyplot.show()"
   ]
  },
  {
   "cell_type": "code",
   "execution_count": 212,
   "metadata": {
    "collapsed": false
   },
   "outputs": [
    {
     "data": {
      "image/png": "[encoded data removed]",
      "text/plain": [
       "<matplotlib.figure.Figure at 0xc4906a0>"
      ]
     },
     "metadata": {},
     "output_type": "display_data"
    }
   ],
   "source": [
    "# in this range, bot has 275 counts of followers_count, nonbot has only 205 count offollowers_count\n",
    "x = nonbots_data['followers_count']\n",
    "y = bots_data['followers_count']\n",
    "bins = numpy.linspace(10,100,4)\n",
    "pyplot.hist(x, bins,alpha=0.5,facecolor='g',label='bot = 0')\n",
    "pyplot.hist(y, bins,alpha=0.5,facecolor ='b',label='bot = 1')\n",
    "pyplot.ylabel('counts')\n",
    "pyplot.xlabel('followers_count')\n",
    "pyplot.axis([10,100,0,130])\n",
    "pyplot.legend(loc='upper right')\n",
    "pyplot.show()"
   ]
  },
  {
   "cell_type": "code",
   "execution_count": 205,
   "metadata": {
    "collapsed": false
   },
   "outputs": [
    {
     "data": {
      "image/png": "[encoded data removed]",
      "text/plain": [
       "<matplotlib.figure.Figure at 0xcbd1160>"
      ]
     },
     "metadata": {},
     "output_type": "display_data"
    }
   ],
   "source": [
    "# in this range, bot has 50 counts of followers_count, nonbot has only 140 count offollowers_count\n",
    "x = nonbots_data['followers_count']\n",
    "y = bots_data['followers_count']\n",
    "bins = numpy.linspace(10000,100000,6)\n",
    "pyplot.hist(x, bins,alpha=0.75,facecolor='g',label='bot = 0')\n",
    "pyplot.hist(y, bins,alpha=0.75,facecolor ='b',label='bot = 1')\n",
    "pyplot.ylabel('counts')\n",
    "pyplot.xlabel('followers_count')\n",
    "pyplot.axis([10000,100000,0,70])\n",
    "pyplot.legend(loc='upper right')\n",
    "pyplot.show()"
   ]
  },
  {
   "cell_type": "code",
   "execution_count": 203,
   "metadata": {
    "collapsed": false
   },
   "outputs": [
    {
     "data": {
      "image/png": "[encoded data removed]",
      "text/plain": [
       "<matplotlib.figure.Figure at 0xc4ed390>"
      ]
     },
     "metadata": {},
     "output_type": "display_data"
    }
   ],
   "source": [
    "# in this range, bot has 6 counts of followers_count, nonbot has only 160 count offollowers_count\n",
    "x = nonbots_data['followers_count']\n",
    "y = bots_data['followers_count']\n",
    "bins = numpy.linspace(100000,1000000,5)\n",
    "pyplot.hist(x, bins,alpha=0.75,facecolor='g',label='bot = 0')\n",
    "pyplot.hist(y, bins,alpha=0.75,facecolor ='b',label='bot = 1')\n",
    "pyplot.ylabel('counts')\n",
    "pyplot.xlabel('followers_count')\n",
    "pyplot.axis([100000,1000000,0,90])\n",
    "pyplot.legend(loc='upper right')\n",
    "pyplot.show()"
   ]
  },
  {
   "cell_type": "code",
   "execution_count": 210,
   "metadata": {
    "collapsed": false
   },
   "outputs": [
    {
     "data": {
      "image/png": "[encoded data removed]",
      "text/plain": [
       "<matplotlib.figure.Figure at 0xf0be860>"
      ]
     },
     "metadata": {},
     "output_type": "display_data"
    }
   ],
   "source": [
    "# bot has 215 counts of zero friends_count, nonbot has only 9 count of zero friends_count\n",
    "x = nonbots_data['friends_count']\n",
    "y = bots_data['friends_count']\n",
    "bins = numpy.linspace(0,0.5, 2)\n",
    "pyplot.hist(x, bins,alpha=0.5,facecolor = 'g',label='bot = 0')\n",
    "pyplot.hist(y, bins,alpha=0.5,facecolor ='b',label='bot = 1')\n",
    "pyplot.ylabel('counts')\n",
    "pyplot.xlabel('friends_count')\n",
    "pyplot.axis([0,0.5,0,225])\n",
    "pyplot.legend(loc='upper right')\n",
    "pyplot.show()"
   ]
  },
  {
   "cell_type": "code",
   "execution_count": 186,
   "metadata": {
    "collapsed": false
   },
   "outputs": [
    {
     "data": {
      "image/png": "[encoded data removed]",
      "text/plain": [
       "<matplotlib.figure.Figure at 0xcbd1eb8>"
      ]
     },
     "metadata": {},
     "output_type": "display_data"
    }
   ],
   "source": [
    "# in this range, bot has 275 counts of friends_count, nonbot has only 25 count of friends_count\n",
    "x = nonbots_data['friends_count'] \n",
    "y = bots_data['friends_count']\n",
    "bins = numpy.linspace(1,6,3)\n",
    "pyplot.hist(x, bins,alpha=0.5,color = 'g',label='bot = 0')\n",
    "pyplot.hist(y, bins,alpha=0.5,color ='b',label='bot = 1')\n",
    "pyplot.ylabel('counts')\n",
    "pyplot.xlabel('friends_count')\n",
    "pyplot.axis([1,6,0,250])\n",
    "pyplot.legend(loc='upper right')\n",
    "pyplot.show()"
   ]
  },
  {
   "cell_type": "code",
   "execution_count": 185,
   "metadata": {
    "collapsed": false
   },
   "outputs": [
    {
     "data": {
      "image/png": "[encoded data removed]",
      "text/plain": [
       "<matplotlib.figure.Figure at 0xc4cfac8>"
      ]
     },
     "metadata": {},
     "output_type": "display_data"
    }
   ],
   "source": [
    "# in this range, bot has 325 counts offriends_count, nonbot has 875 count of friends_count\n",
    "x = nonbots_data['friends_count'] \n",
    "y = bots_data['friends_count']\n",
    "bins = numpy.linspace(40,1600,8)\n",
    "pyplot.hist(x, bins,alpha=0.5,color = 'g',label='bot = 0')\n",
    "pyplot.hist(y, bins,alpha=0.5,color ='b',label='bot = 1')\n",
    "pyplot.ylabel('counts')\n",
    "pyplot.xlabel('friends_count')\n",
    "pyplot.axis([40,1600,0,400])\n",
    "pyplot.legend(loc='upper right')\n",
    "pyplot.show()"
   ]
  },
  {
   "cell_type": "code",
   "execution_count": 182,
   "metadata": {
    "collapsed": false
   },
   "outputs": [
    {
     "data": {
      "image/png": "[encoded data removed]",
      "text/plain": [
       "<matplotlib.figure.Figure at 0xd330080>"
      ]
     },
     "metadata": {},
     "output_type": "display_data"
    }
   ],
   "source": [
    "# in this range, bot has 85 counts offriends_count, nonbot has 150 count of friends_count\n",
    "x = nonbots_data['friends_count'] \n",
    "y = bots_data['friends_count']\n",
    "bins = numpy.linspace(1600,10000,4)\n",
    "pyplot.hist(x, bins,alpha=0.5,color = 'g',label='bot = 0')\n",
    "pyplot.hist(y, bins,alpha=0.5,color ='b',label='bot = 1')\n",
    "pyplot.ylabel('counts')\n",
    "pyplot.xlabel('friends_count')\n",
    "pyplot.axis([1600,10000,0,120])\n",
    "pyplot.legend(loc='upper right')\n",
    "pyplot.show()"
   ]
  },
  {
   "cell_type": "code",
   "execution_count": 181,
   "metadata": {
    "collapsed": false
   },
   "outputs": [
    {
     "data": {
      "image/png": "[encoded data removed]",
      "text/plain": [
       "<matplotlib.figure.Figure at 0xf4b9160>"
      ]
     },
     "metadata": {},
     "output_type": "display_data"
    }
   ],
   "source": [
    "# bot has 285 counts of zero listed_count, nonbot has 220 count of zero listed_count\n",
    "x = nonbots_data['listedcount']\n",
    "y = bots_data['listedcount']\n",
    "bins = numpy.linspace(0,0.5, 2)\n",
    "pyplot.hist(x, bins,alpha=0.5,color = 'g',label='bot = 0')\n",
    "pyplot.hist(y, bins,alpha=0.5,color ='b',label='bot = 1')\n",
    "pyplot.ylabel('counts')\n",
    "pyplot.xlabel('listedcount')\n",
    "pyplot.axis([0,0.5,0,300])\n",
    "pyplot.legend(loc='upper right')\n",
    "pyplot.show()"
   ]
  },
  {
   "cell_type": "code",
   "execution_count": 180,
   "metadata": {
    "collapsed": false
   },
   "outputs": [
    {
     "data": {
      "image/png": "[encoded data removed]",
      "text/plain": [
       "<matplotlib.figure.Figure at 0xda5e208>"
      ]
     },
     "metadata": {},
     "output_type": "display_data"
    }
   ],
   "source": [
    "# in this range, bot has 80 counts of listed_count, nonbot has 135 counts of listed_count\n",
    "x = nonbots_data['listedcount']\n",
    "y = bots_data['listedcount']\n",
    "bins = numpy.linspace(1,3,2)\n",
    "pyplot.hist(x, bins,alpha=0.5,color = 'g',label='bot = 0')\n",
    "pyplot.hist(y, bins,alpha=0.5,color ='b',label='bot = 1')\n",
    "pyplot.ylabel('counts')\n",
    "pyplot.xlabel('listedcount')\n",
    "pyplot.axis([1,3,0,140])\n",
    "pyplot.legend(loc='upper right')\n",
    "pyplot.show()"
   ]
  },
  {
   "cell_type": "code",
   "execution_count": 179,
   "metadata": {
    "collapsed": false
   },
   "outputs": [
    {
     "data": {
      "image/png": "[encoded data removed]",
      "text/plain": [
       "<matplotlib.figure.Figure at 0xee75630>"
      ]
     },
     "metadata": {},
     "output_type": "display_data"
    }
   ],
   "source": [
    "# in this range, bot has 525 counts of listed_count, nonbot has 200 counts of listed_count\n",
    "x = nonbots_data['listedcount']\n",
    "y = bots_data['listedcount']\n",
    "bins = numpy.linspace(4,60,4)\n",
    "pyplot.hist(x, bins,alpha=0.5,color = 'g',label='bot = 0')\n",
    "pyplot.hist(y, bins,alpha=0.5,color ='b',label='bot = 1')\n",
    "pyplot.ylabel('counts')\n",
    "pyplot.xlabel('listedcount')\n",
    "pyplot.axis([4,60,0,400])\n",
    "pyplot.legend(loc='upper right')\n",
    "pyplot.show()"
   ]
  },
  {
   "cell_type": "code",
   "execution_count": 175,
   "metadata": {
    "collapsed": false
   },
   "outputs": [
    {
     "data": {
      "image/png": "[encoded data removed]",
      "text/plain": [
       "<matplotlib.figure.Figure at 0xec9b908>"
      ]
     },
     "metadata": {},
     "output_type": "display_data"
    }
   ],
   "source": [
    "# in this range, bot has 50 counts of listed_count, nonbot has 240 counts of listed_count\n",
    "x = nonbots_data['listedcount']\n",
    "y = bots_data['listedcount']\n",
    "bins = numpy.linspace(200,2600,2)\n",
    "pyplot.hist(x, bins,alpha=0.5,color = 'g',label='bot = 0')\n",
    "pyplot.hist(y, bins,alpha=0.5,color ='b',label='bot = 1')\n",
    "pyplot.ylabel('counts')\n",
    "pyplot.xlabel('listedcount')\n",
    "pyplot.axis([200,2600,0,250])\n",
    "pyplot.legend(loc='upper right')\n",
    "pyplot.show()"
   ]
  },
  {
   "cell_type": "code",
   "execution_count": 176,
   "metadata": {
    "collapsed": false
   },
   "outputs": [
    {
     "data": {
      "image/png": "[encoded data removed]",
      "text/plain": [
       "<matplotlib.figure.Figure at 0xd2b96d8>"
      ]
     },
     "metadata": {},
     "output_type": "display_data"
    }
   ],
   "source": [
    "# in this range, bot has 0 counts of listed_count, nonbot has 92 counts of listed_count\n",
    "x = nonbots_data['listedcount']\n",
    "y = bots_data['listedcount']\n",
    "bins = numpy.linspace(20000,300000,4)\n",
    "pyplot.hist(x, bins,alpha=0.5,color = 'g',label='bot = 0')\n",
    "pyplot.hist(y, bins,alpha=0.5,color ='b',label='bot = 1')\n",
    "pyplot.ylabel('counts')\n",
    "pyplot.xlabel('listedcount')\n",
    "pyplot.axis([20000,300000,0,90])\n",
    "pyplot.legend(loc='upper right')\n",
    "pyplot.show()"
   ]
  },
  {
   "cell_type": "code",
   "execution_count": 178,
   "metadata": {
    "collapsed": false
   },
   "outputs": [
    {
     "data": {
      "image/png": "[encoded data removed]",
      "text/plain": [
       "<matplotlib.figure.Figure at 0xbd296d8>"
      ]
     },
     "metadata": {},
     "output_type": "display_data"
    }
   ],
   "source": [
    "# bot has 480 counts of zero listed_count, nonbot has  120 count of zero listed_count\n",
    "x = nonbots_data['favourites_count']\n",
    "y = bots_data['favourites_count']\n",
    "bins = numpy.linspace(0,0.5, 2)\n",
    "pyplot.hist(x, bins,alpha=0.5,color = 'g',label='bot = 0')\n",
    "pyplot.hist(y, bins,alpha=0.5,color ='b',label='bot = 1')\n",
    "pyplot.ylabel('counts')\n",
    "pyplot.xlabel('favourites_count')\n",
    "pyplot.axis([0,0.5,0,500])\n",
    "pyplot.legend(loc='upper right')\n",
    "pyplot.show()"
   ]
  },
  {
   "cell_type": "code",
   "execution_count": 171,
   "metadata": {
    "collapsed": false
   },
   "outputs": [
    {
     "data": {
      "image/png": "[encoded data removed]",
      "text/plain": [
       "<matplotlib.figure.Figure at 0xda5e2b0>"
      ]
     },
     "metadata": {},
     "output_type": "display_data"
    }
   ],
   "source": [
    "# bot has 188 counts of zero listed_count, nonbot has  85 count of zero listed_count\n",
    "x = nonbots_data['favourites_count']\n",
    "y = bots_data['favourites_count']\n",
    "bins = numpy.linspace(1,5,3)\n",
    "pyplot.hist(x, bins,alpha=0.5,color = 'g',label='bot = 0')\n",
    "pyplot.hist(y, bins,alpha=0.5,color ='b',label='bot = 1')\n",
    "pyplot.ylabel('counts')\n",
    "pyplot.xlabel('favourites_count')\n",
    "pyplot.axis([1,5,0,140])\n",
    "pyplot.legend(loc='upper right')\n",
    "pyplot.show()"
   ]
  },
  {
   "cell_type": "code",
   "execution_count": 168,
   "metadata": {
    "collapsed": false
   },
   "outputs": [
    {
     "data": {
      "image/png": "[encoded data removed]",
      "text/plain": [
       "<matplotlib.figure.Figure at 0xee319e8>"
      ]
     },
     "metadata": {},
     "output_type": "display_data"
    }
   ],
   "source": [
    "# bot has 85 counts of zero listed_count, nonbot has 360 count of zero listed_count\n",
    "x = nonbots_data['favourites_count']\n",
    "y = bots_data['favourites_count']\n",
    "bins = numpy.linspace(150,2000,4)\n",
    "pyplot.hist(x, bins,alpha=0.5,color = 'g',label='bot = 0')\n",
    "pyplot.hist(y, bins,alpha=0.5,color ='b',label='bot = 1')\n",
    "pyplot.ylabel('counts')\n",
    "pyplot.xlabel('favourites_count')\n",
    "pyplot.axis([150,2000,0,250])\n",
    "pyplot.legend(loc='upper right')\n",
    "pyplot.show()"
   ]
  },
  {
   "cell_type": "code",
   "execution_count": 157,
   "metadata": {
    "collapsed": false
   },
   "outputs": [
    {
     "data": {
      "image/png": "[encoded data removed]",
      "text/plain": [
       "<matplotlib.figure.Figure at 0xebfa5c0>"
      ]
     },
     "metadata": {},
     "output_type": "display_data"
    }
   ],
   "source": [
    "# bot has 25 counts of zero listed_count, nonbot has  265 count of zero listed_count\n",
    "x = nonbots_data['favourites_count']\n",
    "y = bots_data['favourites_count']\n",
    "bins = numpy.linspace(2000,40000,4)\n",
    "pyplot.hist(x, bins,alpha=0.5,color = 'g',label='bot = 0')\n",
    "pyplot.hist(y, bins,alpha=0.5,color ='b',label='bot = 1')\n",
    "pyplot.ylabel('counts')\n",
    "pyplot.xlabel('favourites_count')\n",
    "pyplot.axis([2000,40000,0,250])\n",
    "pyplot.legend(loc='upper right')\n",
    "pyplot.show()"
   ]
  },
  {
   "cell_type": "code",
   "execution_count": 145,
   "metadata": {
    "collapsed": false
   },
   "outputs": [
    {
     "name": "stdout",
     "output_type": "stream",
     "text": [
      "Accuracy: 75.044803%\n",
      "Precision: 82.872200%\n",
      "Recall: 59.564394%\n",
      "F1: 69.311295%\n",
      "AUC: 74.254986%\n"
     ]
    }
   ],
   "source": [
    "#fill NaN with 'missing'\n",
    "all_data_nafill = all_data.fillna('missing')\n",
    "\n",
    "#encode string with utf-8\n",
    "all_data_nafill['description'] = all_data_nafill['description'].str.decode('iso-8859-1').str.encode('utf-8')\n",
    "\n",
    "# Train CountVectorizer\n",
    "from sklearn.feature_extraction.text import CountVectorizer\n",
    "count_vect = CountVectorizer()\n",
    "X_comment_counts = count_vect.fit_transform(all_data_nafill.description)\n",
    "\n",
    "#BernoulliNB\n",
    "from sklearn.naive_bayes import BernoulliNB\n",
    "clf = BernoulliNB().fit(X_comment_counts, all_data.bot)\n",
    "\n",
    "from sklearn.model_selection import cross_val_predict\n",
    "predicted = cross_val_predict(clf, X_comment_counts, all_data.bot)\n",
    "\n",
    "from sklearn import metrics\n",
    "print('Accuracy: %f' % (100*metrics.accuracy_score(all_data.bot, predicted)) + '%')\n",
    "print('Precision: %f' % (100*metrics.precision_score(all_data.bot, predicted)) + '%')\n",
    "print('Recall: %f' % (100*metrics.recall_score(all_data.bot, predicted)) + '%')\n",
    "print('F1: %f' % (100*metrics.f1_score(all_data.bot, predicted)) + '%')\n",
    "print('AUC: %f' % (100*metrics.roc_auc_score(all_data.bot, predicted)) + '%')"
   ]
  },
  {
   "cell_type": "code",
   "execution_count": 152,
   "metadata": {
    "collapsed": false
   },
   "outputs": [
    {
     "name": "stdout",
     "output_type": "stream",
     "text": [
      "Accuracy: 74.193548%\n",
      "Precision: 75.917927%\n",
      "Recall: 66.571970%\n",
      "F1: 70.938446%\n",
      "AUC: 73.804692%\n"
     ]
    }
   ],
   "source": [
    "# MultinomialNB\n",
    "from sklearn.naive_bayes import MultinomialNB\n",
    "clf = MultinomialNB().fit(X_comment_counts, all_data.bot)\n",
    "\n",
    "from sklearn.model_selection import cross_val_predict\n",
    "predicted = cross_val_predict(clf, X_comment_counts, all_data.bot)\n",
    "\n",
    "print('Accuracy: %f' % (100*metrics.accuracy_score(all_data.bot, predicted)) + '%')\n",
    "print('Precision: %f' % (100*metrics.precision_score(all_data.bot, predicted)) + '%')\n",
    "print('Recall: %f' % (100*metrics.recall_score(all_data.bot, predicted)) + '%')\n",
    "print('F1: %f' % (100*metrics.f1_score(all_data.bot, predicted)) + '%')\n",
    "print('AUC: %f' % (100*metrics.roc_auc_score(all_data.bot, predicted)) + '%')"
   ]
  },
  {
   "cell_type": "code",
   "execution_count": null,
   "metadata": {
    "collapsed": true
   },
   "outputs": [],
   "source": [
    "#join two dataframe\n",
    "frame = [bots_data, nonbots_data]\n",
    "all_data = pd.concat(frame)\n",
    "all_data.shape"
   ]
  },
  {
   "cell_type": "code",
   "execution_count": 255,
   "metadata": {
    "collapsed": false
   },
   "outputs": [],
   "source": [
    "#split data to train dataset and test dataset\n",
    "from sklearn.cross_validation import cross_val_score,train_test_split\n",
    "X_verified =all_data.verified\n",
    "y_bot =all_data.bot\n",
    "X_train, X_test, y_train, y_test = train_test_split(X_verified, y_bot,random_state = 1)"
   ]
  },
  {
   "cell_type": "code",
   "execution_count": 256,
   "metadata": {
    "collapsed": false
   },
   "outputs": [
    {
     "name": "stdout",
     "output_type": "stream",
     "text": [
      "Accuracy: 69.534050%\n",
      "Precision: 60.620525%\n",
      "Recall: 98.069498%\n",
      "F1: 74.926254%\n",
      "AUC: 71.442776%\n"
     ]
    }
   ],
   "source": [
    "#GaussianNB\n",
    "from sklearn.naive_bayes import GaussianNB\n",
    "bayes = GaussianNB().fit(X_train.values.reshape(-1,1), y_train)\n",
    "bayes_predict = bayes.predict(X_test.values.reshape(-1,1))\n",
    "from sklearn import metrics\n",
    "print('Accuracy: %f' % (100*metrics.accuracy_score(y_test, bayes_predict)) + '%')\n",
    "print('Precision: %f' % (100*metrics.precision_score(y_test, bayes_predict)) + '%')\n",
    "print('Recall: %f' % (100*metrics.recall_score(y_test, bayes_predict)) + '%')\n",
    "print('F1: %f' % (100*metrics.f1_score(y_test, bayes_predict)) + '%')\n",
    "print('AUC: %f' % (100*metrics.roc_auc_score(y_test, bayes_predict)) + '%')"
   ]
  },
  {
   "cell_type": "code",
   "execution_count": 250,
   "metadata": {
    "collapsed": false
   },
   "outputs": [
    {
     "name": "stdout",
     "output_type": "stream",
     "text": [
      "Accuracy: 69.534050%\n",
      "Precision: 60.620525%\n",
      "Recall: 98.069498%\n",
      "F1: 74.926254%\n",
      "AUC: 71.442776%\n"
     ]
    }
   ],
   "source": [
    "#BernoulliNB\n",
    "from sklearn.naive_bayes import BernoulliNB\n",
    "bayes = BernoulliNB().fit(X_train.values.reshape(-1,1), y_train)\n",
    "bayes_predict = bayes.predict(X_test.values.reshape(-1,1))\n",
    "from sklearn import metrics\n",
    "print('Accuracy: %f' % (100*metrics.accuracy_score(y_test, bayes_predict)) + '%')\n",
    "print('Precision: %f' % (100*metrics.precision_score(y_test, bayes_predict)) + '%')\n",
    "print('Recall: %f' % (100*metrics.recall_score(y_test, bayes_predict)) + '%')\n",
    "print('F1: %f' % (100*metrics.f1_score(y_test, bayes_predict)) + '%')\n",
    "print('AUC: %f' % (100*metrics.roc_auc_score(y_test, bayes_predict)) + '%')"
   ]
  },
  {
   "cell_type": "code",
   "execution_count": 251,
   "metadata": {
    "collapsed": false
   },
   "outputs": [
    {
     "name": "stdout",
     "output_type": "stream",
     "text": [
      "Accuracy: 53.584229%\n",
      "Precision: 0.000000%\n",
      "Recall: 0.000000%\n",
      "F1: 0.000000%\n",
      "AUC: 50.000000%\n"
     ]
    }
   ],
   "source": [
    "#MultinomialNB\n",
    "from sklearn.naive_bayes import MultinomialNB\n",
    "bayes = MultinomialNB().fit(X_train.values.reshape(-1,1), y_train)\n",
    "bayes_predict = bayes.predict(X_test.values.reshape(-1,1))\n",
    "from sklearn import metrics\n",
    "print('Accuracy: %f' % (100*metrics.accuracy_score(y_test, bayes_predict)) + '%')\n",
    "print('Precision: %f' % (100*metrics.precision_score(y_test, bayes_predict)) + '%')\n",
    "print('Recall: %f' % (100*metrics.recall_score(y_test, bayes_predict)) + '%')\n",
    "print('F1: %f' % (100*metrics.f1_score(y_test, bayes_predict)) + '%')\n",
    "print('AUC: %f' % (100*metrics.roc_auc_score(y_test, bayes_predict)) + '%')"
   ]
  },
  {
   "cell_type": "code",
   "execution_count": 253,
   "metadata": {
    "collapsed": false
   },
   "outputs": [
    {
     "name": "stdout",
     "output_type": "stream",
     "text": [
      "Accuracy: 69.534050%\n",
      "Precision: 60.620525%\n",
      "Recall: 98.069498%\n",
      "F1: 74.926254%\n",
      "AUC: 71.442776%\n"
     ]
    }
   ],
   "source": [
    "# Random Forest\n",
    "from sklearn.ensemble import RandomForestClassifier\n",
    "rf = RandomForestClassifier().fit(X_train.values.reshape(-1,1), y_train)\n",
    "rf_predict = rf.predict(X_test.values.reshape(-1,1))\n",
    "from sklearn import metrics\n",
    "print('Accuracy: %f' % (100*metrics.accuracy_score(y_test, rf_predict)) + '%')\n",
    "print('Precision: %f' % (100*metrics.precision_score(y_test, rf_predict)) + '%')\n",
    "print('Recall: %f' % (100*metrics.recall_score(y_test, rf_predict)) + '%')\n",
    "print('F1: %f' % (100*metrics.f1_score(y_test, rf_predict)) + '%')\n",
    "print('AUC: %f' % (100*metrics.roc_auc_score(y_test, rf_predict)) + '%')"
   ]
  },
  {
   "cell_type": "code",
   "execution_count": 254,
   "metadata": {
    "collapsed": false
   },
   "outputs": [
    {
     "name": "stdout",
     "output_type": "stream",
     "text": [
      "Accuracy: 69.534050%\n",
      "Precision: 60.620525%\n",
      "Recall: 98.069498%\n",
      "F1: 74.926254%\n",
      "AUC: 71.442776%\n"
     ]
    }
   ],
   "source": [
    "#LogisticRegression\n",
    "from sklearn.linear_model import LogisticRegression\n",
    "logistic = LogisticRegression().fit(X_train.values.reshape(-1,1), y_train)\n",
    "logistic_predict = logistic.predict(X_test.values.reshape(-1,1))\n",
    "from sklearn import metrics\n",
    "print('Accuracy: %f' % (100*metrics.accuracy_score(y_test, logistic_predict)) + '%')\n",
    "print('Precision: %f' % (100*metrics.precision_score(y_test, logistic_predict)) + '%')\n",
    "print('Recall: %f' % (100*metrics.recall_score(y_test, logistic_predict)) + '%')\n",
    "print('F1: %f' % (100*metrics.f1_score(y_test, logistic_predict)) + '%')\n",
    "print('AUC: %f' % (100*metrics.roc_auc_score(y_test, logistic_predict)) + '%')"
   ]
  },
  {
   "cell_type": "code",
   "execution_count": 257,
   "metadata": {
    "collapsed": true
   },
   "outputs": [],
   "source": [
    "#split data to train dataset and test dataset\n",
    "from sklearn.cross_validation import cross_val_score,train_test_split\n",
    "X_default_profile_image =all_data.default_profile_image\n",
    "y_bot =all_data.bot\n",
    "X_train, X_test, y_train, y_test = train_test_split(X_default_profile_image, y_bot,random_state = 1)"
   ]
  },
  {
   "cell_type": "code",
   "execution_count": 258,
   "metadata": {
    "collapsed": false
   },
   "outputs": [
    {
     "name": "stdout",
     "output_type": "stream",
     "text": [
      "Accuracy: 56.272401%\n",
      "Precision: 82.608696%\n",
      "Recall: 7.335907%\n",
      "F1: 13.475177%\n",
      "AUC: 52.999057%\n"
     ]
    }
   ],
   "source": [
    "#GaussianNB\n",
    "from sklearn.naive_bayes import GaussianNB\n",
    "bayes = GaussianNB().fit(X_train.values.reshape(-1,1), y_train)\n",
    "bayes_predict = bayes.predict(X_test.values.reshape(-1,1))\n",
    "from sklearn import metrics\n",
    "print('Accuracy: %f' % (100*metrics.accuracy_score(y_test, bayes_predict)) + '%')\n",
    "print('Precision: %f' % (100*metrics.precision_score(y_test, bayes_predict)) + '%')\n",
    "print('Recall: %f' % (100*metrics.recall_score(y_test, bayes_predict)) + '%')\n",
    "print('F1: %f' % (100*metrics.f1_score(y_test, bayes_predict)) + '%')\n",
    "print('AUC: %f' % (100*metrics.roc_auc_score(y_test, bayes_predict)) + '%')"
   ]
  },
  {
   "cell_type": "code",
   "execution_count": 259,
   "metadata": {
    "collapsed": false
   },
   "outputs": [
    {
     "name": "stdout",
     "output_type": "stream",
     "text": [
      "Accuracy: 56.272401%\n",
      "Precision: 82.608696%\n",
      "Recall: 7.335907%\n",
      "F1: 13.475177%\n",
      "AUC: 52.999057%\n"
     ]
    }
   ],
   "source": [
    "#BernoulliNB\n",
    "from sklearn.naive_bayes import BernoulliNB\n",
    "bayes = BernoulliNB().fit(X_train.values.reshape(-1,1), y_train)\n",
    "bayes_predict = bayes.predict(X_test.values.reshape(-1,1))\n",
    "from sklearn import metrics\n",
    "print('Accuracy: %f' % (100*metrics.accuracy_score(y_test, bayes_predict)) + '%')\n",
    "print('Precision: %f' % (100*metrics.precision_score(y_test, bayes_predict)) + '%')\n",
    "print('Recall: %f' % (100*metrics.recall_score(y_test, bayes_predict)) + '%')\n",
    "print('F1: %f' % (100*metrics.f1_score(y_test, bayes_predict)) + '%')\n",
    "print('AUC: %f' % (100*metrics.roc_auc_score(y_test, bayes_predict)) + '%')"
   ]
  },
  {
   "cell_type": "code",
   "execution_count": 260,
   "metadata": {
    "collapsed": false
   },
   "outputs": [
    {
     "name": "stdout",
     "output_type": "stream",
     "text": [
      "Accuracy: 56.272401%\n",
      "Precision: 82.608696%\n",
      "Recall: 7.335907%\n",
      "F1: 13.475177%\n",
      "AUC: 52.999057%\n"
     ]
    }
   ],
   "source": [
    "# Random Forest\n",
    "from sklearn.ensemble import RandomForestClassifier\n",
    "rf = RandomForestClassifier().fit(X_train.values.reshape(-1,1), y_train)\n",
    "rf_predict = rf.predict(X_test.values.reshape(-1,1))\n",
    "from sklearn import metrics\n",
    "print('Accuracy: %f' % (100*metrics.accuracy_score(y_test, rf_predict)) + '%')\n",
    "print('Precision: %f' % (100*metrics.precision_score(y_test, rf_predict)) + '%')\n",
    "print('Recall: %f' % (100*metrics.recall_score(y_test, rf_predict)) + '%')\n",
    "print('F1: %f' % (100*metrics.f1_score(y_test, rf_predict)) + '%')\n",
    "print('AUC: %f' % (100*metrics.roc_auc_score(y_test, rf_predict)) + '%')"
   ]
  },
  {
   "cell_type": "code",
   "execution_count": 264,
   "metadata": {
    "collapsed": true
   },
   "outputs": [],
   "source": [
    "#split data to train dataset and test dataset\n",
    "from sklearn.cross_validation import cross_val_score,train_test_split\n",
    "X_default_profile =all_data.default_profile\n",
    "y_bot =all_data.bot\n",
    "X_train, X_test, y_train, y_test = train_test_split(X_default_profile, y_bot,random_state = 1)"
   ]
  },
  {
   "cell_type": "code",
   "execution_count": 265,
   "metadata": {
    "collapsed": false
   },
   "outputs": [
    {
     "name": "stdout",
     "output_type": "stream",
     "text": [
      "Accuracy: 70.609319%\n",
      "Precision: 69.076305%\n",
      "Recall: 66.409266%\n",
      "F1: 67.716535%\n",
      "AUC: 70.328379%\n"
     ]
    }
   ],
   "source": [
    "#BernoulliNB\n",
    "from sklearn.naive_bayes import BernoulliNB\n",
    "bayes = BernoulliNB().fit(X_train.values.reshape(-1,1), y_train)\n",
    "bayes_predict = bayes.predict(X_test.values.reshape(-1,1))\n",
    "from sklearn import metrics\n",
    "print('Accuracy: %f' % (100*metrics.accuracy_score(y_test, bayes_predict)) + '%')\n",
    "print('Precision: %f' % (100*metrics.precision_score(y_test, bayes_predict)) + '%')\n",
    "print('Recall: %f' % (100*metrics.recall_score(y_test, bayes_predict)) + '%')\n",
    "print('F1: %f' % (100*metrics.f1_score(y_test, bayes_predict)) + '%')\n",
    "print('AUC: %f' % (100*metrics.roc_auc_score(y_test, bayes_predict)) + '%')"
   ]
  },
  {
   "cell_type": "code",
   "execution_count": 266,
   "metadata": {
    "collapsed": false
   },
   "outputs": [
    {
     "name": "stdout",
     "output_type": "stream",
     "text": [
      "Accuracy: 70.609319%\n",
      "Precision: 69.076305%\n",
      "Recall: 66.409266%\n",
      "F1: 67.716535%\n",
      "AUC: 70.328379%\n"
     ]
    }
   ],
   "source": [
    "# Random Forest\n",
    "from sklearn.ensemble import RandomForestClassifier\n",
    "rf = RandomForestClassifier().fit(X_train.values.reshape(-1,1), y_train)\n",
    "rf_predict = rf.predict(X_test.values.reshape(-1,1))\n",
    "from sklearn import metrics\n",
    "print('Accuracy: %f' % (100*metrics.accuracy_score(y_test, rf_predict)) + '%')\n",
    "print('Precision: %f' % (100*metrics.precision_score(y_test, rf_predict)) + '%')\n",
    "print('Recall: %f' % (100*metrics.recall_score(y_test, rf_predict)) + '%')\n",
    "print('F1: %f' % (100*metrics.f1_score(y_test, rf_predict)) + '%')\n",
    "print('AUC: %f' % (100*metrics.roc_auc_score(y_test, rf_predict)) + '%')"
   ]
  },
  {
   "cell_type": "code",
   "execution_count": 287,
   "metadata": {
    "collapsed": false
   },
   "outputs": [],
   "source": [
    "all_data['has_extended_profile'].isnull().any()\n",
    "all_data_edited = all_data['has_extended_profile'].fillna(method = 'ffill')"
   ]
  },
  {
   "cell_type": "code",
   "execution_count": 289,
   "metadata": {
    "collapsed": false
   },
   "outputs": [],
   "source": [
    "\n",
    "from sklearn.cross_validation import cross_val_score,train_test_split\n",
    "X_has_extended_profile = all_data_edited\n",
    "y_bot =all_data.bot\n",
    "X_train, X_test, y_train, y_test = train_test_split(X_has_extended_profile, y_bot,random_state = 1)"
   ]
  },
  {
   "cell_type": "code",
   "execution_count": 290,
   "metadata": {
    "collapsed": false
   },
   "outputs": [
    {
     "name": "stdout",
     "output_type": "stream",
     "text": [
      "Accuracy: 52.508961%\n",
      "Precision: 49.367089%\n",
      "Recall: 90.347490%\n",
      "F1: 63.847203%\n",
      "AUC: 55.039966%\n"
     ]
    }
   ],
   "source": [
    "#BernoulliNB\n",
    "from sklearn.naive_bayes import BernoulliNB\n",
    "bayes = BernoulliNB().fit(X_train.values.reshape(-1,1), y_train)\n",
    "bayes_predict = bayes.predict(X_test.values.reshape(-1,1))\n",
    "from sklearn import metrics\n",
    "print('Accuracy: %f' % (100*metrics.accuracy_score(y_test, bayes_predict)) + '%')\n",
    "print('Precision: %f' % (100*metrics.precision_score(y_test, bayes_predict)) + '%')\n",
    "print('Recall: %f' % (100*metrics.recall_score(y_test, bayes_predict)) + '%')\n",
    "print('F1: %f' % (100*metrics.f1_score(y_test, bayes_predict)) + '%')\n",
    "print('AUC: %f' % (100*metrics.roc_auc_score(y_test, bayes_predict)) + '%')"
   ]
  },
  {
   "cell_type": "code",
   "execution_count": 291,
   "metadata": {
    "collapsed": false
   },
   "outputs": [
    {
     "name": "stdout",
     "output_type": "stream",
     "text": [
      "Accuracy: 52.508961%\n",
      "Precision: 49.367089%\n",
      "Recall: 90.347490%\n",
      "F1: 63.847203%\n",
      "AUC: 55.039966%\n"
     ]
    }
   ],
   "source": [
    "# Random Forest\n",
    "from sklearn.ensemble import RandomForestClassifier\n",
    "rf = RandomForestClassifier().fit(X_train.values.reshape(-1,1), y_train)\n",
    "rf_predict = rf.predict(X_test.values.reshape(-1,1))\n",
    "from sklearn import metrics\n",
    "print('Accuracy: %f' % (100*metrics.accuracy_score(y_test, rf_predict)) + '%')\n",
    "print('Precision: %f' % (100*metrics.precision_score(y_test, rf_predict)) + '%')\n",
    "print('Recall: %f' % (100*metrics.recall_score(y_test, rf_predict)) + '%')\n",
    "print('F1: %f' % (100*metrics.f1_score(y_test, rf_predict)) + '%')\n",
    "print('AUC: %f' % (100*metrics.roc_auc_score(y_test, rf_predict)) + '%')"
   ]
  },
  {
   "cell_type": "code",
   "execution_count": 117,
   "metadata": {
    "collapsed": false
   },
   "outputs": [
    {
     "data": {
      "text/plain": [
       "<matplotlib.axes._subplots.AxesSubplot at 0xb4526a0>"
      ]
     },
     "execution_count": 117,
     "metadata": {},
     "output_type": "execute_result"
    },
    {
     "data": {
      "image/png": "[encoded data removed]",
      "text/plain": [
       "<matplotlib.figure.Figure at 0xcacd400>"
      ]
     },
     "metadata": {},
     "output_type": "display_data"
    }
   ],
   "source": [
    "followers_pattern_nonbot = nonbots_data[['friends_count']]\n",
    "followers_plot = followers_pattern_nonbot['friends_count'].hist(bins=10, range =(0, 0))\n",
    "followers_plot.set_title('bot = 0')\n",
    "followers_plot.set_xlabel('number of followers')\n",
    "followers_plot.set_ylabel('counts')\n",
    "followers_plot"
   ]
  },
  {
   "cell_type": "code",
   "execution_count": 54,
   "metadata": {
    "collapsed": false
   },
   "outputs": [
    {
     "data": {
      "text/plain": [
       "<matplotlib.text.Text at 0xc705a58>"
      ]
     },
     "execution_count": 54,
     "metadata": {},
     "output_type": "execute_result"
    },
    {
     "data": {
      "image/png": "[encoded data removed]",
      "text/plain": [
       "<matplotlib.figure.Figure at 0xb63f320>"
      ]
     },
     "metadata": {},
     "output_type": "display_data"
    }
   ],
   "source": [
    "followers_pattern = bots_data[['friends_count']]\n",
    "followers_plot = followers_pattern['friends_count'].hist(bins=10,range = (0,0))\n",
    "followers_plot.set_title('bot = 1')\n",
    "followers_plot.set_xlabel('number of followers')\n",
    "followers_plot.set_ylabel('counts')"
   ]
  },
  {
   "cell_type": "code",
   "execution_count": 123,
   "metadata": {
    "collapsed": false
   },
   "outputs": [
    {
     "data": {
      "text/plain": [
       "<matplotlib.axes._subplots.AxesSubplot at 0x17dbde48>"
      ]
     },
     "execution_count": 123,
     "metadata": {},
     "output_type": "execute_result"
    },
    {
     "data": {
      "image/png": "[encoded data removed]",
      "text/plain": [
       "<matplotlib.figure.Figure at 0x141f4dd8>"
      ]
     },
     "metadata": {},
     "output_type": "display_data"
    }
   ],
   "source": [
    "followers_pattern_nonbot = nonbots_data[['followers_count']]\n",
    "followers_plot = followers_pattern_nonbot['followers_count'].hist(bins=10, range =(100000, 1000000))\n",
    "followers_plot.set_title('bot = 0')\n",
    "followers_plot.set_xlabel('number of followers')\n",
    "followers_plot.set_ylabel('counts')\n",
    "followers_plot"
   ]
  },
  {
   "cell_type": "code",
   "execution_count": 124,
   "metadata": {
    "collapsed": false
   },
   "outputs": [
    {
     "data": {
      "text/plain": [
       "<matplotlib.axes._subplots.AxesSubplot at 0x180d4ac8>"
      ]
     },
     "execution_count": 124,
     "metadata": {},
     "output_type": "execute_result"
    },
    {
     "data": {
      "image/png": "[encoded data removed]",
      "text/plain": [
       "<matplotlib.figure.Figure at 0x180f45f8>"
      ]
     },
     "metadata": {},
     "output_type": "display_data"
    }
   ],
   "source": [
    "followers_pattern_nonbot = nonbots_data[['followers_count']]\n",
    "followers_plot = followers_pattern_nonbot['followers_count'].hist(bins=10, range =(0, 100))\n",
    "followers_plot.set_title('bot = 0')\n",
    "followers_plot.set_xlabel('number of followers')\n",
    "followers_plot.set_ylabel('counts')\n",
    "followers_plot"
   ]
  },
  {
   "cell_type": "code",
   "execution_count": 135,
   "metadata": {
    "collapsed": false
   },
   "outputs": [
    {
     "data": {
      "text/plain": [
       "<matplotlib.axes._subplots.AxesSubplot at 0x16c7eb38>"
      ]
     },
     "execution_count": 135,
     "metadata": {},
     "output_type": "execute_result"
    },
    {
     "data": {
      "image/png": "[encoded data removed]",
      "text/plain": [
       "<matplotlib.figure.Figure at 0x153f16a0>"
      ]
     },
     "metadata": {},
     "output_type": "display_data"
    }
   ],
   "source": [
    "friends_pattern_bots = bots_data[['friends_count']]\n",
    "friends_plot = friends_pattern_bots['friends_count'].hist(bins=10, range=(300,1000))\n",
    "friends_plot.set_title('bot = 1')\n",
    "friends_plot.set_xlabel('number of friends')\n",
    "friends_plot.set_ylabel('counts')\n",
    "friends_plot"
   ]
  },
  {
   "cell_type": "code",
   "execution_count": 136,
   "metadata": {
    "collapsed": false
   },
   "outputs": [
    {
     "data": {
      "text/plain": [
       "<matplotlib.axes._subplots.AxesSubplot at 0xa529e80>"
      ]
     },
     "execution_count": 136,
     "metadata": {},
     "output_type": "execute_result"
    },
    {
     "data": {
      "image/png": "[encoded data removed]",
      "text/plain": [
       "<matplotlib.figure.Figure at 0xa586198>"
      ]
     },
     "metadata": {},
     "output_type": "display_data"
    }
   ],
   "source": [
    "friends_pattern_nonbots = nonbots_data[['friends_count']]\n",
    "friends_plot = friends_pattern_nonbots['friends_count'].hist(bins=10, range=(300,1000))\n",
    "friends_plot.set_title('bot = 1')\n",
    "friends_plot.set_xlabel('number of friends')\n",
    "friends_plot.set_ylabel('counts')\n",
    "friends_plot"
   ]
  },
  {
   "cell_type": "code",
   "execution_count": 137,
   "metadata": {
    "collapsed": false
   },
   "outputs": [
    {
     "data": {
      "text/plain": [
       "<matplotlib.axes._subplots.AxesSubplot at 0x16c83278>"
      ]
     },
     "execution_count": 137,
     "metadata": {},
     "output_type": "execute_result"
    },
    {
     "data": {
      "image/png": "[encoded data removed]",
      "text/plain": [
       "<matplotlib.figure.Figure at 0x15e41fd0>"
      ]
     },
     "metadata": {},
     "output_type": "display_data"
    }
   ],
   "source": [
    "friends_pattern_bots = bots_data[['favourites_count']]\n",
    "friends_plot = friends_pattern_bots['favourites_count'].hist(bins=10, range=(300,2500))\n",
    "friends_plot.set_title('bot = 1')\n",
    "friends_plot.set_xlabel('number of favourites')\n",
    "friends_plot.set_ylabel('counts')\n",
    "friends_plot"
   ]
  },
  {
   "cell_type": "code",
   "execution_count": 138,
   "metadata": {
    "collapsed": false
   },
   "outputs": [
    {
     "data": {
      "text/plain": [
       "<matplotlib.axes._subplots.AxesSubplot at 0x17573588>"
      ]
     },
     "execution_count": 138,
     "metadata": {},
     "output_type": "execute_result"
    },
    {
     "data": {
      "image/png": "[encoded data removed]",
      "text/plain": [
       "<matplotlib.figure.Figure at 0x14fc56a0>"
      ]
     },
     "metadata": {},
     "output_type": "display_data"
    }
   ],
   "source": [
    "friends_pattern_nonbots = nonbots_data[['favourites_count']]\n",
    "friends_plot = friends_pattern_nonbots['favourites_count'].hist(bins=10, range=(300,2500))\n",
    "friends_plot.set_title('bot = 0')\n",
    "friends_plot.set_xlabel('number of favourites')\n",
    "friends_plot.set_ylabel('counts')\n",
    "friends_plot"
   ]
  },
  {
   "cell_type": "code",
   "execution_count": 144,
   "metadata": {
    "collapsed": false
   },
   "outputs": [
    {
     "data": {
      "text/plain": [
       "(2232, 20)"
      ]
     },
     "execution_count": 144,
     "metadata": {},
     "output_type": "execute_result"
    }
   ],
   "source": [
    "#join two dataframe\n",
    "frame = [bots_data, nonbots_data]\n",
    "all_data = pd.concat(frame)\n",
    "all_data.shape"
   ]
  },
  {
   "cell_type": "code",
   "execution_count": 146,
   "metadata": {
    "collapsed": false
   },
   "outputs": [
    {
     "ename": "AttributeError",
     "evalue": "'numpy.bool_' object has no attribute 'lower'",
     "output_type": "error",
     "traceback": [
      "\u001b[1;31m---------------------------------------------------------------------------\u001b[0m",
      "\u001b[1;31mAttributeError\u001b[0m                            Traceback (most recent call last)",
      "\u001b[1;32m<ipython-input-146-56df096ab07e>\u001b[0m in \u001b[0;36m<module>\u001b[1;34m()\u001b[0m\n\u001b[0;32m      2\u001b[0m \u001b[1;32mfrom\u001b[0m \u001b[0msklearn\u001b[0m\u001b[1;33m.\u001b[0m\u001b[0mfeature_extraction\u001b[0m\u001b[1;33m.\u001b[0m\u001b[0mtext\u001b[0m \u001b[1;32mimport\u001b[0m \u001b[0mCountVectorizer\u001b[0m\u001b[1;33m\u001b[0m\u001b[0m\n\u001b[0;32m      3\u001b[0m \u001b[0mcount_vect\u001b[0m \u001b[1;33m=\u001b[0m \u001b[0mCountVectorizer\u001b[0m\u001b[1;33m(\u001b[0m\u001b[1;33m)\u001b[0m\u001b[1;33m\u001b[0m\u001b[0m\n\u001b[1;32m----> 4\u001b[1;33m \u001b[0mX_comment_counts\u001b[0m \u001b[1;33m=\u001b[0m \u001b[0mcount_vect\u001b[0m\u001b[1;33m.\u001b[0m\u001b[0mfit_transform\u001b[0m\u001b[1;33m(\u001b[0m\u001b[0mall_data\u001b[0m\u001b[1;33m[\u001b[0m\u001b[1;34m'default_profile'\u001b[0m\u001b[1;33m]\u001b[0m\u001b[1;33m)\u001b[0m\u001b[1;33m\u001b[0m\u001b[0m\n\u001b[0m\u001b[0;32m      5\u001b[0m \u001b[1;33m\u001b[0m\u001b[0m\n\u001b[0;32m      6\u001b[0m \u001b[1;31m#BernoulliNB\u001b[0m\u001b[1;33m\u001b[0m\u001b[1;33m\u001b[0m\u001b[0m\n",
      "\u001b[1;32mC:\\Users\\jiaow\\Anaconda2\\lib\\site-packages\\sklearn\\feature_extraction\\text.pyc\u001b[0m in \u001b[0;36mfit_transform\u001b[1;34m(self, raw_documents, y)\u001b[0m\n\u001b[0;32m    837\u001b[0m \u001b[1;33m\u001b[0m\u001b[0m\n\u001b[0;32m    838\u001b[0m         vocabulary, X = self._count_vocab(raw_documents,\n\u001b[1;32m--> 839\u001b[1;33m                                           self.fixed_vocabulary_)\n\u001b[0m\u001b[0;32m    840\u001b[0m \u001b[1;33m\u001b[0m\u001b[0m\n\u001b[0;32m    841\u001b[0m         \u001b[1;32mif\u001b[0m \u001b[0mself\u001b[0m\u001b[1;33m.\u001b[0m\u001b[0mbinary\u001b[0m\u001b[1;33m:\u001b[0m\u001b[1;33m\u001b[0m\u001b[0m\n",
      "\u001b[1;32mC:\\Users\\jiaow\\Anaconda2\\lib\\site-packages\\sklearn\\feature_extraction\\text.pyc\u001b[0m in \u001b[0;36m_count_vocab\u001b[1;34m(self, raw_documents, fixed_vocab)\u001b[0m\n\u001b[0;32m    760\u001b[0m         \u001b[1;32mfor\u001b[0m \u001b[0mdoc\u001b[0m \u001b[1;32min\u001b[0m \u001b[0mraw_documents\u001b[0m\u001b[1;33m:\u001b[0m\u001b[1;33m\u001b[0m\u001b[0m\n\u001b[0;32m    761\u001b[0m             \u001b[0mfeature_counter\u001b[0m \u001b[1;33m=\u001b[0m \u001b[1;33m{\u001b[0m\u001b[1;33m}\u001b[0m\u001b[1;33m\u001b[0m\u001b[0m\n\u001b[1;32m--> 762\u001b[1;33m             \u001b[1;32mfor\u001b[0m \u001b[0mfeature\u001b[0m \u001b[1;32min\u001b[0m \u001b[0manalyze\u001b[0m\u001b[1;33m(\u001b[0m\u001b[0mdoc\u001b[0m\u001b[1;33m)\u001b[0m\u001b[1;33m:\u001b[0m\u001b[1;33m\u001b[0m\u001b[0m\n\u001b[0m\u001b[0;32m    763\u001b[0m                 \u001b[1;32mtry\u001b[0m\u001b[1;33m:\u001b[0m\u001b[1;33m\u001b[0m\u001b[0m\n\u001b[0;32m    764\u001b[0m                     \u001b[0mfeature_idx\u001b[0m \u001b[1;33m=\u001b[0m \u001b[0mvocabulary\u001b[0m\u001b[1;33m[\u001b[0m\u001b[0mfeature\u001b[0m\u001b[1;33m]\u001b[0m\u001b[1;33m\u001b[0m\u001b[0m\n",
      "\u001b[1;32mC:\\Users\\jiaow\\Anaconda2\\lib\\site-packages\\sklearn\\feature_extraction\\text.pyc\u001b[0m in \u001b[0;36m<lambda>\u001b[1;34m(doc)\u001b[0m\n\u001b[0;32m    239\u001b[0m \u001b[1;33m\u001b[0m\u001b[0m\n\u001b[0;32m    240\u001b[0m             return lambda doc: self._word_ngrams(\n\u001b[1;32m--> 241\u001b[1;33m                 tokenize(preprocess(self.decode(doc))), stop_words)\n\u001b[0m\u001b[0;32m    242\u001b[0m \u001b[1;33m\u001b[0m\u001b[0m\n\u001b[0;32m    243\u001b[0m         \u001b[1;32melse\u001b[0m\u001b[1;33m:\u001b[0m\u001b[1;33m\u001b[0m\u001b[0m\n",
      "\u001b[1;32mC:\\Users\\jiaow\\Anaconda2\\lib\\site-packages\\sklearn\\feature_extraction\\text.pyc\u001b[0m in \u001b[0;36m<lambda>\u001b[1;34m(x)\u001b[0m\n\u001b[0;32m    205\u001b[0m \u001b[1;33m\u001b[0m\u001b[0m\n\u001b[0;32m    206\u001b[0m         \u001b[1;32mif\u001b[0m \u001b[0mself\u001b[0m\u001b[1;33m.\u001b[0m\u001b[0mlowercase\u001b[0m\u001b[1;33m:\u001b[0m\u001b[1;33m\u001b[0m\u001b[0m\n\u001b[1;32m--> 207\u001b[1;33m             \u001b[1;32mreturn\u001b[0m \u001b[1;32mlambda\u001b[0m \u001b[0mx\u001b[0m\u001b[1;33m:\u001b[0m \u001b[0mstrip_accents\u001b[0m\u001b[1;33m(\u001b[0m\u001b[0mx\u001b[0m\u001b[1;33m.\u001b[0m\u001b[0mlower\u001b[0m\u001b[1;33m(\u001b[0m\u001b[1;33m)\u001b[0m\u001b[1;33m)\u001b[0m\u001b[1;33m\u001b[0m\u001b[0m\n\u001b[0m\u001b[0;32m    208\u001b[0m         \u001b[1;32melse\u001b[0m\u001b[1;33m:\u001b[0m\u001b[1;33m\u001b[0m\u001b[0m\n\u001b[0;32m    209\u001b[0m             \u001b[1;32mreturn\u001b[0m \u001b[0mstrip_accents\u001b[0m\u001b[1;33m\u001b[0m\u001b[0m\n",
      "\u001b[1;31mAttributeError\u001b[0m: 'numpy.bool_' object has no attribute 'lower'"
     ]
    }
   ],
   "source": [
    "# Train CountVectorizer\n",
    "from sklearn.feature_extraction.text import CountVectorizer\n",
    "count_vect = CountVectorizer()\n",
    "X_comment_counts = count_vect.fit_transform(all_data['default_profile'])\n",
    "\n",
    "#BernoulliNB\n",
    "from sklearn.naive_bayes import BernoulliNB\n",
    "clf = BernoulliNB().fit(X_comment_counts, all_data.bot)\n",
    "\n",
    "from sklearn.model_selection import cross_val_predict\n",
    "predicted = cross_val_predict(clf, X_comment_counts, all_data.bot)\n",
    "\n",
    "from sklearn import metrics\n",
    "print('Accuracy: %f' % (100*metrics.accuracy_score(all_data.bot, predicted)) + '%')\n",
    "print('Precision: %f' % (100*metrics.precision_score(all_data.bot, predicted)) + '%')\n",
    "print('Recall: %f' % (100*metrics.recall_score(all_data.bot, predicted)) + '%')\n",
    "print('F1: %f' % (100*metrics.f1_score(all_data.bot, predicted)) + '%')\n",
    "print('AUC: %f' % (100*metrics.roc_auc_score(all_data.bot, predicted)) + '%')"
   ]
  },
  {
   "cell_type": "code",
   "execution_count": 145,
   "metadata": {
    "collapsed": false
   },
   "outputs": [
    {
     "ename": "NameError",
     "evalue": "name 'all_data_nafill' is not defined",
     "output_type": "error",
     "traceback": [
      "\u001b[1;31m---------------------------------------------------------------------------\u001b[0m",
      "\u001b[1;31mNameError\u001b[0m                                 Traceback (most recent call last)",
      "\u001b[1;32m<ipython-input-145-b4a29ce74c2b>\u001b[0m in \u001b[0;36m<module>\u001b[1;34m()\u001b[0m\n\u001b[1;32m----> 1\u001b[1;33m \u001b[0mall_data_nafill\u001b[0m\u001b[1;33m[\u001b[0m\u001b[1;34m'status'\u001b[0m\u001b[1;33m]\u001b[0m\u001b[1;33m.\u001b[0m\u001b[0mapply\u001b[0m\u001b[1;33m(\u001b[0m\u001b[0mpd\u001b[0m\u001b[1;33m.\u001b[0m\u001b[0mSeries\u001b[0m\u001b[1;33m)\u001b[0m\u001b[1;33m\u001b[0m\u001b[0m\n\u001b[0m",
      "\u001b[1;31mNameError\u001b[0m: name 'all_data_nafill' is not defined"
     ]
    }
   ],
   "source": [
    "all_data_nafill['status'].apply(pd.Series)"
   ]
  },
  {
   "cell_type": "code",
   "execution_count": 141,
   "metadata": {
    "collapsed": false
   },
   "outputs": [
    {
     "name": "stderr",
     "output_type": "stream",
     "text": [
      "C:\\Users\\jiaow\\Anaconda2\\lib\\site-packages\\sklearn\\cross_validation.py:44: DeprecationWarning: This module was deprecated in version 0.18 in favor of the model_selection module into which all the refactored classes and functions are moved. Also note that the interface of the new CV iterators are different from that of this module. This module will be removed in 0.20.\n",
      "  \"This module will be removed in 0.20.\", DeprecationWarning)\n"
     ]
    },
    {
     "ename": "NameError",
     "evalue": "name 'df' is not defined",
     "output_type": "error",
     "traceback": [
      "\u001b[1;31m---------------------------------------------------------------------------\u001b[0m",
      "\u001b[1;31mNameError\u001b[0m                                 Traceback (most recent call last)",
      "\u001b[1;32m<ipython-input-141-b0da6d605cd5>\u001b[0m in \u001b[0;36m<module>\u001b[1;34m()\u001b[0m\n\u001b[0;32m      1\u001b[0m \u001b[1;32mfrom\u001b[0m \u001b[0msklearn\u001b[0m\u001b[1;33m.\u001b[0m\u001b[0mcross_validation\u001b[0m \u001b[1;32mimport\u001b[0m \u001b[0mtrain_test_split\u001b[0m\u001b[1;33m\u001b[0m\u001b[0m\n\u001b[1;32m----> 2\u001b[1;33m \u001b[0my\u001b[0m \u001b[1;33m=\u001b[0m \u001b[0mdf\u001b[0m\u001b[1;33m.\u001b[0m\u001b[0mpop\u001b[0m\u001b[1;33m(\u001b[0m\u001b[1;34m'output'\u001b[0m\u001b[1;33m)\u001b[0m\u001b[1;33m\u001b[0m\u001b[0m\n\u001b[0m\u001b[0;32m      3\u001b[0m \u001b[0mX\u001b[0m \u001b[1;33m=\u001b[0m \u001b[0mdf\u001b[0m\u001b[1;33m\u001b[0m\u001b[0m\n\u001b[0;32m      4\u001b[0m \u001b[0mX_train\u001b[0m\u001b[1;33m,\u001b[0m\u001b[0mX_test\u001b[0m\u001b[1;33m,\u001b[0m\u001b[0my_train\u001b[0m\u001b[1;33m,\u001b[0m\u001b[0my_test\u001b[0m \u001b[1;33m=\u001b[0m \u001b[0mtrain_test_split\u001b[0m\u001b[1;33m(\u001b[0m\u001b[0mX\u001b[0m\u001b[1;33m.\u001b[0m\u001b[0mindex\u001b[0m\u001b[1;33m,\u001b[0m\u001b[0my\u001b[0m\u001b[1;33m,\u001b[0m\u001b[0mtest_size\u001b[0m\u001b[1;33m=\u001b[0m\u001b[1;36m0.2\u001b[0m\u001b[1;33m)\u001b[0m\u001b[1;33m\u001b[0m\u001b[0m\n\u001b[0;32m      5\u001b[0m \u001b[0mX\u001b[0m\u001b[1;33m.\u001b[0m\u001b[0miloc\u001b[0m\u001b[1;33m[\u001b[0m\u001b[0mX_train\u001b[0m\u001b[1;33m]\u001b[0m \u001b[1;31m# return dataframe train\u001b[0m\u001b[1;33m\u001b[0m\u001b[0m\n",
      "\u001b[1;31mNameError\u001b[0m: name 'df' is not defined"
     ]
    }
   ],
   "source": [
    "from sklearn.cross_validation import train_test_split\n",
    "y = df.pop('output')\n",
    "X = df\n",
    "X_train,X_test,y_train,y_test = train_test_split(X.index,y,test_size=0.2)\n",
    "X.iloc[X_train] # return dataframe train"
   ]
  }
 ],
 "metadata": {
  "anaconda-cloud": {},
  "kernelspec": {
   "display_name": "Python 2",
   "language": "python",
   "name": "python2"
  },
  "language_info": {
   "codemirror_mode": {
    "name": "ipython",
    "version": 2
   },
   "file_extension": ".py",
   "mimetype": "text/x-python",
   "name": "python",
   "nbconvert_exporter": "python",
   "pygments_lexer": "ipython2",
   "version": "2.7.13"
  }
 },
 "nbformat": 4,
 "nbformat_minor": 0
}
