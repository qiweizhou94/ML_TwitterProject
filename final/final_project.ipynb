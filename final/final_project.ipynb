{
 "cells": [
  {
   "cell_type": "code",
   "execution_count": 1,
   "metadata": {
    "collapsed": false
   },
   "outputs": [
    {
     "name": "stdout",
     "output_type": "stream",
     "text": [
      "(2797, 20)\n",
      "(575, 20)\n"
     ]
    },
    {
     "data": {
      "text/html": [
       "<div>\n",
       "<table border=\"1\" class=\"dataframe\">\n",
       "  <thead>\n",
       "    <tr style=\"text-align: right;\">\n",
       "      <th></th>\n",
       "      <th>id</th>\n",
       "      <th>id_str</th>\n",
       "      <th>screen_name</th>\n",
       "      <th>location</th>\n",
       "      <th>description</th>\n",
       "      <th>url</th>\n",
       "      <th>followers_count</th>\n",
       "      <th>friends_count</th>\n",
       "      <th>listed_count</th>\n",
       "      <th>created_at</th>\n",
       "      <th>favorites_count</th>\n",
       "      <th>verified</th>\n",
       "      <th>statuses_count</th>\n",
       "      <th>lang</th>\n",
       "      <th>status</th>\n",
       "      <th>default_profile</th>\n",
       "      <th>default_profile_image</th>\n",
       "      <th>has_extended_profile</th>\n",
       "      <th>name</th>\n",
       "      <th>bot</th>\n",
       "    </tr>\n",
       "  </thead>\n",
       "  <tbody>\n",
       "    <tr>\n",
       "      <th>0</th>\n",
       "      <td>2.281293e+09</td>\n",
       "      <td>2281292622</td>\n",
       "      <td>__keating</td>\n",
       "      <td>brooklyn</td>\n",
       "      <td>lgbt editor at @buzzfeed. shannon.keating@buzz...</td>\n",
       "      <td>https://t.co/QneJmYRyhj</td>\n",
       "      <td>4466</td>\n",
       "      <td>1295</td>\n",
       "      <td>111</td>\n",
       "      <td>Tue Jan 07 23:26:52 +0000 2014</td>\n",
       "      <td>1579</td>\n",
       "      <td>TRUE</td>\n",
       "      <td>3036</td>\n",
       "      <td>en</td>\n",
       "      <td>{'created_at': 'Tue Apr 11 15:31:51 +0000 2017...</td>\n",
       "      <td>FALSE</td>\n",
       "      <td>FALSE</td>\n",
       "      <td>FALSE</td>\n",
       "      <td>shannon keating</td>\n",
       "      <td>NaN</td>\n",
       "    </tr>\n",
       "    <tr>\n",
       "      <th>1</th>\n",
       "      <td>2.344040e+09</td>\n",
       "      <td>2344040251</td>\n",
       "      <td>_callme_Dani</td>\n",
       "      <td>Los Angeles, CA</td>\n",
       "      <td>News Curation Editor @BuzzFeedNews \\rI do a lo...</td>\n",
       "      <td>NaN</td>\n",
       "      <td>295</td>\n",
       "      <td>1016</td>\n",
       "      <td>10</td>\n",
       "      <td>Fri Feb 14 19:45:56 +0000 2014</td>\n",
       "      <td>300</td>\n",
       "      <td>FALSE</td>\n",
       "      <td>618</td>\n",
       "      <td>en</td>\n",
       "      <td>{'created_at': 'Tue Apr 11 00:56:02 +0000 2017...</td>\n",
       "      <td>FALSE</td>\n",
       "      <td>FALSE</td>\n",
       "      <td>FALSE</td>\n",
       "      <td>Danielle Hopkins</td>\n",
       "      <td>NaN</td>\n",
       "    </tr>\n",
       "  </tbody>\n",
       "</table>\n",
       "</div>"
      ],
      "text/plain": [
       "             id      id_str   screen_name         location  \\\n",
       "0  2.281293e+09  2281292622     __keating         brooklyn   \n",
       "1  2.344040e+09  2344040251  _callme_Dani  Los Angeles, CA   \n",
       "\n",
       "                                         description                      url  \\\n",
       "0  lgbt editor at @buzzfeed. shannon.keating@buzz...  https://t.co/QneJmYRyhj   \n",
       "1  News Curation Editor @BuzzFeedNews \\rI do a lo...                      NaN   \n",
       "\n",
       "  followers_count friends_count listed_count                      created_at  \\\n",
       "0            4466          1295          111  Tue Jan 07 23:26:52 +0000 2014   \n",
       "1             295          1016           10  Fri Feb 14 19:45:56 +0000 2014   \n",
       "\n",
       "  favorites_count verified  statuses_count lang  \\\n",
       "0            1579     TRUE            3036   en   \n",
       "1             300    FALSE             618   en   \n",
       "\n",
       "                                              status default_profile  \\\n",
       "0  {'created_at': 'Tue Apr 11 15:31:51 +0000 2017...           FALSE   \n",
       "1  {'created_at': 'Tue Apr 11 00:56:02 +0000 2017...           FALSE   \n",
       "\n",
       "  default_profile_image has_extended_profile              name  bot  \n",
       "0                 FALSE                FALSE   shannon keating  NaN  \n",
       "1                 FALSE                FALSE  Danielle Hopkins  NaN  "
      ]
     },
     "execution_count": 1,
     "metadata": {},
     "output_type": "execute_result"
    }
   ],
   "source": [
    "import pandas as pd\n",
    "import numpy as np\n",
    "import random\n",
    "import matplotlib.pyplot as plt\n",
    "import csv\n",
    "from pandas import Series\n",
    "%matplotlib inline\n",
    "path_to_data = '../data/'\n",
    "train_data = pd.read_csv(path_to_data + 'training_data.csv')\n",
    "test_data = pd.read_csv(path_to_data + 'test_data.csv')\n",
    "print(train_data.shape)\n",
    "print(test_data.shape)\n",
    "test_data.head(2)"
   ]
  },
  {
   "cell_type": "code",
   "execution_count": 2,
   "metadata": {
    "collapsed": false
   },
   "outputs": [
    {
     "name": "stderr",
     "output_type": "stream",
     "text": [
      "C:\\Users\\qiwei\\Anaconda2\\lib\\site-packages\\sklearn\\cross_validation.py:44: DeprecationWarning: This module was deprecated in version 0.18 in favor of the model_selection module into which all the refactored classes and functions are moved. Also note that the interface of the new CV iterators are different from that of this module. This module will be removed in 0.20.\n",
      "  \"This module will be removed in 0.20.\", DeprecationWarning)\n"
     ]
    }
   ],
   "source": [
    "#status as feature\n",
    "#encode string with utf-8\n",
    "#all_data_nafill['status'] = all_data_nafill['status'].str.decode('iso-8859-1').str.encode('utf-8')\n",
    "\n",
    "test_data_nafill = test_data.fillna('missing')\n",
    "train_data_nafill = train_data.fillna('missing')\n",
    "\n",
    "from sklearn.cross_validation import cross_val_score,train_test_split\n",
    "all_data = train_data_nafill\n",
    "target = train_data.bot\n",
    "X_train, X_test, y_train, y_test = train_test_split(all_data, target, random_state = 1)"
   ]
  },
  {
   "cell_type": "code",
   "execution_count": 3,
   "metadata": {
    "collapsed": false,
    "scrolled": true
   },
   "outputs": [
    {
     "name": "stdout",
     "output_type": "stream",
     "text": [
      "Accuracy: 74.714286%\n",
      "Precision: 75.718850%\n",
      "Recall: 70.118343%\n",
      "F1: 72.811060%\n",
      "AUC: 74.561934%\n"
     ]
    }
   ],
   "source": [
    "#Train CountVectorizer\n",
    "from sklearn.feature_extraction.text import CountVectorizer\n",
    "vectorizer = CountVectorizer()\n",
    "\n",
    "#Train TfidfVectorizer\n",
    "#from sklearn.feature_extraction.text import TfidfVectorizer\n",
    "#vectorizer = TfidfVectorizer(sublinear_tf=True, max_df=0.5,stop_words='english')\n",
    "\n",
    "#Train HashingVectorizer\n",
    "#from sklearn.feature_extraction.text import HashingVectorizer\n",
    "#vectorizer = HashingVectorizer(stop_words='english', non_negative=True)\n",
    "\n",
    "X_train_vec = vectorizer.fit_transform(X_train.status)\n",
    "X_test_vec = vectorizer.transform(X_test.status)\n",
    "    \n",
    "#BernoulliNB\n",
    "from sklearn.naive_bayes import BernoulliNB\n",
    "from sklearn.ensemble import BaggingClassifier\n",
    "clf = BaggingClassifier(BernoulliNB())\n",
    "clf.fit(X_train_vec, y_train)\n",
    "predicted = clf.predict(X_test_vec)\n",
    "\n",
    "from sklearn import metrics\n",
    "print('Accuracy: %f' % (100*metrics.accuracy_score(y_test, predicted)) + '%')\n",
    "print('Precision: %f' % (100*metrics.precision_score(y_test, predicted)) + '%')\n",
    "print('Recall: %f' % (100*metrics.recall_score(y_test, predicted)) + '%')\n",
    "print('F1: %f' % (100*metrics.f1_score(y_test, predicted)) + '%')\n",
    "print('AUC: %f' % (100*metrics.roc_auc_score(y_test, predicted)) + '%')"
   ]
  },
  {
   "cell_type": "code",
   "execution_count": 4,
   "metadata": {
    "collapsed": false
   },
   "outputs": [
    {
     "name": "stdout",
     "output_type": "stream",
     "text": [
      "Accuracy: 74.285714%\n",
      "Precision: 78.623188%\n",
      "Recall: 64.201183%\n",
      "F1: 70.684039%\n",
      "AUC: 73.951420%\n"
     ]
    }
   ],
   "source": [
    "#MultinomialNB\n",
    "from sklearn.naive_bayes import MultinomialNB\n",
    "from sklearn.ensemble import BaggingClassifier\n",
    "clf = BaggingClassifier(MultinomialNB())\n",
    "clf.fit(X_train_vec, y_train)\n",
    "predicted = clf.predict(X_test_vec)\n",
    "\n",
    "from sklearn import metrics\n",
    "print('Accuracy: %f' % (100*metrics.accuracy_score(y_test, predicted)) + '%')\n",
    "print('Precision: %f' % (100*metrics.precision_score(y_test, predicted)) + '%')\n",
    "print('Recall: %f' % (100*metrics.recall_score(y_test, predicted)) + '%')\n",
    "print('F1: %f' % (100*metrics.f1_score(y_test, predicted)) + '%')\n",
    "print('AUC: %f' % (100*metrics.roc_auc_score(y_test, predicted)) + '%')"
   ]
  },
  {
   "cell_type": "code",
   "execution_count": 5,
   "metadata": {
    "collapsed": false
   },
   "outputs": [
    {
     "name": "stdout",
     "output_type": "stream",
     "text": [
      "Accuracy: 77.714286%\n",
      "Precision: 86.111111%\n",
      "Recall: 64.201183%\n",
      "F1: 73.559322%\n",
      "AUC: 77.266338%\n"
     ]
    }
   ],
   "source": [
    "#RandomForest\n",
    "from sklearn.ensemble import RandomForestClassifier\n",
    "clf = RandomForestClassifier()\n",
    "clf = clf.fit(X_train_vec, y_train)\n",
    "predicted = clf.predict(X_test_vec)\n",
    "\n",
    "from sklearn import metrics\n",
    "print('Accuracy: %f' % (100*metrics.accuracy_score(y_test, predicted)) + '%')\n",
    "print('Precision: %f' % (100*metrics.precision_score(y_test, predicted)) + '%')\n",
    "print('Recall: %f' % (100*metrics.recall_score(y_test, predicted)) + '%')\n",
    "print('F1: %f' % (100*metrics.f1_score(y_test, predicted)) + '%')\n",
    "print('AUC: %f' % (100*metrics.roc_auc_score(y_test, predicted)) + '%')"
   ]
  },
  {
   "cell_type": "code",
   "execution_count": 6,
   "metadata": {
    "collapsed": false
   },
   "outputs": [
    {
     "name": "stdout",
     "output_type": "stream",
     "text": [
      "Accuracy: 78.857143%\n",
      "Precision: 76.685393%\n",
      "Recall: 80.769231%\n",
      "F1: 78.674352%\n",
      "AUC: 78.920527%\n"
     ]
    }
   ],
   "source": [
    "#LogisticRegression\n",
    "from sklearn.linear_model import LogisticRegression\n",
    "clf = LogisticRegression()\n",
    "clf = clf.fit(X_train_vec, y_train)\n",
    "predicted = clf.predict(X_test_vec)\n",
    "\n",
    "from sklearn import metrics\n",
    "print('Accuracy: %f' % (100*metrics.accuracy_score(y_test, predicted)) + '%')\n",
    "print('Precision: %f' % (100*metrics.precision_score(y_test, predicted)) + '%')\n",
    "print('Recall: %f' % (100*metrics.recall_score(y_test, predicted)) + '%')\n",
    "print('F1: %f' % (100*metrics.f1_score(y_test, predicted)) + '%')\n",
    "print('AUC: %f' % (100*metrics.roc_auc_score(y_test, predicted)) + '%')"
   ]
  },
  {
   "cell_type": "code",
   "execution_count": 7,
   "metadata": {
    "collapsed": false
   },
   "outputs": [
    {
     "name": "stdout",
     "output_type": "stream",
     "text": [
      "Accuracy: 73.428571%\n",
      "Precision: 83.333333%\n",
      "Recall: 56.213018%\n",
      "F1: 67.137809%\n",
      "AUC: 72.857890%\n"
     ]
    }
   ],
   "source": [
    "X_train_vec = vectorizer.fit_transform(X_train.description)\n",
    "X_test_vec = vectorizer.transform(X_test.description)\n",
    "\n",
    "#LR\n",
    "clf = LogisticRegression()\n",
    "clf = clf.fit(X_train_vec, y_train)\n",
    "desc_predicted = clf.predict(X_test_vec)\n",
    "\n",
    "from sklearn import metrics\n",
    "print('Accuracy: %f' % (100*metrics.accuracy_score(y_test, desc_predicted)) + '%')\n",
    "print('Precision: %f' % (100*metrics.precision_score(y_test, desc_predicted)) + '%')\n",
    "print('Recall: %f' % (100*metrics.recall_score(y_test, desc_predicted)) + '%')\n",
    "print('F1: %f' % (100*metrics.f1_score(y_test, desc_predicted)) + '%')\n",
    "print('AUC: %f' % (100*metrics.roc_auc_score(y_test, desc_predicted)) + '%')"
   ]
  },
  {
   "cell_type": "code",
   "execution_count": 8,
   "metadata": {
    "collapsed": false
   },
   "outputs": [
    {
     "name": "stdout",
     "output_type": "stream",
     "text": [
      "Accuracy: 69.857143%\n",
      "Precision: 72.759857%\n",
      "Recall: 60.059172%\n",
      "F1: 65.802269%\n",
      "AUC: 69.532348%\n"
     ]
    }
   ],
   "source": [
    "X_train_vec = vectorizer.fit_transform(X_train.description)\n",
    "X_test_vec = vectorizer.transform(X_test.description)\n",
    "\n",
    "#RF\n",
    "clf = RandomForestClassifier()\n",
    "clf = clf.fit(X_train_vec, y_train)\n",
    "desc_predicted = clf.predict(X_test_vec)\n",
    "\n",
    "from sklearn import metrics\n",
    "print('Accuracy: %f' % (100*metrics.accuracy_score(y_test, desc_predicted)) + '%')\n",
    "print('Precision: %f' % (100*metrics.precision_score(y_test, desc_predicted)) + '%')\n",
    "print('Recall: %f' % (100*metrics.recall_score(y_test, desc_predicted)) + '%')\n",
    "print('F1: %f' % (100*metrics.f1_score(y_test, desc_predicted)) + '%')\n",
    "print('AUC: %f' % (100*metrics.roc_auc_score(y_test, desc_predicted)) + '%')"
   ]
  },
  {
   "cell_type": "code",
   "execution_count": 9,
   "metadata": {
    "collapsed": false
   },
   "outputs": [
    {
     "name": "stdout",
     "output_type": "stream",
     "text": [
      "Accuracy: 71.714286%\n",
      "Precision: 75.179856%\n",
      "Recall: 61.834320%\n",
      "F1: 67.857143%\n",
      "AUC: 71.386773%\n"
     ]
    }
   ],
   "source": [
    "X_train_vec = vectorizer.fit_transform(X_train.description)\n",
    "X_test_vec = vectorizer.transform(X_test.description)\n",
    "\n",
    "#MB\n",
    "clf = MultinomialNB()\n",
    "clf = clf.fit(X_train_vec, y_train)\n",
    "desc_predicted = clf.predict(X_test_vec)\n",
    "\n",
    "from sklearn import metrics\n",
    "print('Accuracy: %f' % (100*metrics.accuracy_score(y_test, desc_predicted)) + '%')\n",
    "print('Precision: %f' % (100*metrics.precision_score(y_test, desc_predicted)) + '%')\n",
    "print('Recall: %f' % (100*metrics.recall_score(y_test, desc_predicted)) + '%')\n",
    "print('F1: %f' % (100*metrics.f1_score(y_test, desc_predicted)) + '%')\n",
    "print('AUC: %f' % (100*metrics.roc_auc_score(y_test, desc_predicted)) + '%')"
   ]
  },
  {
   "cell_type": "code",
   "execution_count": 10,
   "metadata": {
    "collapsed": false
   },
   "outputs": [
    {
     "name": "stdout",
     "output_type": "stream",
     "text": [
      "Accuracy: 73.428571%\n",
      "Precision: 83.043478%\n",
      "Recall: 56.508876%\n",
      "F1: 67.253521%\n",
      "AUC: 72.867698%\n"
     ]
    }
   ],
   "source": [
    "X_train_vec = vectorizer.fit_transform(X_train.description)\n",
    "X_test_vec = vectorizer.transform(X_test.description)\n",
    "\n",
    "#BB\n",
    "clf = BernoulliNB()\n",
    "clf = clf.fit(X_train_vec, y_train)\n",
    "desc_predicted = clf.predict(X_test_vec)\n",
    "\n",
    "from sklearn import metrics\n",
    "print('Accuracy: %f' % (100*metrics.accuracy_score(y_test, desc_predicted)) + '%')\n",
    "print('Precision: %f' % (100*metrics.precision_score(y_test, desc_predicted)) + '%')\n",
    "print('Recall: %f' % (100*metrics.recall_score(y_test, desc_predicted)) + '%')\n",
    "print('F1: %f' % (100*metrics.f1_score(y_test, desc_predicted)) + '%')\n",
    "print('AUC: %f' % (100*metrics.roc_auc_score(y_test, desc_predicted)) + '%')"
   ]
  },
  {
   "cell_type": "code",
   "execution_count": 11,
   "metadata": {
    "collapsed": false
   },
   "outputs": [
    {
     "name": "stdout",
     "output_type": "stream",
     "text": [
      "Accuracy: 87.142857%\n",
      "Precision: 89.240506%\n",
      "Recall: 83.431953%\n",
      "F1: 86.238532%\n",
      "AUC: 87.019844%\n"
     ]
    }
   ],
   "source": [
    "#LogisticRegression\n",
    "from sklearn.linear_model import LogisticRegression\n",
    "clf = LogisticRegression()\n",
    "clf = clf.fit(X_train_vec, y_train)\n",
    "status_predicted = clf.predict(X_test_vec)\n",
    "\n",
    "n = X_test.shape[0]\n",
    "verified = X_test.verified.values\n",
    "def_profile = X_test.default_profile.values\n",
    "def_profile_img = X_test.default_profile_image.values\n",
    "has_ext_profile = X_test.has_extended_profile.values\n",
    "followers_count = X_test.followers_count.values\n",
    "friends_count = X_test.friends_count.values\n",
    "desc = X_test.description.values\n",
    "listed_count = X_test.listedcount.values\n",
    "favourites_count = X_test.favourites_count.values\n",
    "\n",
    "predicted = status_predicted\n",
    "for i in range(0,n):\n",
    "    if followers_count[i] <= 8:\n",
    "        predicted[i] = 1\n",
    "        continue\n",
    "    if friends_count[i] <= 6:\n",
    "        predicted[i] = 1\n",
    "        continue\n",
    "    if followers_count[i] > 100000:\n",
    "        predicted[i] = 0\n",
    "        continue\n",
    "    if desc[i].lower().find('bot') > 0:\n",
    "        predicted[i] = 1\n",
    "        continue\n",
    "    if desc[i].lower().find('register') > 0:\n",
    "        predicted[i] = 1\n",
    "        continue\n",
    "    if listed_count[i] >= 3000:\n",
    "        predicted[i] = 0\n",
    "    if favourites_count[i] >= 10000:\n",
    "        predicted[i] = 0\n",
    "    if desc_predicted[i] == 0 and predicted[i] == 1:\n",
    "        predicted[i] = 0\n",
    "    if verified[i] == True:\n",
    "        predicted[i] = 0\n",
    "        \n",
    "from sklearn import metrics\n",
    "print('Accuracy: %f' % (100*metrics.accuracy_score(y_test, predicted)) + '%')\n",
    "print('Precision: %f' % (100*metrics.precision_score(y_test, predicted)) + '%')\n",
    "print('Recall: %f' % (100*metrics.recall_score(y_test, predicted)) + '%')\n",
    "print('F1: %f' % (100*metrics.f1_score(y_test, predicted)) + '%')\n",
    "print('AUC: %f' % (100*metrics.roc_auc_score(y_test, predicted)) + '%')"
   ]
  },
  {
   "cell_type": "code",
   "execution_count": 12,
   "metadata": {
    "collapsed": false
   },
   "outputs": [
    {
     "name": "stdout",
     "output_type": "stream",
     "text": [
      "verified: False, followers_count: 61, friends_count: 150, description: missing\n",
      "verified: False, followers_count: 928, friends_count: 20, description: Woof ruff ruff bark bark! Woof! Ruff bark. Bark woof! Woof woof. Ruff. Bark! Woof: http://t.co/Mjhb4f1tHo\n",
      "verified: False, followers_count: 4948, friends_count: 296, description: missing\n",
      "verified: False, followers_count: 14917, friends_count: 227, description: \"Dunia Tempat Berkumpulnya Para Pecinta One Piece! | Get the latest news about #OnePiece here! | One Piece Chapter 858 |\"\n",
      "verified: False, followers_count: 9, friends_count: 93, description: missing\n",
      "verified: False, followers_count: 47, friends_count: 197, description: missing\n",
      "verified: False, followers_count: 1421, friends_count: 2157, description: \"We are a specialist #cycling events and holiday company creating bespoke experiences for all cyclists. #CyclingHolidays #LoveCycling\"\n",
      "verified: False, followers_count: 1637, friends_count: 1770, description: Opportunity is Knock... Tweeting!\n",
      "verified: False, followers_count: 882, friends_count: 231, description: Just a normal teen/future marketer who LOVES #brands! Check out my stream to see me shout out the coolest, most #innovative brands on Twitter and around the web\n",
      "verified: False, followers_count: 15, friends_count: 1941, description: Musician, vegan, animal rights activist.\n",
      "verified: False, followers_count: 576, friends_count: 39, description: IT IS I THE PRINCE OF ALL SAIYANS VEGETA. NOW I'M THE PRINCE OF TWITTER AND NO ONE CAN STOP ME [Nappa: accept Kakarot] EXCEPT KAKA...OH GODDAMN IT NAPPA\n",
      "verified: False, followers_count: 11, friends_count: 745, description: Inspiring cooks everywhere since 1956.\n",
      "verified: False, followers_count: 9301, friends_count: 1830, description: We provide Next Level marketing resources for companies to accelerate their ability to earn an income through social media. #socialselling #onlinemarketing\n",
      "verified: False, followers_count: 38, friends_count: 835, description: Hi;) My login is Duren24 on https://t.co/9qoFAsKgBy\n",
      "verified: False, followers_count: 20, friends_count: 1827, description: The official Twitter account of the United States Marine Corps. The appearance of links does not constitute endorsement.\n",
      "verified: False, followers_count: 24, friends_count: 712, description: missing\n",
      "verified: False, followers_count: 14, friends_count: 214, description: I am a Mom, Wife, and bad a** Correctional Officer!\n",
      "verified: False, followers_count: 467, friends_count: 956, description: äó™ƒø_™‹™ƒ ø_ø±øÂ™_ ™ƒøµø±™_  ...https://t.co/SH9zdJrtEH\n",
      "verified: False, followers_count: 1084, friends_count: 1368, description: missing\n",
      "verified: False, followers_count: 8939, friends_count: 6003, description: News, community and tools for innovators rethinking how #highered can meet the needs of modern learners.\n",
      "verified: False, followers_count: 3738, friends_count: 7, description: missing\n",
      "verified: False, followers_count: 13091, friends_count: 10734, description: \"#inboundmarketing #FacebookAdvertising #directresponsemarketing Digital Skyz is Facebook Ads Customer Acquisition.\"\n",
      "verified: False, followers_count: 539, friends_count: 10, description: \"\"\n",
      "verified: False, followers_count: 49, friends_count: 1537, description: Hey! My contact is Joanne5 on https://t.co/MaPf5xhQTK\n",
      "verified: False, followers_count: 702, friends_count: 1359, description: missing\n",
      "verified: False, followers_count: 16, friends_count: 1862, description: first class charmer.\n",
      "verified: False, followers_count: 17, friends_count: 215, description: missing\n",
      "verified: False, followers_count: 806, friends_count: 4924, description: TURN ON NOTIFICATIONS‰Ï¬\n",
      "verified: False, followers_count: 347, friends_count: 147, description: Follow me and know me better\n",
      "verified: False, followers_count: 85, friends_count: 4707, description: Honey! Let's have some fun? I'm here (my login same in tw) -  https://t.co/rYVNhsOY80\n",
      "verified: False, followers_count: 99, friends_count: 563, description: Trading, oil market and chart analysis\n",
      "verified: False, followers_count: 168, friends_count: 224, description: massive coop dungeon crawl // help a cool cat get out of the dungeon with direction words. starts at floor 27. ends at floor 0. by @lichlike / @tylercallich\n",
      "verified: False, followers_count: 413, friends_count: 148, description: Giving plants a voice!\n",
      "verified: False, followers_count: 14, friends_count: 253, description: missing\n",
      "verified: False, followers_count: 12, friends_count: 1053, description: see me live here https://t.co/bk16pVODRO\n",
      "verified: False, followers_count: 35, friends_count: 2118, description: I will not eat oysters. I want my food dead. Not sick. Not wounded. Dead.\n",
      "verified: False, followers_count: 684, friends_count: 68, description: \"_____________________________________________ ________googlemap______________________________#____GO #____ #______\"\n",
      "verified: True, followers_count: 88195, friends_count: 82994, description: CEO @influenceandco, @Forbes @Inc columnist, speaker, father/husband. I work with some of the best brands and most influential people to grow their influence\n",
      "verified: False, followers_count: 11, friends_count: 820, description: Actress, director, author, animal lover\n",
      "verified: False, followers_count: 18, friends_count: 334, description: missing\n",
      "verified: False, followers_count: 602, friends_count: 830, description: i know right? #wowwwnetwork\n",
      "verified: False, followers_count: 29, friends_count: 97, description: Shakir Chodhri  i\n",
      "verified: False, followers_count: 23, friends_count: 121, description: Late adopter.\n",
      "verified: False, followers_count: 21, friends_count: 2033, description: OTF GLOCKBOYZ\n",
      "verified: False, followers_count: 957, friends_count: 2826, description: \"Our aim is to find the most competitive deals for Ireland's businesses & homeowners from all energy suppliers. Impartial-Independent-Trustworthy #onecall4all\"\n",
      "verified: False, followers_count: 17, friends_count: 1926, description: The official Twitter account of the National Basketball Players Association.\n",
      "verified: False, followers_count: 67, friends_count: 242, description: go subscribe to my channel http://t.co/tMLNHqUGp9\n",
      "verified: False, followers_count: 98, friends_count: 274, description: missing\n",
      "verified: False, followers_count: 6859, friends_count: 5458, description: ugh dad\n",
      "verified: False, followers_count: 835, friends_count: 2290, description: NIFOC\n",
      "verified: False, followers_count: 33, friends_count: 2272, description: Psychotherapist. Special Education Advocate. Armchair Philosopher. Crusader for the downtrodden. Appreciator of good ideas. Film Buff. Mommy.\n",
      "verified: False, followers_count: 54, friends_count: 1351, description: missing\n",
      "verified: False, followers_count: 500, friends_count: 726, description: OT4 and Zayn__\n",
      "verified: False, followers_count: 1514, friends_count: 4218, description: missing\n",
      "verified: False, followers_count: 102, friends_count: 86, description: missing\n",
      "verified: False, followers_count: 251, friends_count: 131, description: CEO PYRAMID OVERLORD ‰_Ê BUSINESS ANALYSIS FOR FINANCIAL DOMINATION ‰_Ê ALL WILL BOW BEFORE BIG DATA OPTIMIZATION  ‰_Ê LINKEDIN MASTERBEING\n"
     ]
    }
   ],
   "source": [
    "for i in range(0, n):\n",
    "    if predicted[i] == 0 and y_test.values[i] == 1:\n",
    "        print('verified: %s, followers_count: %s, friends_count: %s, description: %s' %( verified[i], followers_count[i], friends_count[i], desc[i]))\n",
    "        #print('def_profile: %s', def_profile[i])\n",
    "        #print('def_profile_img', def_profile_img[i]))\n",
    "        #print('has_ext_profile', has_ext_profile[i])"
   ]
  },
  {
   "cell_type": "code",
   "execution_count": 13,
   "metadata": {
    "collapsed": false
   },
   "outputs": [
    {
     "data": {
      "text/plain": [
       "<function close>"
      ]
     },
     "execution_count": 13,
     "metadata": {},
     "output_type": "execute_result"
    }
   ],
   "source": [
    "\n"
   ]
  },
  {
   "cell_type": "code",
   "execution_count": 17,
   "metadata": {
    "collapsed": false
   },
   "outputs": [
    {
     "data": {
      "text/plain": [
       "575"
      ]
     },
     "execution_count": 17,
     "metadata": {},
     "output_type": "execute_result"
    }
   ],
   "source": [
    "n"
   ]
  },
  {
   "cell_type": "code",
   "execution_count": 15,
   "metadata": {
    "collapsed": false
   },
   "outputs": [
    {
     "data": {
      "text/plain": [
       "(575L,)"
      ]
     },
     "execution_count": 15,
     "metadata": {},
     "output_type": "execute_result"
    }
   ],
   "source": [
    "status_predicted.shape"
   ]
  },
  {
   "cell_type": "code",
   "execution_count": 16,
   "metadata": {
    "collapsed": false
   },
   "outputs": [
    {
     "data": {
      "text/plain": [
       "(575, 20)"
      ]
     },
     "execution_count": 16,
     "metadata": {},
     "output_type": "execute_result"
    }
   ],
   "source": [
    "test_data_nafill.shape"
   ]
  },
  {
   "cell_type": "code",
   "execution_count": null,
   "metadata": {
    "collapsed": true
   },
   "outputs": [],
   "source": []
  }
 ],
 "metadata": {
  "kernelspec": {
   "display_name": "Python 2",
   "language": "python",
   "name": "python2"
  },
  "language_info": {
   "codemirror_mode": {
    "name": "ipython",
    "version": 2
   },
   "file_extension": ".py",
   "mimetype": "text/x-python",
   "name": "python",
   "nbconvert_exporter": "python",
   "pygments_lexer": "ipython2",
   "version": "2.7.13"
  }
 },
 "nbformat": 4,
 "nbformat_minor": 2
}
